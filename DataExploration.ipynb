{
 "cells": [
  {
   "cell_type": "markdown",
   "metadata": {},
   "source": [
    "### Second Amendment\n",
    "A **well regulated** Militia, being necessary to the security of a free State, the right of the people to keep and bear Arms, shall not be infringed."
   ]
  },
  {
   "cell_type": "markdown",
   "metadata": {},
   "source": [
    "## Import dependencies"
   ]
  },
  {
   "cell_type": "code",
   "execution_count": 41,
   "metadata": {},
   "outputs": [],
   "source": [
    "import pandas as pd\n",
    "from pathlib import Path\n",
    "from data_exploration import dataset_info\n",
    "\n",
    "# Local modules\n",
    "from codes import code_column_names\n",
    "from data_exploration import dataset_info"
   ]
  },
  {
   "cell_type": "markdown",
   "metadata": {},
   "source": [
    "## Load Data"
   ]
  },
  {
   "cell_type": "code",
   "execution_count": null,
   "metadata": {},
   "outputs": [],
   "source": []
  },
  {
   "cell_type": "markdown",
   "metadata": {},
   "source": [
    "# Questions"
   ]
  },
  {
   "cell_type": "markdown",
   "metadata": {},
   "source": [
    "## Question 1: what are the states with the most and fewest shootings"
   ]
  },
  {
   "cell_type": "code",
   "execution_count": 16,
   "metadata": {},
   "outputs": [
    {
     "name": "stdout",
     "output_type": "stream",
     "text": [
      "The Top 7 states for mass shootings are:\n"
     ]
    },
    {
     "data": {
      "text/plain": [
       "State\n",
       "CA    30\n",
       "TX    21\n",
       "FL    13\n",
       "NY    10\n",
       "PA     9\n",
       "CO     9\n",
       "WA     8\n",
       "Name: Case #, dtype: int64"
      ]
     },
     "metadata": {},
     "output_type": "display_data"
    },
    {
     "name": "stdout",
     "output_type": "stream",
     "text": [
      "The Bottom 7 states for mass shootings are:\n"
     ]
    },
    {
     "data": {
      "text/plain": [
       "State\n",
       "RI    1\n",
       "NH    1\n",
       "DC    1\n",
       "NE    1\n",
       "UT    1\n",
       "MA    1\n",
       "MD    1\n",
       "Name: Case #, dtype: int64"
      ]
     },
     "metadata": {},
     "output_type": "display_data"
    }
   ],
   "source": [
    "attacks_per_state_df = attacks_df.groupby('State')['Case #'].count().sort_values(ascending=False)\n",
    "\n",
    "Nt = 7\n",
    "\n",
    "print(f\"The Top {Nt} states for mass shootings are:\")\n",
    "display(attacks_per_state_df.head(Nt))\n",
    "\n",
    "print(f\"The Bottom {Nt} states for mass shootings are:\")\n",
    "display(attacks_per_state_df.tail(Nt))"
   ]
  },
  {
   "cell_type": "markdown",
   "metadata": {},
   "source": [
    "### Follow up questions\n",
    "- More people in a state = more shootings?\n",
    "- Political orientation\n",
    "- Views on gun in the state\n",
    "- Background checks"
   ]
  },
  {
   "cell_type": "markdown",
   "metadata": {},
   "source": [
    "## Question 2: What are some common traits (background) of shooters?"
   ]
  },
  {
   "cell_type": "markdown",
   "metadata": {},
   "source": [
    "### Most common race and gender"
   ]
  },
  {
   "cell_type": "code",
   "execution_count": 17,
   "metadata": {},
   "outputs": [],
   "source": [
    "Codes = {\n",
    "    'background': {\n",
    "        'gender': {\n",
    "            '0': 'Male',\n",
    "            '1': 'Female',\n",
    "            '3': 'Non-Binary',\n",
    "            '4': 'Transgender'\n",
    "        },\n",
    "        'race': {\n",
    "            '0': 'White',\n",
    "            '1': 'Black',\n",
    "            '2': 'Latinx',\n",
    "            '3': 'Asian',\n",
    "            '4': 'Middle Eastern',\n",
    "            '5': 'Native American'\n",
    "        }\n",
    "    }\n",
    "}"
   ]
  },
  {
   "cell_type": "code",
   "execution_count": 33,
   "metadata": {},
   "outputs": [
    {
     "data": {
      "text/plain": [
       "0           102\n",
       "1            40\n",
       "2            17\n",
       "3            13\n",
       "4             8\n",
       "5             3\n",
       "Moroccan      1\n",
       "Bosnian       1\n",
       "Name: Race, dtype: int64"
      ]
     },
     "execution_count": 33,
     "metadata": {},
     "output_type": "execute_result"
    }
   ],
   "source": [
    "attacks_df['Race'].value_counts()"
   ]
  },
  {
   "cell_type": "code",
   "execution_count": 36,
   "metadata": {},
   "outputs": [
    {
     "data": {
      "text/plain": [
       "Float64Index([0.0, 1.0, 3.0, 4.0], dtype='float64')"
      ]
     },
     "execution_count": 36,
     "metadata": {},
     "output_type": "execute_result"
    }
   ],
   "source": [
    "per_gender_df = attacks_df['Gender'].value_counts()\n",
    "per_gender_df.index"
   ]
  },
  {
   "cell_type": "code",
   "execution_count": 27,
   "metadata": {},
   "outputs": [
    {
     "ename": "KeyError",
     "evalue": "'2'",
     "output_type": "error",
     "traceback": [
      "\u001b[1;31m---------------------------------------------------------------------------\u001b[0m",
      "\u001b[1;31mKeyError\u001b[0m                                  Traceback (most recent call last)",
      "\u001b[1;32mc:\\Users\\User\\OneDrive\\Documents\\10 - Career\\Monash University\\Data Analytics Bootcamp\\Project 4\\GunViolence\\DataExploration.ipynb Cell 12\u001b[0m line \u001b[0;36m3\n\u001b[0;32m      <a href='vscode-notebook-cell:/c%3A/Users/User/OneDrive/Documents/10%20-%20Career/Monash%20University/Data%20Analytics%20Bootcamp/Project%204/GunViolence/DataExploration.ipynb#X15sZmlsZQ%3D%3D?line=0'>1</a>\u001b[0m gender \u001b[39m=\u001b[39m \u001b[39m2\u001b[39m\n\u001b[1;32m----> <a href='vscode-notebook-cell:/c%3A/Users/User/OneDrive/Documents/10%20-%20Career/Monash%20University/Data%20Analytics%20Bootcamp/Project%204/GunViolence/DataExploration.ipynb#X15sZmlsZQ%3D%3D?line=2'>3</a>\u001b[0m Codes[\u001b[39m'\u001b[39;49m\u001b[39mbackground\u001b[39;49m\u001b[39m'\u001b[39;49m][\u001b[39m'\u001b[39;49m\u001b[39mgender\u001b[39;49m\u001b[39m'\u001b[39;49m][\u001b[39mstr\u001b[39;49m(gender)]\n",
      "\u001b[1;31mKeyError\u001b[0m: '2'"
     ]
    }
   ],
   "source": [
    "gender = 2\n",
    "\n",
    "Codes['background']['gender'][str(gender)]"
   ]
  }
 ],
 "metadata": {
  "kernelspec": {
   "display_name": "dev",
   "language": "python",
   "name": "python3"
  },
  "language_info": {
   "codemirror_mode": {
    "name": "ipython",
    "version": 3
   },
   "file_extension": ".py",
   "mimetype": "text/x-python",
   "name": "python",
   "nbconvert_exporter": "python",
   "pygments_lexer": "ipython3",
   "version": "3.10.11"
  }
 },
 "nbformat": 4,
 "nbformat_minor": 2
}
