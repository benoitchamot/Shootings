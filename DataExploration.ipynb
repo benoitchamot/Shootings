{
 "cells": [
  {
   "cell_type": "markdown",
   "metadata": {},
   "source": [
    "### Second Amendment\n",
    "A **well regulated** Militia, being necessary to the security of a free State, the right of the people to keep and bear Arms, shall not be infringed."
   ]
  },
  {
   "cell_type": "markdown",
   "metadata": {},
   "source": [
    "## Import dependencies"
   ]
  },
  {
   "cell_type": "code",
   "execution_count": 1,
   "metadata": {},
   "outputs": [],
   "source": [
    "import pandas as pd\n",
    "from pathlib import Path\n",
    "\n",
    "# Ignnore warning\n",
    "import warnings\n",
    "warnings.simplefilter(action='ignore')\n",
    "\n",
    "# Local modules\n",
    "from codes import code_column_names\n",
    "from data_exploration import dataset_info"
   ]
  },
  {
   "cell_type": "markdown",
   "metadata": {},
   "source": [
    "## Load Data"
   ]
  },
  {
   "cell_type": "code",
   "execution_count": 2,
   "metadata": {},
   "outputs": [],
   "source": [
    "cases_df = pd.read_csv(Path('clean_data/clean_cases.csv'))\n",
    "firearms_df = pd.read_csv(Path('clean_data/clean_firearms.csv'))\n",
    "shooters_df = pd.read_csv(Path('clean_data/clean_shooters.csv'))"
   ]
  },
  {
   "cell_type": "markdown",
   "metadata": {},
   "source": [
    "# Questions"
   ]
  },
  {
   "cell_type": "markdown",
   "metadata": {},
   "source": [
    "## Question 1: what are the states with the most and fewest shootings"
   ]
  },
  {
   "cell_type": "code",
   "execution_count": 3,
   "metadata": {},
   "outputs": [
    {
     "name": "stdout",
     "output_type": "stream",
     "text": [
      "The Top 7 states for mass shootings are:\n"
     ]
    },
    {
     "data": {
      "text/plain": [
       "State\n",
       "CA    30\n",
       "TX    21\n",
       "FL    13\n",
       "NY    10\n",
       "CO     9\n",
       "PA     8\n",
       "WA     8\n",
       "Name: Case #, dtype: int64"
      ]
     },
     "metadata": {},
     "output_type": "display_data"
    },
    {
     "name": "stdout",
     "output_type": "stream",
     "text": [
      "The Bottom 7 states for mass shootings are:\n"
     ]
    },
    {
     "data": {
      "text/plain": [
       "State\n",
       "RI    1\n",
       "NH    1\n",
       "DC    1\n",
       "NE    1\n",
       "UT    1\n",
       "MA    1\n",
       "MD    1\n",
       "Name: Case #, dtype: int64"
      ]
     },
     "metadata": {},
     "output_type": "display_data"
    }
   ],
   "source": [
    "attacks_per_state_df = cases_df.groupby('State')['Case #'].count().sort_values(ascending=False)\n",
    "\n",
    "Nt = 7\n",
    "\n",
    "print(f\"The Top {Nt} states for mass shootings are:\")\n",
    "display(attacks_per_state_df.head(Nt))\n",
    "\n",
    "print(f\"The Bottom {Nt} states for mass shootings are:\")\n",
    "display(attacks_per_state_df.tail(Nt))"
   ]
  },
  {
   "cell_type": "markdown",
   "metadata": {},
   "source": [
    "### Follow up questions\n",
    "- More people in a state = more shootings?\n",
    "- Political orientation\n",
    "- Views on gun in the state\n",
    "- Background checks"
   ]
  },
  {
   "cell_type": "markdown",
   "metadata": {},
   "source": [
    "## Question 2: What are some common traits (background) of shooters?"
   ]
  },
  {
   "cell_type": "markdown",
   "metadata": {},
   "source": [
    "### Most common race and gender"
   ]
  },
  {
   "cell_type": "code",
   "execution_count": 17,
   "metadata": {},
   "outputs": [],
   "source": [
    "Codes = {\n",
    "    'background': {\n",
    "        'gender': {\n",
    "            '0': 'Male',\n",
    "            '1': 'Female',\n",
    "            '3': 'Non-Binary',\n",
    "            '4': 'Transgender'\n",
    "        },\n",
    "        'race': {\n",
    "            '0': 'White',\n",
    "            '1': 'Black',\n",
    "            '2': 'Latinx',\n",
    "            '3': 'Asian',\n",
    "            '4': 'Middle Eastern',\n",
    "            '5': 'Native American'\n",
    "        }\n",
    "    }\n",
    "}"
   ]
  },
  {
   "cell_type": "code",
   "execution_count": 4,
   "metadata": {},
   "outputs": [
    {
     "data": {
      "text/plain": [
       " 0.0    103\n",
       " 1.0     40\n",
       " 2.0     17\n",
       " 3.0     13\n",
       " 4.0      9\n",
       "-1.0      8\n",
       " 5.0      3\n",
       "Name: Race, dtype: int64"
      ]
     },
     "execution_count": 4,
     "metadata": {},
     "output_type": "execute_result"
    }
   ],
   "source": [
    "shooters_df['Race'].value_counts()"
   ]
  },
  {
   "cell_type": "code",
   "execution_count": 6,
   "metadata": {},
   "outputs": [
    {
     "data": {
      "text/plain": [
       "0    187\n",
       "1      4\n",
       "3      1\n",
       "4      1\n",
       "Name: Gender, dtype: int64"
      ]
     },
     "execution_count": 6,
     "metadata": {},
     "output_type": "execute_result"
    }
   ],
   "source": [
    "shooters_df['Gender'].value_counts()"
   ]
  }
 ],
 "metadata": {
  "kernelspec": {
   "display_name": "dev",
   "language": "python",
   "name": "python3"
  },
  "language_info": {
   "codemirror_mode": {
    "name": "ipython",
    "version": 3
   },
   "file_extension": ".py",
   "mimetype": "text/x-python",
   "name": "python",
   "nbconvert_exporter": "python",
   "pygments_lexer": "ipython3",
   "version": "3.10.11"
  }
 },
 "nbformat": 4,
 "nbformat_minor": 2
}
