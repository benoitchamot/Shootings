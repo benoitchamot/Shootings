{
 "cells": [
  {
   "cell_type": "markdown",
   "metadata": {},
   "source": [
    "### Second Amendment\n",
    "A **well regulated** Militia, being necessary to the security of a free State, the right of the people to keep and bear Arms, shall not be infringed."
   ]
  },
  {
   "cell_type": "markdown",
   "metadata": {},
   "source": [
    "## Import dependencies"
   ]
  },
  {
   "cell_type": "code",
   "execution_count": 88,
   "metadata": {},
   "outputs": [
    {
     "ename": "ImportError",
     "evalue": "cannot import name 'get_distribution' from 'codebook' (c:\\Users\\User\\OneDrive\\Documents\\10 - Career\\Monash University\\Data Analytics Bootcamp\\Project 4\\Shootings\\Local_Modules\\codebook.py)",
     "output_type": "error",
     "traceback": [
      "\u001b[1;31m---------------------------------------------------------------------------\u001b[0m",
      "\u001b[1;31mImportError\u001b[0m                               Traceback (most recent call last)",
      "\u001b[1;32mc:\\Users\\User\\OneDrive\\Documents\\10 - Career\\Monash University\\Data Analytics Bootcamp\\Project 4\\Shootings\\DataExploration.ipynb Cell 3\u001b[0m line \u001b[0;36m1\n\u001b[0;32m     <a href='vscode-notebook-cell:/c%3A/Users/User/OneDrive/Documents/10%20-%20Career/Monash%20University/Data%20Analytics%20Bootcamp/Project%204/Shootings/DataExploration.ipynb#W2sZmlsZQ%3D%3D?line=9'>10</a>\u001b[0m sys\u001b[39m.\u001b[39mpath\u001b[39m.\u001b[39mappend(\u001b[39m\"\u001b[39m\u001b[39mLocal_Modules/\u001b[39m\u001b[39m\"\u001b[39m)\n\u001b[0;32m     <a href='vscode-notebook-cell:/c%3A/Users/User/OneDrive/Documents/10%20-%20Career/Monash%20University/Data%20Analytics%20Bootcamp/Project%204/Shootings/DataExploration.ipynb#W2sZmlsZQ%3D%3D?line=10'>11</a>\u001b[0m \u001b[39mimport\u001b[39;00m \u001b[39mcodebook\u001b[39;00m\n\u001b[1;32m---> <a href='vscode-notebook-cell:/c%3A/Users/User/OneDrive/Documents/10%20-%20Career/Monash%20University/Data%20Analytics%20Bootcamp/Project%204/Shootings/DataExploration.ipynb#W2sZmlsZQ%3D%3D?line=11'>12</a>\u001b[0m \u001b[39mfrom\u001b[39;00m \u001b[39mcodebook\u001b[39;00m \u001b[39mimport\u001b[39;00m replace_code_by_value, get_distribution\n\u001b[0;32m     <a href='vscode-notebook-cell:/c%3A/Users/User/OneDrive/Documents/10%20-%20Career/Monash%20University/Data%20Analytics%20Bootcamp/Project%204/Shootings/DataExploration.ipynb#W2sZmlsZQ%3D%3D?line=12'>13</a>\u001b[0m \u001b[39mfrom\u001b[39;00m \u001b[39mdata_exploration\u001b[39;00m \u001b[39mimport\u001b[39;00m dataset_info\n",
      "\u001b[1;31mImportError\u001b[0m: cannot import name 'get_distribution' from 'codebook' (c:\\Users\\User\\OneDrive\\Documents\\10 - Career\\Monash University\\Data Analytics Bootcamp\\Project 4\\Shootings\\Local_Modules\\codebook.py)"
     ]
    }
   ],
   "source": [
    "import pandas as pd\n",
    "from pathlib import Path\n",
    "import sys\n",
    "\n",
    "# Ignnore warning\n",
    "import warnings\n",
    "warnings.simplefilter(action='ignore')\n",
    "\n",
    "# Local modules\n",
    "sys.path.append(\"Local_Modules/\")\n",
    "import codebook\n",
    "from codebook import replace_code_by_value, get_distribution\n",
    "from data_exploration import dataset_info"
   ]
  },
  {
   "cell_type": "markdown",
   "metadata": {},
   "source": [
    "## Load Data"
   ]
  },
  {
   "cell_type": "code",
   "execution_count": 4,
   "metadata": {},
   "outputs": [],
   "source": [
    "cases_df = pd.read_csv(Path('clean_data/clean_cases.csv'))\n",
    "firearms_df = pd.read_csv(Path('clean_data/clean_firearms.csv'))\n",
    "shooters_df = pd.read_csv(Path('clean_data/clean_shooters.csv'))"
   ]
  },
  {
   "cell_type": "markdown",
   "metadata": {},
   "source": [
    "# Questions"
   ]
  },
  {
   "cell_type": "markdown",
   "metadata": {},
   "source": [
    "## Question 1: what are the states with the most and fewest shootings"
   ]
  },
  {
   "cell_type": "code",
   "execution_count": 5,
   "metadata": {},
   "outputs": [
    {
     "name": "stdout",
     "output_type": "stream",
     "text": [
      "The Top 7 states for mass shootings are:\n"
     ]
    },
    {
     "data": {
      "text/plain": [
       "State\n",
       "CA    30\n",
       "TX    21\n",
       "FL    13\n",
       "NY    10\n",
       "CO     9\n",
       "PA     8\n",
       "WA     8\n",
       "Name: Case #, dtype: int64"
      ]
     },
     "metadata": {},
     "output_type": "display_data"
    },
    {
     "name": "stdout",
     "output_type": "stream",
     "text": [
      "The Bottom 7 states for mass shootings are:\n"
     ]
    },
    {
     "data": {
      "text/plain": [
       "State\n",
       "RI    1\n",
       "NH    1\n",
       "DC    1\n",
       "NE    1\n",
       "UT    1\n",
       "MA    1\n",
       "MD    1\n",
       "Name: Case #, dtype: int64"
      ]
     },
     "metadata": {},
     "output_type": "display_data"
    }
   ],
   "source": [
    "attacks_per_state_df = cases_df.groupby('State')['Case #'].count().sort_values(ascending=False)\n",
    "\n",
    "Nt = 7\n",
    "\n",
    "print(f\"The Top {Nt} states for mass shootings are:\")\n",
    "display(attacks_per_state_df.head(Nt))\n",
    "\n",
    "print(f\"The Bottom {Nt} states for mass shootings are:\")\n",
    "display(attacks_per_state_df.tail(Nt))"
   ]
  },
  {
   "cell_type": "markdown",
   "metadata": {},
   "source": [
    "### Follow up questions\n",
    "- More people in a state = more shootings?\n",
    "- Political orientation\n",
    "- Views on gun in the state\n",
    "- Background checks"
   ]
  },
  {
   "cell_type": "markdown",
   "metadata": {},
   "source": [
    "## Question 2: What are some common traits (background) of shooters?"
   ]
  },
  {
   "cell_type": "markdown",
   "metadata": {},
   "source": [
    "### Most common race and gender"
   ]
  },
  {
   "cell_type": "code",
   "execution_count": 6,
   "metadata": {},
   "outputs": [],
   "source": [
    "\n"
   ]
  },
  {
   "cell_type": "code",
   "execution_count": 7,
   "metadata": {},
   "outputs": [
    {
     "data": {
      "text/html": [
       "<div>\n",
       "<style scoped>\n",
       "    .dataframe tbody tr th:only-of-type {\n",
       "        vertical-align: middle;\n",
       "    }\n",
       "\n",
       "    .dataframe tbody tr th {\n",
       "        vertical-align: top;\n",
       "    }\n",
       "\n",
       "    .dataframe thead th {\n",
       "        text-align: right;\n",
       "    }\n",
       "</style>\n",
       "<table border=\"1\" class=\"dataframe\">\n",
       "  <thead>\n",
       "    <tr style=\"text-align: right;\">\n",
       "      <th></th>\n",
       "      <th>Gender</th>\n",
       "      <th>Percent</th>\n",
       "    </tr>\n",
       "  </thead>\n",
       "  <tbody>\n",
       "    <tr>\n",
       "      <th>Male</th>\n",
       "      <td>187</td>\n",
       "      <td>96.891192</td>\n",
       "    </tr>\n",
       "    <tr>\n",
       "      <th>Female</th>\n",
       "      <td>4</td>\n",
       "      <td>2.072539</td>\n",
       "    </tr>\n",
       "    <tr>\n",
       "      <th>Non-Binary</th>\n",
       "      <td>1</td>\n",
       "      <td>0.518135</td>\n",
       "    </tr>\n",
       "    <tr>\n",
       "      <th>Transgender</th>\n",
       "      <td>1</td>\n",
       "      <td>0.518135</td>\n",
       "    </tr>\n",
       "  </tbody>\n",
       "</table>\n",
       "</div>"
      ],
      "text/plain": [
       "             Gender    Percent\n",
       "Male            187  96.891192\n",
       "Female            4   2.072539\n",
       "Non-Binary        1   0.518135\n",
       "Transgender       1   0.518135"
      ]
     },
     "execution_count": 7,
     "metadata": {},
     "output_type": "execute_result"
    }
   ],
   "source": [
    "stat_df = get_distribution(shooters_df, 'Gender', codebook.codes_shooter_background_gender)\n",
    "stat_df"
   ]
  },
  {
   "cell_type": "code",
   "execution_count": 8,
   "metadata": {},
   "outputs": [
    {
     "data": {
      "text/html": [
       "<div>\n",
       "<style scoped>\n",
       "    .dataframe tbody tr th:only-of-type {\n",
       "        vertical-align: middle;\n",
       "    }\n",
       "\n",
       "    .dataframe tbody tr th {\n",
       "        vertical-align: top;\n",
       "    }\n",
       "\n",
       "    .dataframe thead th {\n",
       "        text-align: right;\n",
       "    }\n",
       "</style>\n",
       "<table border=\"1\" class=\"dataframe\">\n",
       "  <thead>\n",
       "    <tr style=\"text-align: right;\">\n",
       "      <th></th>\n",
       "      <th>Race</th>\n",
       "      <th>Percent</th>\n",
       "    </tr>\n",
       "  </thead>\n",
       "  <tbody>\n",
       "    <tr>\n",
       "      <th>White</th>\n",
       "      <td>103</td>\n",
       "      <td>53.367876</td>\n",
       "    </tr>\n",
       "    <tr>\n",
       "      <th>Black</th>\n",
       "      <td>40</td>\n",
       "      <td>20.725389</td>\n",
       "    </tr>\n",
       "    <tr>\n",
       "      <th>Latinx</th>\n",
       "      <td>17</td>\n",
       "      <td>8.808290</td>\n",
       "    </tr>\n",
       "    <tr>\n",
       "      <th>Asian</th>\n",
       "      <td>13</td>\n",
       "      <td>6.735751</td>\n",
       "    </tr>\n",
       "    <tr>\n",
       "      <th>Middle Eastern</th>\n",
       "      <td>9</td>\n",
       "      <td>4.663212</td>\n",
       "    </tr>\n",
       "    <tr>\n",
       "      <th>Unknown</th>\n",
       "      <td>8</td>\n",
       "      <td>4.145078</td>\n",
       "    </tr>\n",
       "    <tr>\n",
       "      <th>Native American</th>\n",
       "      <td>3</td>\n",
       "      <td>1.554404</td>\n",
       "    </tr>\n",
       "  </tbody>\n",
       "</table>\n",
       "</div>"
      ],
      "text/plain": [
       "                 Race    Percent\n",
       "White             103  53.367876\n",
       "Black              40  20.725389\n",
       "Latinx             17   8.808290\n",
       "Asian              13   6.735751\n",
       "Middle Eastern      9   4.663212\n",
       "Unknown             8   4.145078\n",
       "Native American     3   1.554404"
      ]
     },
     "execution_count": 8,
     "metadata": {},
     "output_type": "execute_result"
    }
   ],
   "source": [
    "stat_df = get_distribution(shooters_df, 'Race', codebook.codes_shooter_background_race)\n",
    "stat_df"
   ]
  },
  {
   "cell_type": "markdown",
   "metadata": {},
   "source": [
    "### Immigrants status and religion"
   ]
  },
  {
   "cell_type": "code",
   "execution_count": 9,
   "metadata": {},
   "outputs": [
    {
     "data": {
      "text/html": [
       "<div>\n",
       "<style scoped>\n",
       "    .dataframe tbody tr th:only-of-type {\n",
       "        vertical-align: middle;\n",
       "    }\n",
       "\n",
       "    .dataframe tbody tr th {\n",
       "        vertical-align: top;\n",
       "    }\n",
       "\n",
       "    .dataframe thead th {\n",
       "        text-align: right;\n",
       "    }\n",
       "</style>\n",
       "<table border=\"1\" class=\"dataframe\">\n",
       "  <thead>\n",
       "    <tr style=\"text-align: right;\">\n",
       "      <th></th>\n",
       "      <th>Immigrant</th>\n",
       "      <th>Percent</th>\n",
       "    </tr>\n",
       "  </thead>\n",
       "  <tbody>\n",
       "    <tr>\n",
       "      <th>No</th>\n",
       "      <td>162</td>\n",
       "      <td>83.937824</td>\n",
       "    </tr>\n",
       "    <tr>\n",
       "      <th>Yes</th>\n",
       "      <td>30</td>\n",
       "      <td>15.544041</td>\n",
       "    </tr>\n",
       "    <tr>\n",
       "      <th>Unknown</th>\n",
       "      <td>1</td>\n",
       "      <td>0.518135</td>\n",
       "    </tr>\n",
       "  </tbody>\n",
       "</table>\n",
       "</div>"
      ],
      "text/plain": [
       "         Immigrant    Percent\n",
       "No             162  83.937824\n",
       "Yes             30  15.544041\n",
       "Unknown          1   0.518135"
      ]
     },
     "execution_count": 9,
     "metadata": {},
     "output_type": "execute_result"
    }
   ],
   "source": [
    "stat_df = get_distribution(shooters_df, 'Immigrant', codebook.codes_shooter_background_immigrant)\n",
    "stat_df"
   ]
  },
  {
   "cell_type": "code",
   "execution_count": 10,
   "metadata": {},
   "outputs": [
    {
     "data": {
      "text/html": [
       "<div>\n",
       "<style scoped>\n",
       "    .dataframe tbody tr th:only-of-type {\n",
       "        vertical-align: middle;\n",
       "    }\n",
       "\n",
       "    .dataframe tbody tr th {\n",
       "        vertical-align: top;\n",
       "    }\n",
       "\n",
       "    .dataframe thead th {\n",
       "        text-align: right;\n",
       "    }\n",
       "</style>\n",
       "<table border=\"1\" class=\"dataframe\">\n",
       "  <thead>\n",
       "    <tr style=\"text-align: right;\">\n",
       "      <th></th>\n",
       "      <th>Religion</th>\n",
       "      <th>Percent</th>\n",
       "    </tr>\n",
       "  </thead>\n",
       "  <tbody>\n",
       "    <tr>\n",
       "      <th>None</th>\n",
       "      <td>119</td>\n",
       "      <td>61.658031</td>\n",
       "    </tr>\n",
       "    <tr>\n",
       "      <th>Christian</th>\n",
       "      <td>56</td>\n",
       "      <td>29.015544</td>\n",
       "    </tr>\n",
       "    <tr>\n",
       "      <th>Muslim</th>\n",
       "      <td>9</td>\n",
       "      <td>4.663212</td>\n",
       "    </tr>\n",
       "    <tr>\n",
       "      <th>Other</th>\n",
       "      <td>6</td>\n",
       "      <td>3.108808</td>\n",
       "    </tr>\n",
       "    <tr>\n",
       "      <th>Buddhist</th>\n",
       "      <td>3</td>\n",
       "      <td>1.554404</td>\n",
       "    </tr>\n",
       "  </tbody>\n",
       "</table>\n",
       "</div>"
      ],
      "text/plain": [
       "           Religion    Percent\n",
       "None            119  61.658031\n",
       "Christian        56  29.015544\n",
       "Muslim            9   4.663212\n",
       "Other             6   3.108808\n",
       "Buddhist          3   1.554404"
      ]
     },
     "execution_count": 10,
     "metadata": {},
     "output_type": "execute_result"
    }
   ],
   "source": [
    "stat_df = get_distribution(shooters_df, 'Religion', codebook.codes_shooter_background_religion)\n",
    "stat_df"
   ]
  },
  {
   "cell_type": "markdown",
   "metadata": {},
   "source": [
    "# Question 3: mental illness & Depression\n",
    "Source: https://worldpopulationreview.com/state-rankings/mental-health-statistics-by-state"
   ]
  },
  {
   "cell_type": "code",
   "execution_count": 11,
   "metadata": {},
   "outputs": [],
   "source": [
    "csv = Path('raw_data/mental-health-statistics-by-state-[updated-may-2023].csv')\n",
    "mentalillness_df = pd.read_csv(csv)"
   ]
  },
  {
   "cell_type": "code",
   "execution_count": 12,
   "metadata": {},
   "outputs": [
    {
     "data": {
      "text/html": [
       "<div>\n",
       "<style scoped>\n",
       "    .dataframe tbody tr th:only-of-type {\n",
       "        vertical-align: middle;\n",
       "    }\n",
       "\n",
       "    .dataframe tbody tr th {\n",
       "        vertical-align: top;\n",
       "    }\n",
       "\n",
       "    .dataframe thead th {\n",
       "        text-align: right;\n",
       "    }\n",
       "</style>\n",
       "<table border=\"1\" class=\"dataframe\">\n",
       "  <thead>\n",
       "    <tr style=\"text-align: right;\">\n",
       "      <th></th>\n",
       "      <th>state</th>\n",
       "      <th>RatesOfMentalIllness</th>\n",
       "      <th>adultsWithAnxietyOrDepresion</th>\n",
       "      <th>adultsWithSevereMentalIllness</th>\n",
       "      <th>overallMentalHealthStandingYouthAdults</th>\n",
       "    </tr>\n",
       "  </thead>\n",
       "  <tbody>\n",
       "    <tr>\n",
       "      <th>0</th>\n",
       "      <td>Utah</td>\n",
       "      <td>29.68</td>\n",
       "      <td>32.1</td>\n",
       "      <td>6.3</td>\n",
       "      <td>42</td>\n",
       "    </tr>\n",
       "    <tr>\n",
       "      <th>1</th>\n",
       "      <td>Oregon</td>\n",
       "      <td>27.33</td>\n",
       "      <td>32.6</td>\n",
       "      <td>5.7</td>\n",
       "      <td>45</td>\n",
       "    </tr>\n",
       "    <tr>\n",
       "      <th>2</th>\n",
       "      <td>West Virginia</td>\n",
       "      <td>26.05</td>\n",
       "      <td>37.9</td>\n",
       "      <td>5.8</td>\n",
       "      <td>37</td>\n",
       "    </tr>\n",
       "    <tr>\n",
       "      <th>3</th>\n",
       "      <td>Kansas</td>\n",
       "      <td>26.02</td>\n",
       "      <td>32.0</td>\n",
       "      <td>5.7</td>\n",
       "      <td>40</td>\n",
       "    </tr>\n",
       "    <tr>\n",
       "      <th>4</th>\n",
       "      <td>Oklahoma</td>\n",
       "      <td>25.59</td>\n",
       "      <td>33.9</td>\n",
       "      <td>5.4</td>\n",
       "      <td>32</td>\n",
       "    </tr>\n",
       "  </tbody>\n",
       "</table>\n",
       "</div>"
      ],
      "text/plain": [
       "           state  RatesOfMentalIllness  adultsWithAnxietyOrDepresion  \\\n",
       "0           Utah                 29.68                          32.1   \n",
       "1         Oregon                 27.33                          32.6   \n",
       "2  West Virginia                 26.05                          37.9   \n",
       "3         Kansas                 26.02                          32.0   \n",
       "4       Oklahoma                 25.59                          33.9   \n",
       "\n",
       "   adultsWithSevereMentalIllness  overallMentalHealthStandingYouthAdults  \n",
       "0                            6.3                                      42  \n",
       "1                            5.7                                      45  \n",
       "2                            5.8                                      37  \n",
       "3                            5.7                                      40  \n",
       "4                            5.4                                      32  "
      ]
     },
     "execution_count": 12,
     "metadata": {},
     "output_type": "execute_result"
    }
   ],
   "source": [
    "mentalillness_df.head()"
   ]
  },
  {
   "cell_type": "code",
   "execution_count": 13,
   "metadata": {},
   "outputs": [
    {
     "data": {
      "text/html": [
       "<div>\n",
       "<style scoped>\n",
       "    .dataframe tbody tr th:only-of-type {\n",
       "        vertical-align: middle;\n",
       "    }\n",
       "\n",
       "    .dataframe tbody tr th {\n",
       "        vertical-align: top;\n",
       "    }\n",
       "\n",
       "    .dataframe thead th {\n",
       "        text-align: right;\n",
       "    }\n",
       "</style>\n",
       "<table border=\"1\" class=\"dataframe\">\n",
       "  <thead>\n",
       "    <tr style=\"text-align: right;\">\n",
       "      <th></th>\n",
       "      <th>Mental Illness</th>\n",
       "      <th>Percent</th>\n",
       "    </tr>\n",
       "  </thead>\n",
       "  <tbody>\n",
       "    <tr>\n",
       "      <th>0</th>\n",
       "      <td>60</td>\n",
       "      <td>31.088083</td>\n",
       "    </tr>\n",
       "    <tr>\n",
       "      <th>4</th>\n",
       "      <td>46</td>\n",
       "      <td>23.834197</td>\n",
       "    </tr>\n",
       "    <tr>\n",
       "      <th>2</th>\n",
       "      <td>31</td>\n",
       "      <td>16.062176</td>\n",
       "    </tr>\n",
       "    <tr>\n",
       "      <th>1</th>\n",
       "      <td>30</td>\n",
       "      <td>15.544041</td>\n",
       "    </tr>\n",
       "    <tr>\n",
       "      <th>1, 2</th>\n",
       "      <td>17</td>\n",
       "      <td>8.808290</td>\n",
       "    </tr>\n",
       "    <tr>\n",
       "      <th>3</th>\n",
       "      <td>9</td>\n",
       "      <td>4.663212</td>\n",
       "    </tr>\n",
       "  </tbody>\n",
       "</table>\n",
       "</div>"
      ],
      "text/plain": [
       "      Mental Illness    Percent\n",
       "0                 60  31.088083\n",
       "4                 46  23.834197\n",
       "2                 31  16.062176\n",
       "1                 30  15.544041\n",
       "1, 2              17   8.808290\n",
       "3                  9   4.663212"
      ]
     },
     "execution_count": 13,
     "metadata": {},
     "output_type": "execute_result"
    }
   ],
   "source": [
    "stat_df = get_distribution(shooters_df, 'Mental Illness', codebook.codes_shooter_health_illness)\n",
    "stat_df"
   ]
  },
  {
   "cell_type": "code",
   "execution_count": 14,
   "metadata": {},
   "outputs": [
    {
     "data": {
      "text/plain": [
       "{0: 'No evidence',\n",
       " 1: 'Mood disorder',\n",
       " 2: 'Thought disorder',\n",
       " 3: 'Other psychiatric disorder',\n",
       " 4: 'Indication of psychiatric disorder but no diagnosis'}"
      ]
     },
     "execution_count": 14,
     "metadata": {},
     "output_type": "execute_result"
    }
   ],
   "source": [
    "codebook.codes_shooter_health_illness"
   ]
  },
  {
   "cell_type": "code",
   "execution_count": 15,
   "metadata": {},
   "outputs": [],
   "source": [
    "shooter_with_mental_illness = shooters_df.loc[shooters_df['Mental Illness']!='0','Mental Illness'].count()\n",
    "shooter_without_mental_illness = shooters_df.loc[shooters_df['Mental Illness']=='0','Mental Illness'].count()"
   ]
  },
  {
   "cell_type": "code",
   "execution_count": 16,
   "metadata": {},
   "outputs": [
    {
     "data": {
      "text/plain": [
       "68.9119170984456"
      ]
     },
     "execution_count": 16,
     "metadata": {},
     "output_type": "execute_result"
    }
   ],
   "source": [
    "total_shooter = shooter_without_mental_illness + shooter_with_mental_illness\n",
    "shooter_mentalillness_rate = 100*shooter_with_mental_illness/total_shooter\n",
    "shooter_mentalillness_rate"
   ]
  },
  {
   "cell_type": "code",
   "execution_count": 17,
   "metadata": {},
   "outputs": [
    {
     "data": {
      "text/plain": [
       "21.9246"
      ]
     },
     "execution_count": 17,
     "metadata": {},
     "output_type": "execute_result"
    }
   ],
   "source": [
    "national_mental = mentalillness_df['RatesOfMentalIllness'].mean()\n",
    "national_mental"
   ]
  },
  {
   "cell_type": "code",
   "execution_count": 18,
   "metadata": {},
   "outputs": [
    {
     "name": "stdout",
     "output_type": "stream",
     "text": [
      "Someone with a mental illness is 3.14x more likely to commit a mass shooting/\n"
     ]
    }
   ],
   "source": [
    "print(f\"Someone with a mental illness is {shooter_mentalillness_rate/national_mental:.2f}x more likely to commit a mass shooting/\")"
   ]
  },
  {
   "cell_type": "code",
   "execution_count": 19,
   "metadata": {},
   "outputs": [
    {
     "data": {
      "text/plain": [
       "Text(0, 0.5, '% of adults with mental illness')"
      ]
     },
     "execution_count": 19,
     "metadata": {},
     "output_type": "execute_result"
    },
    {
     "data": {
      "image/png": "[encoded data removed]",
      "text/plain": [
       "<Figure size 1200x700 with 1 Axes>"
      ]
     },
     "metadata": {},
     "output_type": "display_data"
    }
   ],
   "source": [
    "import matplotlib.pyplot as plt\n",
    "\n",
    "mentalillness_df.plot.bar(x = 'state', y='RatesOfMentalIllness', figsize = (12,7),legend = False)\n",
    "plt.hlines(shooter_mentalillness_rate,0,50,'red')\n",
    "plt.hlines(national_mental,0,50,'green')\n",
    "plt.title('Rate of mental illness per state compared to shooters (red line) and national average (green)')\n",
    "plt.xlabel('')\n",
    "plt.ylabel(\"% of adults with mental illness\")"
   ]
  },
  {
   "cell_type": "markdown",
   "metadata": {},
   "source": [
    "## Depression"
   ]
  },
  {
   "cell_type": "code",
   "execution_count": 20,
   "metadata": {},
   "outputs": [
    {
     "data": {
      "text/plain": [
       "['Notably Depressed Mood']"
      ]
     },
     "execution_count": 20,
     "metadata": {},
     "output_type": "execute_result"
    }
   ],
   "source": [
    "from data_exploration import find_keyword_in_list\n",
    "c = find_keyword_in_list('Depressed',shooters_df.columns)\n",
    "c"
   ]
  },
  {
   "cell_type": "code",
   "execution_count": 21,
   "metadata": {},
   "outputs": [
    {
     "data": {
      "text/html": [
       "<div>\n",
       "<style scoped>\n",
       "    .dataframe tbody tr th:only-of-type {\n",
       "        vertical-align: middle;\n",
       "    }\n",
       "\n",
       "    .dataframe tbody tr th {\n",
       "        vertical-align: top;\n",
       "    }\n",
       "\n",
       "    .dataframe thead th {\n",
       "        text-align: right;\n",
       "    }\n",
       "</style>\n",
       "<table border=\"1\" class=\"dataframe\">\n",
       "  <thead>\n",
       "    <tr style=\"text-align: right;\">\n",
       "      <th></th>\n",
       "      <th>Notably Depressed Mood</th>\n",
       "      <th>Percent</th>\n",
       "    </tr>\n",
       "  </thead>\n",
       "  <tbody>\n",
       "    <tr>\n",
       "      <th>No evidence</th>\n",
       "      <td>134</td>\n",
       "      <td>69.430052</td>\n",
       "    </tr>\n",
       "    <tr>\n",
       "      <th>Yes</th>\n",
       "      <td>59</td>\n",
       "      <td>30.569948</td>\n",
       "    </tr>\n",
       "  </tbody>\n",
       "</table>\n",
       "</div>"
      ],
      "text/plain": [
       "             Notably Depressed Mood    Percent\n",
       "No evidence                     134  69.430052\n",
       "Yes                              59  30.569948"
      ]
     },
     "execution_count": 21,
     "metadata": {},
     "output_type": "execute_result"
    }
   ],
   "source": [
    "stat_df = get_distribution(shooters_df, 'Notably Depressed Mood', codebook.codes_shooter_crisis_depressed)\n",
    "stat_df"
   ]
  },
  {
   "cell_type": "code",
   "execution_count": 22,
   "metadata": {},
   "outputs": [
    {
     "data": {
      "text/plain": [
       "30.569948186528496"
      ]
     },
     "execution_count": 22,
     "metadata": {},
     "output_type": "execute_result"
    }
   ],
   "source": [
    "shooter_depression = stat_df['Percent'][1]\n",
    "shooter_depression"
   ]
  },
  {
   "cell_type": "code",
   "execution_count": 23,
   "metadata": {},
   "outputs": [
    {
     "data": {
      "text/plain": [
       "31.433999999999997"
      ]
     },
     "execution_count": 23,
     "metadata": {},
     "output_type": "execute_result"
    }
   ],
   "source": [
    "national_depression = mentalillness_df['adultsWithAnxietyOrDepresion'].mean()\n",
    "national_depression"
   ]
  },
  {
   "cell_type": "markdown",
   "metadata": {},
   "source": [
    "## Depression is not a good indicator"
   ]
  },
  {
   "cell_type": "code",
   "execution_count": 24,
   "metadata": {},
   "outputs": [
    {
     "data": {
      "text/plain": [
       "Text(0, 0.5, '% of adults with depression')"
      ]
     },
     "execution_count": 24,
     "metadata": {},
     "output_type": "execute_result"
    },
    {
     "data": {
      "image/png": "[encoded data removed]",
      "text/plain": [
       "<Figure size 1200x700 with 1 Axes>"
      ]
     },
     "metadata": {},
     "output_type": "display_data"
    }
   ],
   "source": [
    "import matplotlib.pyplot as plt\n",
    "\n",
    "mentalillness_df.plot.bar(x = 'state', y='adultsWithAnxietyOrDepresion', figsize = (12,7),legend = False)\n",
    "plt.hlines(shooter_depression,0,50,'red')\n",
    "plt.hlines(national_depression,0,50,'green')\n",
    "plt.title('Rate of depression per state compared to shooters (red line) and national average (green)')\n",
    "plt.xlabel('')\n",
    "plt.ylabel(\"% of adults with depression\")"
   ]
  },
  {
   "cell_type": "markdown",
   "metadata": {},
   "source": [
    "## Parameters to look at in priority\n",
    "### Shooter\n",
    "1. Gender\n",
    "2. Race\n",
    "3. Immigrant\n",
    "4. Age"
   ]
  },
  {
   "cell_type": "markdown",
   "metadata": {},
   "source": [
    "## Domestic violence\n",
    "Source: https://worldpopulationreview.com/state-rankings/domestic-violence-by-state"
   ]
  },
  {
   "cell_type": "code",
   "execution_count": 25,
   "metadata": {},
   "outputs": [
    {
     "data": {
      "text/html": [
       "<div>\n",
       "<style scoped>\n",
       "    .dataframe tbody tr th:only-of-type {\n",
       "        vertical-align: middle;\n",
       "    }\n",
       "\n",
       "    .dataframe tbody tr th {\n",
       "        vertical-align: top;\n",
       "    }\n",
       "\n",
       "    .dataframe thead th {\n",
       "        text-align: right;\n",
       "    }\n",
       "</style>\n",
       "<table border=\"1\" class=\"dataframe\">\n",
       "  <thead>\n",
       "    <tr style=\"text-align: right;\">\n",
       "      <th></th>\n",
       "      <th>state</th>\n",
       "      <th>againstWomen</th>\n",
       "      <th>againstMen</th>\n",
       "    </tr>\n",
       "  </thead>\n",
       "  <tbody>\n",
       "    <tr>\n",
       "      <th>0</th>\n",
       "      <td>Kentucky</td>\n",
       "      <td>45.3</td>\n",
       "      <td>35.5</td>\n",
       "    </tr>\n",
       "    <tr>\n",
       "      <th>1</th>\n",
       "      <td>Nevada</td>\n",
       "      <td>43.8</td>\n",
       "      <td>32.8</td>\n",
       "    </tr>\n",
       "    <tr>\n",
       "      <th>2</th>\n",
       "      <td>Alaska</td>\n",
       "      <td>43.3</td>\n",
       "      <td>30.2</td>\n",
       "    </tr>\n",
       "  </tbody>\n",
       "</table>\n",
       "</div>"
      ],
      "text/plain": [
       "      state  againstWomen  againstMen\n",
       "0  Kentucky          45.3        35.5\n",
       "1    Nevada          43.8        32.8\n",
       "2    Alaska          43.3        30.2"
      ]
     },
     "execution_count": 25,
     "metadata": {},
     "output_type": "execute_result"
    }
   ],
   "source": [
    "csv = Path('raw_data/domestic-violence-by-state-2023.csv')\n",
    "domestic_df = pd.read_csv(csv)\n",
    "domestic_df = domestic_df.rename(columns={'percWomen': 'againstWomen','percMen': 'againstMen'})\n",
    "domestic_df.head(3)"
   ]
  },
  {
   "cell_type": "code",
   "execution_count": 26,
   "metadata": {},
   "outputs": [
    {
     "data": {
      "text/html": [
       "<div>\n",
       "<style scoped>\n",
       "    .dataframe tbody tr th:only-of-type {\n",
       "        vertical-align: middle;\n",
       "    }\n",
       "\n",
       "    .dataframe tbody tr th {\n",
       "        vertical-align: top;\n",
       "    }\n",
       "\n",
       "    .dataframe thead th {\n",
       "        text-align: right;\n",
       "    }\n",
       "</style>\n",
       "<table border=\"1\" class=\"dataframe\">\n",
       "  <thead>\n",
       "    <tr style=\"text-align: right;\">\n",
       "      <th></th>\n",
       "      <th>state</th>\n",
       "      <th>pop2020</th>\n",
       "      <th>reported</th>\n",
       "      <th>rate</th>\n",
       "      <th>violent</th>\n",
       "      <th>violentRate</th>\n",
       "      <th>nonViolent</th>\n",
       "      <th>nonViolentRate</th>\n",
       "    </tr>\n",
       "  </thead>\n",
       "  <tbody>\n",
       "    <tr>\n",
       "      <th>0</th>\n",
       "      <td>District of Columbia</td>\n",
       "      <td>670868</td>\n",
       "      <td>14113</td>\n",
       "      <td>7985.932</td>\n",
       "      <td>7127</td>\n",
       "      <td>999.837</td>\n",
       "      <td>49798</td>\n",
       "      <td>6986.095</td>\n",
       "    </tr>\n",
       "    <tr>\n",
       "      <th>1</th>\n",
       "      <td>New Mexico</td>\n",
       "      <td>2118390</td>\n",
       "      <td>22077</td>\n",
       "      <td>6462.032</td>\n",
       "      <td>16393</td>\n",
       "      <td>778.277</td>\n",
       "      <td>119718</td>\n",
       "      <td>5683.754</td>\n",
       "    </tr>\n",
       "    <tr>\n",
       "      <th>2</th>\n",
       "      <td>Louisiana</td>\n",
       "      <td>4651664</td>\n",
       "      <td>35473</td>\n",
       "      <td>6408.216</td>\n",
       "      <td>29704</td>\n",
       "      <td>639.440</td>\n",
       "      <td>267978</td>\n",
       "      <td>5768.776</td>\n",
       "    </tr>\n",
       "  </tbody>\n",
       "</table>\n",
       "</div>"
      ],
      "text/plain": [
       "                  state  pop2020  reported      rate  violent  violentRate  \\\n",
       "0  District of Columbia   670868     14113  7985.932     7127      999.837   \n",
       "1            New Mexico  2118390     22077  6462.032    16393      778.277   \n",
       "2             Louisiana  4651664     35473  6408.216    29704      639.440   \n",
       "\n",
       "   nonViolent  nonViolentRate  \n",
       "0       49798        6986.095  \n",
       "1      119718        5683.754  \n",
       "2      267978        5768.776  "
      ]
     },
     "execution_count": 26,
     "metadata": {},
     "output_type": "execute_result"
    }
   ],
   "source": [
    "csv = Path('raw_data/crime-rate-by-state-[updated-august-2022].csv')\n",
    "crime_df = pd.read_csv(csv)\n",
    "crime_df.head(3)"
   ]
  },
  {
   "cell_type": "markdown",
   "metadata": {},
   "source": [
    "## Military service"
   ]
  },
  {
   "cell_type": "code",
   "execution_count": 27,
   "metadata": {},
   "outputs": [
    {
     "data": {
      "text/html": [
       "<div>\n",
       "<style scoped>\n",
       "    .dataframe tbody tr th:only-of-type {\n",
       "        vertical-align: middle;\n",
       "    }\n",
       "\n",
       "    .dataframe tbody tr th {\n",
       "        vertical-align: top;\n",
       "    }\n",
       "\n",
       "    .dataframe thead th {\n",
       "        text-align: right;\n",
       "    }\n",
       "</style>\n",
       "<table border=\"1\" class=\"dataframe\">\n",
       "  <thead>\n",
       "    <tr style=\"text-align: right;\">\n",
       "      <th></th>\n",
       "      <th>Military Service</th>\n",
       "      <th>Percent</th>\n",
       "    </tr>\n",
       "  </thead>\n",
       "  <tbody>\n",
       "    <tr>\n",
       "      <th>No</th>\n",
       "      <td>143</td>\n",
       "      <td>74.093264</td>\n",
       "    </tr>\n",
       "    <tr>\n",
       "      <th>Yes</th>\n",
       "      <td>44</td>\n",
       "      <td>22.797927</td>\n",
       "    </tr>\n",
       "    <tr>\n",
       "      <th>Joined but did not make it through training</th>\n",
       "      <td>6</td>\n",
       "      <td>3.108808</td>\n",
       "    </tr>\n",
       "  </tbody>\n",
       "</table>\n",
       "</div>"
      ],
      "text/plain": [
       "                                             Military Service    Percent\n",
       "No                                                        143  74.093264\n",
       "Yes                                                        44  22.797927\n",
       "Joined but did not make it through training                 6   3.108808"
      ]
     },
     "execution_count": 27,
     "metadata": {},
     "output_type": "execute_result"
    }
   ],
   "source": [
    "stat_mil_service_df = get_distribution(shooters_df, 'Military Service', codebook.codes_shooter_background_milservice)\n",
    "stat_mil_service_df"
   ]
  },
  {
   "cell_type": "code",
   "execution_count": 28,
   "metadata": {},
   "outputs": [
    {
     "data": {
      "text/html": [
       "<div>\n",
       "<style scoped>\n",
       "    .dataframe tbody tr th:only-of-type {\n",
       "        vertical-align: middle;\n",
       "    }\n",
       "\n",
       "    .dataframe tbody tr th {\n",
       "        vertical-align: top;\n",
       "    }\n",
       "\n",
       "    .dataframe thead th {\n",
       "        text-align: right;\n",
       "    }\n",
       "</style>\n",
       "<table border=\"1\" class=\"dataframe\">\n",
       "  <thead>\n",
       "    <tr style=\"text-align: right;\">\n",
       "      <th></th>\n",
       "      <th>Military Branch</th>\n",
       "      <th>Percent</th>\n",
       "    </tr>\n",
       "  </thead>\n",
       "  <tbody>\n",
       "    <tr>\n",
       "      <th>NA</th>\n",
       "      <td>144</td>\n",
       "      <td>74.611399</td>\n",
       "    </tr>\n",
       "    <tr>\n",
       "      <th>Army</th>\n",
       "      <td>20</td>\n",
       "      <td>10.362694</td>\n",
       "    </tr>\n",
       "    <tr>\n",
       "      <th>Marines</th>\n",
       "      <td>10</td>\n",
       "      <td>5.181347</td>\n",
       "    </tr>\n",
       "    <tr>\n",
       "      <th>Navy</th>\n",
       "      <td>9</td>\n",
       "      <td>4.663212</td>\n",
       "    </tr>\n",
       "    <tr>\n",
       "      <th>Air Force</th>\n",
       "      <td>4</td>\n",
       "      <td>2.072539</td>\n",
       "    </tr>\n",
       "    <tr>\n",
       "      <th>National Guard</th>\n",
       "      <td>4</td>\n",
       "      <td>2.072539</td>\n",
       "    </tr>\n",
       "    <tr>\n",
       "      <th>Coast Guard</th>\n",
       "      <td>2</td>\n",
       "      <td>1.036269</td>\n",
       "    </tr>\n",
       "  </tbody>\n",
       "</table>\n",
       "</div>"
      ],
      "text/plain": [
       "                Military Branch    Percent\n",
       "NA                          144  74.611399\n",
       "Army                         20  10.362694\n",
       "Marines                      10   5.181347\n",
       "Navy                          9   4.663212\n",
       "Air Force                     4   2.072539\n",
       "National Guard                4   2.072539\n",
       "Coast Guard                   2   1.036269"
      ]
     },
     "execution_count": 28,
     "metadata": {},
     "output_type": "execute_result"
    }
   ],
   "source": [
    "stat_mil_branch_df = get_distribution(shooters_df, 'Military Branch', codebook.codes_shooter_background_milbranch)\n",
    "stat_mil_branch_df"
   ]
  },
  {
   "cell_type": "markdown",
   "metadata": {},
   "source": [
    "## Video games"
   ]
  },
  {
   "cell_type": "code",
   "execution_count": 29,
   "metadata": {},
   "outputs": [
    {
     "data": {
      "text/html": [
       "<div>\n",
       "<style scoped>\n",
       "    .dataframe tbody tr th:only-of-type {\n",
       "        vertical-align: middle;\n",
       "    }\n",
       "\n",
       "    .dataframe tbody tr th {\n",
       "        vertical-align: top;\n",
       "    }\n",
       "\n",
       "    .dataframe thead th {\n",
       "        text-align: right;\n",
       "    }\n",
       "</style>\n",
       "<table border=\"1\" class=\"dataframe\">\n",
       "  <thead>\n",
       "    <tr style=\"text-align: right;\">\n",
       "      <th></th>\n",
       "      <th>Violent Video Games</th>\n",
       "      <th>Percent</th>\n",
       "    </tr>\n",
       "  </thead>\n",
       "  <tbody>\n",
       "    <tr>\n",
       "      <th>No evidence</th>\n",
       "      <td>106</td>\n",
       "      <td>54.922280</td>\n",
       "    </tr>\n",
       "    <tr>\n",
       "      <th>NA (pre-1992)</th>\n",
       "      <td>44</td>\n",
       "      <td>22.797927</td>\n",
       "    </tr>\n",
       "    <tr>\n",
       "      <th>Yes</th>\n",
       "      <td>28</td>\n",
       "      <td>14.507772</td>\n",
       "    </tr>\n",
       "    <tr>\n",
       "      <th>Played unspecified video games</th>\n",
       "      <td>15</td>\n",
       "      <td>7.772021</td>\n",
       "    </tr>\n",
       "  </tbody>\n",
       "</table>\n",
       "</div>"
      ],
      "text/plain": [
       "                                Violent Video Games    Percent\n",
       "No evidence                                     106  54.922280\n",
       "NA (pre-1992)                                    44  22.797927\n",
       "Yes                                              28  14.507772\n",
       "Played unspecified video games                   15   7.772021"
      ]
     },
     "execution_count": 29,
     "metadata": {},
     "output_type": "execute_result"
    }
   ],
   "source": [
    "stat_videogames_df = get_distribution(shooters_df, 'Violent Video Games', codebook.codes_shooter_crime_games)\n",
    "stat_videogames_df"
   ]
  },
  {
   "cell_type": "markdown",
   "metadata": {},
   "source": [
    "## School performance"
   ]
  },
  {
   "cell_type": "code",
   "execution_count": 30,
   "metadata": {},
   "outputs": [
    {
     "data": {
      "text/html": [
       "<div>\n",
       "<style scoped>\n",
       "    .dataframe tbody tr th:only-of-type {\n",
       "        vertical-align: middle;\n",
       "    }\n",
       "\n",
       "    .dataframe tbody tr th {\n",
       "        vertical-align: top;\n",
       "    }\n",
       "\n",
       "    .dataframe thead th {\n",
       "        text-align: right;\n",
       "    }\n",
       "</style>\n",
       "<table border=\"1\" class=\"dataframe\">\n",
       "  <thead>\n",
       "    <tr style=\"text-align: right;\">\n",
       "      <th></th>\n",
       "      <th>School Performance</th>\n",
       "      <th>Percent</th>\n",
       "    </tr>\n",
       "  </thead>\n",
       "  <tbody>\n",
       "    <tr>\n",
       "      <th>Unknown</th>\n",
       "      <td>104</td>\n",
       "      <td>53.886010</td>\n",
       "    </tr>\n",
       "    <tr>\n",
       "      <th>Good</th>\n",
       "      <td>38</td>\n",
       "      <td>19.689119</td>\n",
       "    </tr>\n",
       "    <tr>\n",
       "      <th>Poor</th>\n",
       "      <td>31</td>\n",
       "      <td>16.062176</td>\n",
       "    </tr>\n",
       "    <tr>\n",
       "      <th>Average</th>\n",
       "      <td>20</td>\n",
       "      <td>10.362694</td>\n",
       "    </tr>\n",
       "  </tbody>\n",
       "</table>\n",
       "</div>"
      ],
      "text/plain": [
       "         School Performance    Percent\n",
       "Unknown                 104  53.886010\n",
       "Good                     38  19.689119\n",
       "Poor                     31  16.062176\n",
       "Average                  20  10.362694"
      ]
     },
     "execution_count": 30,
     "metadata": {},
     "output_type": "execute_result"
    }
   ],
   "source": [
    "stat_df = get_distribution(shooters_df, 'School Performance', codebook.codes_shooter_background_schoolperf)\n",
    "stat_df"
   ]
  },
  {
   "cell_type": "markdown",
   "metadata": {},
   "source": [
    "## Employment status"
   ]
  },
  {
   "cell_type": "code",
   "execution_count": 31,
   "metadata": {},
   "outputs": [
    {
     "data": {
      "text/html": [
       "<div>\n",
       "<style scoped>\n",
       "    .dataframe tbody tr th:only-of-type {\n",
       "        vertical-align: middle;\n",
       "    }\n",
       "\n",
       "    .dataframe tbody tr th {\n",
       "        vertical-align: top;\n",
       "    }\n",
       "\n",
       "    .dataframe thead th {\n",
       "        text-align: right;\n",
       "    }\n",
       "</style>\n",
       "<table border=\"1\" class=\"dataframe\">\n",
       "  <thead>\n",
       "    <tr style=\"text-align: right;\">\n",
       "      <th></th>\n",
       "      <th>Employment Status</th>\n",
       "      <th>Percent</th>\n",
       "    </tr>\n",
       "  </thead>\n",
       "  <tbody>\n",
       "    <tr>\n",
       "      <th>0</th>\n",
       "      <td>105</td>\n",
       "      <td>54.404145</td>\n",
       "    </tr>\n",
       "    <tr>\n",
       "      <th>1</th>\n",
       "      <td>76</td>\n",
       "      <td>39.378238</td>\n",
       "    </tr>\n",
       "    <tr>\n",
       "      <th>-1</th>\n",
       "      <td>11</td>\n",
       "      <td>5.699482</td>\n",
       "    </tr>\n",
       "    <tr>\n",
       "      <th></th>\n",
       "      <td>1</td>\n",
       "      <td>0.518135</td>\n",
       "    </tr>\n",
       "  </tbody>\n",
       "</table>\n",
       "</div>"
      ],
      "text/plain": [
       "    Employment Status    Percent\n",
       "0                 105  54.404145\n",
       "1                  76  39.378238\n",
       "-1                 11   5.699482\n",
       "                    1   0.518135"
      ]
     },
     "execution_count": 31,
     "metadata": {},
     "output_type": "execute_result"
    }
   ],
   "source": [
    "stat_df = get_distribution(shooters_df, 'Employment Status', codebook.codes_shooter_background_employstatus)\n",
    "stat_df"
   ]
  },
  {
   "cell_type": "code",
   "execution_count": 32,
   "metadata": {},
   "outputs": [
    {
     "data": {
      "text/plain": [
       "54.40414507772021"
      ]
     },
     "execution_count": 32,
     "metadata": {},
     "output_type": "execute_result"
    }
   ],
   "source": [
    "shooter_unemployment = stat_df['Percent'][0]\n",
    "shooter_unemployment"
   ]
  },
  {
   "cell_type": "code",
   "execution_count": 33,
   "metadata": {},
   "outputs": [
    {
     "data": {
      "text/html": [
       "<div>\n",
       "<style scoped>\n",
       "    .dataframe tbody tr th:only-of-type {\n",
       "        vertical-align: middle;\n",
       "    }\n",
       "\n",
       "    .dataframe tbody tr th {\n",
       "        vertical-align: top;\n",
       "    }\n",
       "\n",
       "    .dataframe thead th {\n",
       "        text-align: right;\n",
       "    }\n",
       "</style>\n",
       "<table border=\"1\" class=\"dataframe\">\n",
       "  <thead>\n",
       "    <tr style=\"text-align: right;\">\n",
       "      <th></th>\n",
       "      <th>state</th>\n",
       "      <th>unemploymentRateJuly2021</th>\n",
       "    </tr>\n",
       "  </thead>\n",
       "  <tbody>\n",
       "    <tr>\n",
       "      <th>0</th>\n",
       "      <td>Nevada</td>\n",
       "      <td>6.6</td>\n",
       "    </tr>\n",
       "    <tr>\n",
       "      <th>1</th>\n",
       "      <td>District of Columbia</td>\n",
       "      <td>7.1</td>\n",
       "    </tr>\n",
       "    <tr>\n",
       "      <th>2</th>\n",
       "      <td>California</td>\n",
       "      <td>7.4</td>\n",
       "    </tr>\n",
       "    <tr>\n",
       "      <th>3</th>\n",
       "      <td>Delaware</td>\n",
       "      <td>5.5</td>\n",
       "    </tr>\n",
       "    <tr>\n",
       "      <th>4</th>\n",
       "      <td>Texas</td>\n",
       "      <td>5.6</td>\n",
       "    </tr>\n",
       "  </tbody>\n",
       "</table>\n",
       "</div>"
      ],
      "text/plain": [
       "                  state  unemploymentRateJuly2021\n",
       "0                Nevada                       6.6\n",
       "1  District of Columbia                       7.1\n",
       "2            California                       7.4\n",
       "3              Delaware                       5.5\n",
       "4                 Texas                       5.6"
      ]
     },
     "execution_count": 33,
     "metadata": {},
     "output_type": "execute_result"
    }
   ],
   "source": [
    "# Import unemplyment data\n",
    "unemployment_df = pd.read_csv(Path('raw_data/unemployment-rate-by-state-[updated-august-2023].csv'))\n",
    "\n",
    "# Keep only 2021 data to be in line with most recent census data\n",
    "unemployment_df = unemployment_df[['state','unemploymentRateJuly2021']]\n",
    "unemployment_df.head()"
   ]
  },
  {
   "cell_type": "code",
   "execution_count": 34,
   "metadata": {},
   "outputs": [
    {
     "data": {
      "text/plain": [
       "4.884313725490196"
      ]
     },
     "execution_count": 34,
     "metadata": {},
     "output_type": "execute_result"
    }
   ],
   "source": [
    "# Calculate national average\n",
    "national_unemployment = unemployment_df['unemploymentRateJuly2021'].mean()\n",
    "\n",
    "national_unemployment"
   ]
  },
  {
   "cell_type": "code",
   "execution_count": 35,
   "metadata": {},
   "outputs": [
    {
     "name": "stdout",
     "output_type": "stream",
     "text": [
      "Someone that is unemployed is 11.14x more likely to commit a mass shooting.\n"
     ]
    }
   ],
   "source": [
    "print(f\"Someone that is unemployed is {shooter_unemployment/national_unemployment:.2f}x more likely to commit a mass shooting.\")"
   ]
  },
  {
   "cell_type": "markdown",
   "metadata": {},
   "source": [
    "## Age"
   ]
  },
  {
   "cell_type": "code",
   "execution_count": 36,
   "metadata": {},
   "outputs": [],
   "source": [
    "# Age brackets\n",
    "# less_than_15\n",
    "# 15-19\n",
    "# 20-24 "
   ]
  },
  {
   "cell_type": "code",
   "execution_count": 37,
   "metadata": {},
   "outputs": [
    {
     "data": {
      "text/html": [
       "<div>\n",
       "<style scoped>\n",
       "    .dataframe tbody tr th:only-of-type {\n",
       "        vertical-align: middle;\n",
       "    }\n",
       "\n",
       "    .dataframe tbody tr th {\n",
       "        vertical-align: top;\n",
       "    }\n",
       "\n",
       "    .dataframe thead th {\n",
       "        text-align: right;\n",
       "    }\n",
       "</style>\n",
       "<table border=\"1\" class=\"dataframe\">\n",
       "  <thead>\n",
       "    <tr style=\"text-align: right;\">\n",
       "      <th></th>\n",
       "      <th>Age</th>\n",
       "    </tr>\n",
       "  </thead>\n",
       "  <tbody>\n",
       "    <tr>\n",
       "      <th>11</th>\n",
       "      <td>1</td>\n",
       "    </tr>\n",
       "    <tr>\n",
       "      <th>13</th>\n",
       "      <td>1</td>\n",
       "    </tr>\n",
       "    <tr>\n",
       "      <th>15</th>\n",
       "      <td>4</td>\n",
       "    </tr>\n",
       "    <tr>\n",
       "      <th>16</th>\n",
       "      <td>1</td>\n",
       "    </tr>\n",
       "    <tr>\n",
       "      <th>17</th>\n",
       "      <td>2</td>\n",
       "    </tr>\n",
       "  </tbody>\n",
       "</table>\n",
       "</div>"
      ],
      "text/plain": [
       "    Age\n",
       "11    1\n",
       "13    1\n",
       "15    4\n",
       "16    1\n",
       "17    2"
      ]
     },
     "execution_count": 37,
     "metadata": {},
     "output_type": "execute_result"
    }
   ],
   "source": [
    "age_shooters = pd.DataFrame(shooters_df['Age'].value_counts().sort_index())\n",
    "age_shooters.head()"
   ]
  },
  {
   "cell_type": "code",
   "execution_count": 38,
   "metadata": {},
   "outputs": [
    {
     "data": {
      "text/plain": [
       "<Axes: >"
      ]
     },
     "execution_count": 38,
     "metadata": {},
     "output_type": "execute_result"
    },
    {
     "data": {
      "image/png": "[encoded data removed]",
      "text/plain": [
       "<Figure size 1200x700 with 1 Axes>"
      ]
     },
     "metadata": {},
     "output_type": "display_data"
    }
   ],
   "source": [
    "age_shooters.plot.bar(figsize=(12,7))"
   ]
  },
  {
   "cell_type": "markdown",
   "metadata": {},
   "source": [
    "### Create age bracket in line with census data"
   ]
  },
  {
   "cell_type": "code",
   "execution_count": 39,
   "metadata": {},
   "outputs": [
    {
     "data": {
      "text/html": [
       "<div>\n",
       "<style scoped>\n",
       "    .dataframe tbody tr th:only-of-type {\n",
       "        vertical-align: middle;\n",
       "    }\n",
       "\n",
       "    .dataframe tbody tr th {\n",
       "        vertical-align: top;\n",
       "    }\n",
       "\n",
       "    .dataframe thead th {\n",
       "        text-align: right;\n",
       "    }\n",
       "</style>\n",
       "<table border=\"1\" class=\"dataframe\">\n",
       "  <thead>\n",
       "    <tr style=\"text-align: right;\">\n",
       "      <th></th>\n",
       "      <th>Age</th>\n",
       "      <th>Age Bracket</th>\n",
       "    </tr>\n",
       "  </thead>\n",
       "  <tbody>\n",
       "    <tr>\n",
       "      <th>0</th>\n",
       "      <td>25</td>\n",
       "      <td>25 to 29 years</td>\n",
       "    </tr>\n",
       "    <tr>\n",
       "      <th>1</th>\n",
       "      <td>18</td>\n",
       "      <td>18 and 19 years</td>\n",
       "    </tr>\n",
       "    <tr>\n",
       "      <th>2</th>\n",
       "      <td>39</td>\n",
       "      <td>35 to 39 years</td>\n",
       "    </tr>\n",
       "    <tr>\n",
       "      <th>3</th>\n",
       "      <td>56</td>\n",
       "      <td>55 to 59 years</td>\n",
       "    </tr>\n",
       "    <tr>\n",
       "      <th>4</th>\n",
       "      <td>31</td>\n",
       "      <td>30 to 34 years</td>\n",
       "    </tr>\n",
       "  </tbody>\n",
       "</table>\n",
       "</div>"
      ],
      "text/plain": [
       "   Age      Age Bracket\n",
       "0   25   25 to 29 years\n",
       "1   18  18 and 19 years\n",
       "2   39   35 to 39 years\n",
       "3   56   55 to 59 years\n",
       "4   31   30 to 34 years"
      ]
     },
     "execution_count": 39,
     "metadata": {},
     "output_type": "execute_result"
    }
   ],
   "source": [
    "renames_variables = [\n",
    "    'Under 5 years old', '5 to 9 years', '10 to 14 years', '15 to 17 years', '18 and 19 years', '20 years', '21 years', '22 to 24 years', '25 to 29 years',\n",
    "    '30 to 34 years', '35 to 39 years', '40 to 44 years', '45 to 49 years', '50 to 54 years', '55 to 59 years', '60 and 61 years', '62 to 64 years', '65 and 66 years',\n",
    "    '67 to 69 years', '70 to 74 years', '75 to 79 years', '80 to 84 years', '85 years and over'\n",
    "]\n",
    "\n",
    "bins = [0, 5, 9, 14, 17, 19, 20, 21, 24, 29, 34, 39, 44, 49, 54, 59, 61, 64, 66, 69, 74, 79, 84, 100]\n",
    "group_names = renames_variables\n",
    "\n",
    "shooters_df[\"Age Bracket\"] = pd.cut(shooters_df[\"Age\"], bins, labels = group_names, include_lowest = True)\n",
    "shooters_df[['Age', 'Age Bracket']].head()"
   ]
  },
  {
   "cell_type": "code",
   "execution_count": 40,
   "metadata": {},
   "outputs": [
    {
     "data": {
      "text/html": [
       "<div>\n",
       "<style scoped>\n",
       "    .dataframe tbody tr th:only-of-type {\n",
       "        vertical-align: middle;\n",
       "    }\n",
       "\n",
       "    .dataframe tbody tr th {\n",
       "        vertical-align: top;\n",
       "    }\n",
       "\n",
       "    .dataframe thead th {\n",
       "        text-align: right;\n",
       "    }\n",
       "</style>\n",
       "<table border=\"1\" class=\"dataframe\">\n",
       "  <thead>\n",
       "    <tr style=\"text-align: right;\">\n",
       "      <th></th>\n",
       "      <th>Age Bracket</th>\n",
       "      <th>Percent</th>\n",
       "    </tr>\n",
       "  </thead>\n",
       "  <tbody>\n",
       "    <tr>\n",
       "      <th>25 to 29 years</th>\n",
       "      <td>32</td>\n",
       "      <td>16.580311</td>\n",
       "    </tr>\n",
       "    <tr>\n",
       "      <th>40 to 44 years</th>\n",
       "      <td>26</td>\n",
       "      <td>13.471503</td>\n",
       "    </tr>\n",
       "    <tr>\n",
       "      <th>22 to 24 years</th>\n",
       "      <td>21</td>\n",
       "      <td>10.880829</td>\n",
       "    </tr>\n",
       "    <tr>\n",
       "      <th>30 to 34 years</th>\n",
       "      <td>20</td>\n",
       "      <td>10.362694</td>\n",
       "    </tr>\n",
       "    <tr>\n",
       "      <th>35 to 39 years</th>\n",
       "      <td>19</td>\n",
       "      <td>9.844560</td>\n",
       "    </tr>\n",
       "    <tr>\n",
       "      <th>45 to 49 years</th>\n",
       "      <td>17</td>\n",
       "      <td>8.808290</td>\n",
       "    </tr>\n",
       "    <tr>\n",
       "      <th>18 and 19 years</th>\n",
       "      <td>11</td>\n",
       "      <td>5.699482</td>\n",
       "    </tr>\n",
       "    <tr>\n",
       "      <th>50 to 54 years</th>\n",
       "      <td>11</td>\n",
       "      <td>5.699482</td>\n",
       "    </tr>\n",
       "    <tr>\n",
       "      <th>21 years</th>\n",
       "      <td>9</td>\n",
       "      <td>4.663212</td>\n",
       "    </tr>\n",
       "    <tr>\n",
       "      <th>15 to 17 years</th>\n",
       "      <td>7</td>\n",
       "      <td>3.626943</td>\n",
       "    </tr>\n",
       "    <tr>\n",
       "      <th>20 years</th>\n",
       "      <td>6</td>\n",
       "      <td>3.108808</td>\n",
       "    </tr>\n",
       "    <tr>\n",
       "      <th>55 to 59 years</th>\n",
       "      <td>4</td>\n",
       "      <td>2.072539</td>\n",
       "    </tr>\n",
       "    <tr>\n",
       "      <th>62 to 64 years</th>\n",
       "      <td>3</td>\n",
       "      <td>1.554404</td>\n",
       "    </tr>\n",
       "    <tr>\n",
       "      <th>10 to 14 years</th>\n",
       "      <td>2</td>\n",
       "      <td>1.036269</td>\n",
       "    </tr>\n",
       "    <tr>\n",
       "      <th>70 to 74 years</th>\n",
       "      <td>2</td>\n",
       "      <td>1.036269</td>\n",
       "    </tr>\n",
       "    <tr>\n",
       "      <th>65 and 66 years</th>\n",
       "      <td>2</td>\n",
       "      <td>1.036269</td>\n",
       "    </tr>\n",
       "    <tr>\n",
       "      <th>60 and 61 years</th>\n",
       "      <td>1</td>\n",
       "      <td>0.518135</td>\n",
       "    </tr>\n",
       "    <tr>\n",
       "      <th>80 to 84 years</th>\n",
       "      <td>0</td>\n",
       "      <td>0.000000</td>\n",
       "    </tr>\n",
       "    <tr>\n",
       "      <th>75 to 79 years</th>\n",
       "      <td>0</td>\n",
       "      <td>0.000000</td>\n",
       "    </tr>\n",
       "    <tr>\n",
       "      <th>Under 5 years old</th>\n",
       "      <td>0</td>\n",
       "      <td>0.000000</td>\n",
       "    </tr>\n",
       "    <tr>\n",
       "      <th>67 to 69 years</th>\n",
       "      <td>0</td>\n",
       "      <td>0.000000</td>\n",
       "    </tr>\n",
       "    <tr>\n",
       "      <th>5 to 9 years</th>\n",
       "      <td>0</td>\n",
       "      <td>0.000000</td>\n",
       "    </tr>\n",
       "    <tr>\n",
       "      <th>85 years and over</th>\n",
       "      <td>0</td>\n",
       "      <td>0.000000</td>\n",
       "    </tr>\n",
       "  </tbody>\n",
       "</table>\n",
       "</div>"
      ],
      "text/plain": [
       "                   Age Bracket    Percent\n",
       "25 to 29 years              32  16.580311\n",
       "40 to 44 years              26  13.471503\n",
       "22 to 24 years              21  10.880829\n",
       "30 to 34 years              20  10.362694\n",
       "35 to 39 years              19   9.844560\n",
       "45 to 49 years              17   8.808290\n",
       "18 and 19 years             11   5.699482\n",
       "50 to 54 years              11   5.699482\n",
       "21 years                     9   4.663212\n",
       "15 to 17 years               7   3.626943\n",
       "20 years                     6   3.108808\n",
       "55 to 59 years               4   2.072539\n",
       "62 to 64 years               3   1.554404\n",
       "10 to 14 years               2   1.036269\n",
       "70 to 74 years               2   1.036269\n",
       "65 and 66 years              2   1.036269\n",
       "60 and 61 years              1   0.518135\n",
       "80 to 84 years               0   0.000000\n",
       "75 to 79 years               0   0.000000\n",
       "Under 5 years old            0   0.000000\n",
       "67 to 69 years               0   0.000000\n",
       "5 to 9 years                 0   0.000000\n",
       "85 years and over            0   0.000000"
      ]
     },
     "execution_count": 40,
     "metadata": {},
     "output_type": "execute_result"
    }
   ],
   "source": [
    "stat_age_df = get_distribution(shooters_df, 'Age Bracket', 0)\n",
    "stat_age_df"
   ]
  },
  {
   "cell_type": "code",
   "execution_count": 41,
   "metadata": {},
   "outputs": [
    {
     "data": {
      "text/html": [
       "<div>\n",
       "<style scoped>\n",
       "    .dataframe tbody tr th:only-of-type {\n",
       "        vertical-align: middle;\n",
       "    }\n",
       "\n",
       "    .dataframe tbody tr th {\n",
       "        vertical-align: top;\n",
       "    }\n",
       "\n",
       "    .dataframe thead th {\n",
       "        text-align: right;\n",
       "    }\n",
       "</style>\n",
       "<table border=\"1\" class=\"dataframe\">\n",
       "  <thead>\n",
       "    <tr style=\"text-align: right;\">\n",
       "      <th></th>\n",
       "      <th>Under 5 years old</th>\n",
       "      <th>5 to 9 years</th>\n",
       "      <th>10 to 14 years</th>\n",
       "      <th>15 to 17 years</th>\n",
       "      <th>18 and 19 years</th>\n",
       "      <th>20 years</th>\n",
       "      <th>21 years</th>\n",
       "      <th>22 to 24 years</th>\n",
       "      <th>25 to 29 years</th>\n",
       "      <th>30 to 34 years</th>\n",
       "      <th>...</th>\n",
       "      <th>60 and 61 years</th>\n",
       "      <th>62 to 64 years</th>\n",
       "      <th>65 and 66 years</th>\n",
       "      <th>67 to 69 years</th>\n",
       "      <th>70 to 74 years</th>\n",
       "      <th>75 to 79 years</th>\n",
       "      <th>80 to 84 years</th>\n",
       "      <th>85 years and over</th>\n",
       "      <th>state</th>\n",
       "      <th>Total Population</th>\n",
       "    </tr>\n",
       "  </thead>\n",
       "  <tbody>\n",
       "    <tr>\n",
       "      <th>0</th>\n",
       "      <td>6.106606</td>\n",
       "      <td>6.320033</td>\n",
       "      <td>6.909288</td>\n",
       "      <td>4.02057</td>\n",
       "      <td>2.688266</td>\n",
       "      <td>1.416985</td>\n",
       "      <td>1.369191</td>\n",
       "      <td>4.061237</td>\n",
       "      <td>7.801799</td>\n",
       "      <td>7.700526</td>\n",
       "      <td>...</td>\n",
       "      <td>2.448691</td>\n",
       "      <td>3.26487</td>\n",
       "      <td>1.974329</td>\n",
       "      <td>2.580227</td>\n",
       "      <td>3.465347</td>\n",
       "      <td>2.144628</td>\n",
       "      <td>1.387554</td>\n",
       "      <td>1.380452</td>\n",
       "      <td>CA</td>\n",
       "      <td>19714044.0</td>\n",
       "    </tr>\n",
       "  </tbody>\n",
       "</table>\n",
       "<p>1 rows × 25 columns</p>\n",
       "</div>"
      ],
      "text/plain": [
       "   Under 5 years old  5 to 9 years  10 to 14 years  15 to 17 years  \\\n",
       "0           6.106606      6.320033        6.909288         4.02057   \n",
       "\n",
       "   18 and 19 years  20 years  21 years  22 to 24 years  25 to 29 years  \\\n",
       "0         2.688266  1.416985  1.369191        4.061237        7.801799   \n",
       "\n",
       "   30 to 34 years  ...  60 and 61 years  62 to 64 years  65 and 66 years  \\\n",
       "0        7.700526  ...         2.448691         3.26487         1.974329   \n",
       "\n",
       "   67 to 69 years  70 to 74 years  75 to 79 years  80 to 84 years  \\\n",
       "0        2.580227        3.465347        2.144628        1.387554   \n",
       "\n",
       "   85 years and over  state  Total Population  \n",
       "0           1.380452     CA        19714044.0  \n",
       "\n",
       "[1 rows x 25 columns]"
      ]
     },
     "execution_count": 41,
     "metadata": {},
     "output_type": "execute_result"
    }
   ],
   "source": [
    "male_age_census_pd = pd.read_csv('clean_data/clean_male_population_age.csv')\n",
    "\n",
    "state = 'CA'\n",
    "\n",
    "state_data = male_age_census_pd.loc[male_age_census_pd['state']==state,:]\n",
    "state_data = state_data.reset_index()\n",
    "\n",
    "state_data_percent = state_data.drop(columns='index')\n",
    "\n",
    "for b in renames_variables:\n",
    "    state_data_percent.loc[0,b] = 100*state_data.loc[0,b]/state_data.loc[0,'Total Population']\n",
    "\n",
    "state_data_percent"
   ]
  },
  {
   "cell_type": "code",
   "execution_count": 42,
   "metadata": {},
   "outputs": [
    {
     "data": {
      "text/plain": [
       "16.580310880829014"
      ]
     },
     "execution_count": 42,
     "metadata": {},
     "output_type": "execute_result"
    }
   ],
   "source": [
    "prospect_age_range = '25 to 29 years'\n",
    "\n",
    "probability_anyone_in_range = state_data_percent['25 to 29 years'].values[0]\n",
    "probability_shooter_in_range = stat_age_df.loc[prospect_age_range,'Percent']\n",
    "\n",
    "probability_shooter_in_range\n"
   ]
  },
  {
   "cell_type": "code",
   "execution_count": 43,
   "metadata": {},
   "outputs": [
    {
     "name": "stdout",
     "output_type": "stream",
     "text": [
      "Someone that is in age bracket '25 to 29 years' is 2.13x more likely to commit a mass shooting.\n"
     ]
    }
   ],
   "source": [
    "print(f\"Someone that is in age bracket '{prospect_age_range}' is {probability_shooter_in_range/probability_anyone_in_range:.2f}x more likely to commit a mass shooting.\")"
   ]
  },
  {
   "cell_type": "markdown",
   "metadata": {},
   "source": [
    "## Interest in firearms"
   ]
  },
  {
   "cell_type": "code",
   "execution_count": 44,
   "metadata": {},
   "outputs": [
    {
     "data": {
      "text/html": [
       "<div>\n",
       "<style scoped>\n",
       "    .dataframe tbody tr th:only-of-type {\n",
       "        vertical-align: middle;\n",
       "    }\n",
       "\n",
       "    .dataframe tbody tr th {\n",
       "        vertical-align: top;\n",
       "    }\n",
       "\n",
       "    .dataframe thead th {\n",
       "        text-align: right;\n",
       "    }\n",
       "</style>\n",
       "<table border=\"1\" class=\"dataframe\">\n",
       "  <thead>\n",
       "    <tr style=\"text-align: right;\">\n",
       "      <th></th>\n",
       "      <th>Interest in Firearms</th>\n",
       "      <th>Percent</th>\n",
       "    </tr>\n",
       "  </thead>\n",
       "  <tbody>\n",
       "    <tr>\n",
       "      <th>No evidence</th>\n",
       "      <td>125</td>\n",
       "      <td>64.766839</td>\n",
       "    </tr>\n",
       "    <tr>\n",
       "      <th>Yes</th>\n",
       "      <td>68</td>\n",
       "      <td>35.233161</td>\n",
       "    </tr>\n",
       "  </tbody>\n",
       "</table>\n",
       "</div>"
      ],
      "text/plain": [
       "             Interest in Firearms    Percent\n",
       "No evidence                   125  64.766839\n",
       "Yes                            68  35.233161"
      ]
     },
     "execution_count": 44,
     "metadata": {},
     "output_type": "execute_result"
    }
   ],
   "source": [
    "stat_df = get_distribution(shooters_df, 'Interest in Firearms', codebook.codes_shooter_other_interest)\n",
    "stat_df"
   ]
  },
  {
   "cell_type": "markdown",
   "metadata": {},
   "source": [
    "## Criminal Record"
   ]
  },
  {
   "cell_type": "code",
   "execution_count": 45,
   "metadata": {},
   "outputs": [
    {
     "data": {
      "text/html": [
       "<div>\n",
       "<style scoped>\n",
       "    .dataframe tbody tr th:only-of-type {\n",
       "        vertical-align: middle;\n",
       "    }\n",
       "\n",
       "    .dataframe tbody tr th {\n",
       "        vertical-align: top;\n",
       "    }\n",
       "\n",
       "    .dataframe thead th {\n",
       "        text-align: right;\n",
       "    }\n",
       "</style>\n",
       "<table border=\"1\" class=\"dataframe\">\n",
       "  <thead>\n",
       "    <tr style=\"text-align: right;\">\n",
       "      <th></th>\n",
       "      <th>Criminal Record</th>\n",
       "      <th>Percent</th>\n",
       "    </tr>\n",
       "  </thead>\n",
       "  <tbody>\n",
       "    <tr>\n",
       "      <th>Yes</th>\n",
       "      <td>107</td>\n",
       "      <td>55.440415</td>\n",
       "    </tr>\n",
       "    <tr>\n",
       "      <th>No evidence</th>\n",
       "      <td>86</td>\n",
       "      <td>44.559585</td>\n",
       "    </tr>\n",
       "  </tbody>\n",
       "</table>\n",
       "</div>"
      ],
      "text/plain": [
       "             Criminal Record    Percent\n",
       "Yes                      107  55.440415\n",
       "No evidence               86  44.559585"
      ]
     },
     "execution_count": 45,
     "metadata": {},
     "output_type": "execute_result"
    }
   ],
   "source": [
    "stat_df = get_distribution(shooters_df, 'Criminal Record', codebook.codes_shooter_crime_record)\n",
    "stat_df"
   ]
  },
  {
   "cell_type": "markdown",
   "metadata": {},
   "source": [
    "## History of Physical Altercations"
   ]
  },
  {
   "cell_type": "code",
   "execution_count": 46,
   "metadata": {},
   "outputs": [
    {
     "data": {
      "text/html": [
       "<div>\n",
       "<style scoped>\n",
       "    .dataframe tbody tr th:only-of-type {\n",
       "        vertical-align: middle;\n",
       "    }\n",
       "\n",
       "    .dataframe tbody tr th {\n",
       "        vertical-align: top;\n",
       "    }\n",
       "\n",
       "    .dataframe thead th {\n",
       "        text-align: right;\n",
       "    }\n",
       "</style>\n",
       "<table border=\"1\" class=\"dataframe\">\n",
       "  <thead>\n",
       "    <tr style=\"text-align: right;\">\n",
       "      <th></th>\n",
       "      <th>History of Physical Altercations</th>\n",
       "      <th>Percent</th>\n",
       "    </tr>\n",
       "  </thead>\n",
       "  <tbody>\n",
       "    <tr>\n",
       "      <th>No evidence</th>\n",
       "      <td>131</td>\n",
       "      <td>67.875648</td>\n",
       "    </tr>\n",
       "    <tr>\n",
       "      <th>Yes</th>\n",
       "      <td>55</td>\n",
       "      <td>28.497409</td>\n",
       "    </tr>\n",
       "    <tr>\n",
       "      <th>Attacked inanimate objects during arguments</th>\n",
       "      <td>7</td>\n",
       "      <td>3.626943</td>\n",
       "    </tr>\n",
       "  </tbody>\n",
       "</table>\n",
       "</div>"
      ],
      "text/plain": [
       "                                              History of Physical Altercations  \\\n",
       "No evidence                                                                131   \n",
       "Yes                                                                         55   \n",
       "Attacked inanimate objects during arguments                                  7   \n",
       "\n",
       "                                                Percent  \n",
       "No evidence                                   67.875648  \n",
       "Yes                                           28.497409  \n",
       "Attacked inanimate objects during arguments    3.626943  "
      ]
     },
     "execution_count": 46,
     "metadata": {},
     "output_type": "execute_result"
    }
   ],
   "source": [
    "stat_df = get_distribution(shooters_df, 'History of Physical Altercations', codebook.codes_shooter_crime_physical)\n",
    "stat_df"
   ]
  },
  {
   "cell_type": "markdown",
   "metadata": {},
   "source": [
    "## Highest Level of Justice System Involvement"
   ]
  },
  {
   "cell_type": "code",
   "execution_count": 47,
   "metadata": {},
   "outputs": [
    {
     "data": {
      "text/html": [
       "<div>\n",
       "<style scoped>\n",
       "    .dataframe tbody tr th:only-of-type {\n",
       "        vertical-align: middle;\n",
       "    }\n",
       "\n",
       "    .dataframe tbody tr th {\n",
       "        vertical-align: top;\n",
       "    }\n",
       "\n",
       "    .dataframe thead th {\n",
       "        text-align: right;\n",
       "    }\n",
       "</style>\n",
       "<table border=\"1\" class=\"dataframe\">\n",
       "  <thead>\n",
       "    <tr style=\"text-align: right;\">\n",
       "      <th></th>\n",
       "      <th>Highest Level of Justice System Involvement</th>\n",
       "      <th>Percent</th>\n",
       "    </tr>\n",
       "  </thead>\n",
       "  <tbody>\n",
       "    <tr>\n",
       "      <th>NA</th>\n",
       "      <td>74</td>\n",
       "      <td>38.341969</td>\n",
       "    </tr>\n",
       "    <tr>\n",
       "      <th>Convicted</th>\n",
       "      <td>67</td>\n",
       "      <td>34.715026</td>\n",
       "    </tr>\n",
       "    <tr>\n",
       "      <th>Arrested</th>\n",
       "      <td>22</td>\n",
       "      <td>11.398964</td>\n",
       "    </tr>\n",
       "    <tr>\n",
       "      <th>Suspected</th>\n",
       "      <td>17</td>\n",
       "      <td>8.808290</td>\n",
       "    </tr>\n",
       "    <tr>\n",
       "      <th>Charged</th>\n",
       "      <td>13</td>\n",
       "      <td>6.735751</td>\n",
       "    </tr>\n",
       "  </tbody>\n",
       "</table>\n",
       "</div>"
      ],
      "text/plain": [
       "           Highest Level of Justice System Involvement    Percent\n",
       "NA                                                  74  38.341969\n",
       "Convicted                                           67  34.715026\n",
       "Arrested                                            22  11.398964\n",
       "Suspected                                           17   8.808290\n",
       "Charged                                             13   6.735751"
      ]
     },
     "execution_count": 47,
     "metadata": {},
     "output_type": "execute_result"
    }
   ],
   "source": [
    "stat_df = get_distribution(shooters_df, 'Highest Level of Justice System Involvement', codebook.codes_shooter_crime_justice)\n",
    "stat_df"
   ]
  },
  {
   "cell_type": "markdown",
   "metadata": {},
   "source": [
    "## Gang"
   ]
  },
  {
   "cell_type": "code",
   "execution_count": 48,
   "metadata": {},
   "outputs": [
    {
     "data": {
      "text/html": [
       "<div>\n",
       "<style scoped>\n",
       "    .dataframe tbody tr th:only-of-type {\n",
       "        vertical-align: middle;\n",
       "    }\n",
       "\n",
       "    .dataframe tbody tr th {\n",
       "        vertical-align: top;\n",
       "    }\n",
       "\n",
       "    .dataframe thead th {\n",
       "        text-align: right;\n",
       "    }\n",
       "</style>\n",
       "<table border=\"1\" class=\"dataframe\">\n",
       "  <thead>\n",
       "    <tr style=\"text-align: right;\">\n",
       "      <th></th>\n",
       "      <th>Gang Affiliation</th>\n",
       "      <th>Percent</th>\n",
       "    </tr>\n",
       "  </thead>\n",
       "  <tbody>\n",
       "    <tr>\n",
       "      <th>0</th>\n",
       "      <td>190</td>\n",
       "      <td>98.445596</td>\n",
       "    </tr>\n",
       "    <tr>\n",
       "      <th>1</th>\n",
       "      <td>3</td>\n",
       "      <td>1.554404</td>\n",
       "    </tr>\n",
       "  </tbody>\n",
       "</table>\n",
       "</div>"
      ],
      "text/plain": [
       "   Gang Affiliation    Percent\n",
       "0               190  98.445596\n",
       "1                 3   1.554404"
      ]
     },
     "execution_count": 48,
     "metadata": {},
     "output_type": "execute_result"
    }
   ],
   "source": [
    "field = shooters_df.columns[33]\n",
    "stat_df = get_distribution(shooters_df, field, 0)\n",
    "stat_df"
   ]
  },
  {
   "cell_type": "code",
   "execution_count": 49,
   "metadata": {},
   "outputs": [
    {
     "data": {
      "text/html": [
       "<div>\n",
       "<style scoped>\n",
       "    .dataframe tbody tr th:only-of-type {\n",
       "        vertical-align: middle;\n",
       "    }\n",
       "\n",
       "    .dataframe tbody tr th {\n",
       "        vertical-align: top;\n",
       "    }\n",
       "\n",
       "    .dataframe thead th {\n",
       "        text-align: right;\n",
       "    }\n",
       "</style>\n",
       "<table border=\"1\" class=\"dataframe\">\n",
       "  <thead>\n",
       "    <tr style=\"text-align: right;\">\n",
       "      <th></th>\n",
       "      <th>Terror Group Affiliation</th>\n",
       "      <th>Percent</th>\n",
       "    </tr>\n",
       "  </thead>\n",
       "  <tbody>\n",
       "    <tr>\n",
       "      <th>0</th>\n",
       "      <td>183</td>\n",
       "      <td>94.818653</td>\n",
       "    </tr>\n",
       "    <tr>\n",
       "      <th>1</th>\n",
       "      <td>10</td>\n",
       "      <td>5.181347</td>\n",
       "    </tr>\n",
       "  </tbody>\n",
       "</table>\n",
       "</div>"
      ],
      "text/plain": [
       "   Terror Group Affiliation    Percent\n",
       "0                       183  94.818653\n",
       "1                        10   5.181347"
      ]
     },
     "execution_count": 49,
     "metadata": {},
     "output_type": "execute_result"
    }
   ],
   "source": [
    "field = shooters_df.columns[34]\n",
    "stat_df = get_distribution(shooters_df, field, 0)\n",
    "stat_df"
   ]
  },
  {
   "cell_type": "code",
   "execution_count": 50,
   "metadata": {},
   "outputs": [
    {
     "data": {
      "text/html": [
       "<div>\n",
       "<style scoped>\n",
       "    .dataframe tbody tr th:only-of-type {\n",
       "        vertical-align: middle;\n",
       "    }\n",
       "\n",
       "    .dataframe tbody tr th {\n",
       "        vertical-align: top;\n",
       "    }\n",
       "\n",
       "    .dataframe thead th {\n",
       "        text-align: right;\n",
       "    }\n",
       "</style>\n",
       "<table border=\"1\" class=\"dataframe\">\n",
       "  <thead>\n",
       "    <tr style=\"text-align: right;\">\n",
       "      <th></th>\n",
       "      <th>Known Hate Group or Chat Room Affiliation</th>\n",
       "      <th>Percent</th>\n",
       "    </tr>\n",
       "  </thead>\n",
       "  <tbody>\n",
       "    <tr>\n",
       "      <th>0</th>\n",
       "      <td>164</td>\n",
       "      <td>84.974093</td>\n",
       "    </tr>\n",
       "    <tr>\n",
       "      <th>1</th>\n",
       "      <td>14</td>\n",
       "      <td>7.253886</td>\n",
       "    </tr>\n",
       "    <tr>\n",
       "      <th>3</th>\n",
       "      <td>7</td>\n",
       "      <td>3.626943</td>\n",
       "    </tr>\n",
       "    <tr>\n",
       "      <th>4</th>\n",
       "      <td>5</td>\n",
       "      <td>2.590674</td>\n",
       "    </tr>\n",
       "    <tr>\n",
       "      <th>2</th>\n",
       "      <td>2</td>\n",
       "      <td>1.036269</td>\n",
       "    </tr>\n",
       "    <tr>\n",
       "      <th>1, 4</th>\n",
       "      <td>1</td>\n",
       "      <td>0.518135</td>\n",
       "    </tr>\n",
       "  </tbody>\n",
       "</table>\n",
       "</div>"
      ],
      "text/plain": [
       "      Known Hate Group or Chat Room Affiliation    Percent\n",
       "0                                           164  84.974093\n",
       "1                                            14   7.253886\n",
       "3                                             7   3.626943\n",
       "4                                             5   2.590674\n",
       "2                                             2   1.036269\n",
       "1, 4                                          1   0.518135"
      ]
     },
     "execution_count": 50,
     "metadata": {},
     "output_type": "execute_result"
    }
   ],
   "source": [
    "field = shooters_df.columns[35]\n",
    "stat_df = get_distribution(shooters_df, field, 0)\n",
    "stat_df"
   ]
  },
  {
   "cell_type": "code",
   "execution_count": 51,
   "metadata": {},
   "outputs": [
    {
     "data": {
      "text/html": [
       "<div>\n",
       "<style scoped>\n",
       "    .dataframe tbody tr th:only-of-type {\n",
       "        vertical-align: middle;\n",
       "    }\n",
       "\n",
       "    .dataframe tbody tr th {\n",
       "        vertical-align: top;\n",
       "    }\n",
       "\n",
       "    .dataframe thead th {\n",
       "        text-align: right;\n",
       "    }\n",
       "</style>\n",
       "<table border=\"1\" class=\"dataframe\">\n",
       "  <thead>\n",
       "    <tr style=\"text-align: right;\">\n",
       "      <th></th>\n",
       "      <th>Violent Video Games</th>\n",
       "      <th>Percent</th>\n",
       "    </tr>\n",
       "  </thead>\n",
       "  <tbody>\n",
       "    <tr>\n",
       "      <th>No evidence</th>\n",
       "      <td>106</td>\n",
       "      <td>54.922280</td>\n",
       "    </tr>\n",
       "    <tr>\n",
       "      <th>NA (pre-1992)</th>\n",
       "      <td>44</td>\n",
       "      <td>22.797927</td>\n",
       "    </tr>\n",
       "    <tr>\n",
       "      <th>Yes</th>\n",
       "      <td>28</td>\n",
       "      <td>14.507772</td>\n",
       "    </tr>\n",
       "    <tr>\n",
       "      <th>Played unspecified video games</th>\n",
       "      <td>15</td>\n",
       "      <td>7.772021</td>\n",
       "    </tr>\n",
       "  </tbody>\n",
       "</table>\n",
       "</div>"
      ],
      "text/plain": [
       "                                Violent Video Games    Percent\n",
       "No evidence                                     106  54.922280\n",
       "NA (pre-1992)                                    44  22.797927\n",
       "Yes                                              28  14.507772\n",
       "Played unspecified video games                   15   7.772021"
      ]
     },
     "execution_count": 51,
     "metadata": {},
     "output_type": "execute_result"
    }
   ],
   "source": [
    "field = shooters_df.columns[36]\n",
    "stat_df = get_distribution(shooters_df, field, 0)\n",
    "stat_df"
   ]
  },
  {
   "cell_type": "code",
   "execution_count": 52,
   "metadata": {},
   "outputs": [
    {
     "data": {
      "text/html": [
       "<div>\n",
       "<style scoped>\n",
       "    .dataframe tbody tr th:only-of-type {\n",
       "        vertical-align: middle;\n",
       "    }\n",
       "\n",
       "    .dataframe tbody tr th {\n",
       "        vertical-align: top;\n",
       "    }\n",
       "\n",
       "    .dataframe thead th {\n",
       "        text-align: right;\n",
       "    }\n",
       "</style>\n",
       "<table border=\"1\" class=\"dataframe\">\n",
       "  <thead>\n",
       "    <tr style=\"text-align: right;\">\n",
       "      <th></th>\n",
       "      <th>Bully</th>\n",
       "      <th>Percent</th>\n",
       "    </tr>\n",
       "  </thead>\n",
       "  <tbody>\n",
       "    <tr>\n",
       "      <th>0.0</th>\n",
       "      <td>153</td>\n",
       "      <td>79.274611</td>\n",
       "    </tr>\n",
       "    <tr>\n",
       "      <th>1.0</th>\n",
       "      <td>40</td>\n",
       "      <td>20.725389</td>\n",
       "    </tr>\n",
       "  </tbody>\n",
       "</table>\n",
       "</div>"
      ],
      "text/plain": [
       "     Bully    Percent\n",
       "0.0    153  79.274611\n",
       "1.0     40  20.725389"
      ]
     },
     "execution_count": 52,
     "metadata": {},
     "output_type": "execute_result"
    }
   ],
   "source": [
    "# Is a bully\n",
    "field = shooters_df.columns[37]\n",
    "stat_df = get_distribution(shooters_df, field, 0)\n",
    "stat_df"
   ]
  },
  {
   "cell_type": "code",
   "execution_count": 53,
   "metadata": {},
   "outputs": [
    {
     "data": {
      "text/html": [
       "<div>\n",
       "<style scoped>\n",
       "    .dataframe tbody tr th:only-of-type {\n",
       "        vertical-align: middle;\n",
       "    }\n",
       "\n",
       "    .dataframe tbody tr th {\n",
       "        vertical-align: top;\n",
       "    }\n",
       "\n",
       "    .dataframe thead th {\n",
       "        text-align: right;\n",
       "    }\n",
       "</style>\n",
       "<table border=\"1\" class=\"dataframe\">\n",
       "  <thead>\n",
       "    <tr style=\"text-align: right;\">\n",
       "      <th></th>\n",
       "      <th>Bullied</th>\n",
       "      <th>Percent</th>\n",
       "    </tr>\n",
       "  </thead>\n",
       "  <tbody>\n",
       "    <tr>\n",
       "      <th>0.0</th>\n",
       "      <td>158</td>\n",
       "      <td>81.865285</td>\n",
       "    </tr>\n",
       "    <tr>\n",
       "      <th>1.0</th>\n",
       "      <td>35</td>\n",
       "      <td>18.134715</td>\n",
       "    </tr>\n",
       "  </tbody>\n",
       "</table>\n",
       "</div>"
      ],
      "text/plain": [
       "     Bullied    Percent\n",
       "0.0      158  81.865285\n",
       "1.0       35  18.134715"
      ]
     },
     "execution_count": 53,
     "metadata": {},
     "output_type": "execute_result"
    }
   ],
   "source": [
    "# Was bullied\n",
    "field = shooters_df.columns[38]\n",
    "stat_df = get_distribution(shooters_df, field, 0)\n",
    "stat_df"
   ]
  },
  {
   "cell_type": "code",
   "execution_count": 54,
   "metadata": {},
   "outputs": [
    {
     "data": {
      "text/html": [
       "<div>\n",
       "<style scoped>\n",
       "    .dataframe tbody tr th:only-of-type {\n",
       "        vertical-align: middle;\n",
       "    }\n",
       "\n",
       "    .dataframe tbody tr th {\n",
       "        vertical-align: top;\n",
       "    }\n",
       "\n",
       "    .dataframe thead th {\n",
       "        text-align: right;\n",
       "    }\n",
       "</style>\n",
       "<table border=\"1\" class=\"dataframe\">\n",
       "  <thead>\n",
       "    <tr style=\"text-align: right;\">\n",
       "      <th></th>\n",
       "      <th>Childhood Trauma</th>\n",
       "      <th>Percent</th>\n",
       "    </tr>\n",
       "  </thead>\n",
       "  <tbody>\n",
       "    <tr>\n",
       "      <th>0</th>\n",
       "      <td>127</td>\n",
       "      <td>65.803109</td>\n",
       "    </tr>\n",
       "    <tr>\n",
       "      <th>1</th>\n",
       "      <td>66</td>\n",
       "      <td>34.196891</td>\n",
       "    </tr>\n",
       "  </tbody>\n",
       "</table>\n",
       "</div>"
      ],
      "text/plain": [
       "   Childhood Trauma    Percent\n",
       "0               127  65.803109\n",
       "1                66  34.196891"
      ]
     },
     "execution_count": 54,
     "metadata": {},
     "output_type": "execute_result"
    }
   ],
   "source": [
    "# Childhood trauma\n",
    "field = shooters_df.columns[43]\n",
    "stat_df = get_distribution(shooters_df, field, 0)\n",
    "stat_df"
   ]
  },
  {
   "cell_type": "code",
   "execution_count": 55,
   "metadata": {},
   "outputs": [
    {
     "data": {
      "text/html": [
       "<div>\n",
       "<style scoped>\n",
       "    .dataframe tbody tr th:only-of-type {\n",
       "        vertical-align: middle;\n",
       "    }\n",
       "\n",
       "    .dataframe tbody tr th {\n",
       "        vertical-align: top;\n",
       "    }\n",
       "\n",
       "    .dataframe thead th {\n",
       "        text-align: right;\n",
       "    }\n",
       "</style>\n",
       "<table border=\"1\" class=\"dataframe\">\n",
       "  <thead>\n",
       "    <tr style=\"text-align: right;\">\n",
       "      <th></th>\n",
       "      <th>Physically Abused</th>\n",
       "      <th>Percent</th>\n",
       "    </tr>\n",
       "  </thead>\n",
       "  <tbody>\n",
       "    <tr>\n",
       "      <th>0.0</th>\n",
       "      <td>173</td>\n",
       "      <td>89.637306</td>\n",
       "    </tr>\n",
       "    <tr>\n",
       "      <th>1.0</th>\n",
       "      <td>20</td>\n",
       "      <td>10.362694</td>\n",
       "    </tr>\n",
       "  </tbody>\n",
       "</table>\n",
       "</div>"
      ],
      "text/plain": [
       "     Physically Abused    Percent\n",
       "0.0                173  89.637306\n",
       "1.0                 20  10.362694"
      ]
     },
     "execution_count": 55,
     "metadata": {},
     "output_type": "execute_result"
    }
   ],
   "source": [
    "# Abused\n",
    "field = shooters_df.columns[44]\n",
    "stat_df = get_distribution(shooters_df, field, 0)\n",
    "stat_df"
   ]
  },
  {
   "cell_type": "code",
   "execution_count": 56,
   "metadata": {},
   "outputs": [
    {
     "data": {
      "text/html": [
       "<div>\n",
       "<style scoped>\n",
       "    .dataframe tbody tr th:only-of-type {\n",
       "        vertical-align: middle;\n",
       "    }\n",
       "\n",
       "    .dataframe tbody tr th {\n",
       "        vertical-align: top;\n",
       "    }\n",
       "\n",
       "    .dataframe thead th {\n",
       "        text-align: right;\n",
       "    }\n",
       "</style>\n",
       "<table border=\"1\" class=\"dataframe\">\n",
       "  <thead>\n",
       "    <tr style=\"text-align: right;\">\n",
       "      <th></th>\n",
       "      <th>Sexually Abused</th>\n",
       "      <th>Percent</th>\n",
       "    </tr>\n",
       "  </thead>\n",
       "  <tbody>\n",
       "    <tr>\n",
       "      <th>0</th>\n",
       "      <td>182</td>\n",
       "      <td>94.300518</td>\n",
       "    </tr>\n",
       "    <tr>\n",
       "      <th>1</th>\n",
       "      <td>11</td>\n",
       "      <td>5.699482</td>\n",
       "    </tr>\n",
       "  </tbody>\n",
       "</table>\n",
       "</div>"
      ],
      "text/plain": [
       "   Sexually Abused    Percent\n",
       "0              182  94.300518\n",
       "1               11   5.699482"
      ]
     },
     "execution_count": 56,
     "metadata": {},
     "output_type": "execute_result"
    }
   ],
   "source": [
    "field = shooters_df.columns[45]\n",
    "stat_df = get_distribution(shooters_df, field, 0)\n",
    "stat_df"
   ]
  },
  {
   "cell_type": "code",
   "execution_count": 57,
   "metadata": {},
   "outputs": [
    {
     "data": {
      "text/html": [
       "<div>\n",
       "<style scoped>\n",
       "    .dataframe tbody tr th:only-of-type {\n",
       "        vertical-align: middle;\n",
       "    }\n",
       "\n",
       "    .dataframe tbody tr th {\n",
       "        vertical-align: top;\n",
       "    }\n",
       "\n",
       "    .dataframe thead th {\n",
       "        text-align: right;\n",
       "    }\n",
       "</style>\n",
       "<table border=\"1\" class=\"dataframe\">\n",
       "  <thead>\n",
       "    <tr style=\"text-align: right;\">\n",
       "      <th></th>\n",
       "      <th>Emotionally Abused</th>\n",
       "      <th>Percent</th>\n",
       "    </tr>\n",
       "  </thead>\n",
       "  <tbody>\n",
       "    <tr>\n",
       "      <th>0</th>\n",
       "      <td>170</td>\n",
       "      <td>88.082902</td>\n",
       "    </tr>\n",
       "    <tr>\n",
       "      <th>1</th>\n",
       "      <td>23</td>\n",
       "      <td>11.917098</td>\n",
       "    </tr>\n",
       "  </tbody>\n",
       "</table>\n",
       "</div>"
      ],
      "text/plain": [
       "   Emotionally Abused    Percent\n",
       "0                 170  88.082902\n",
       "1                  23  11.917098"
      ]
     },
     "execution_count": 57,
     "metadata": {},
     "output_type": "execute_result"
    }
   ],
   "source": [
    "field = shooters_df.columns[46]\n",
    "stat_df = get_distribution(shooters_df, field, 0)\n",
    "stat_df"
   ]
  },
  {
   "cell_type": "markdown",
   "metadata": {},
   "source": [
    "## Socioeconomic background"
   ]
  },
  {
   "cell_type": "code",
   "execution_count": 58,
   "metadata": {},
   "outputs": [
    {
     "data": {
      "text/html": [
       "<div>\n",
       "<style scoped>\n",
       "    .dataframe tbody tr th:only-of-type {\n",
       "        vertical-align: middle;\n",
       "    }\n",
       "\n",
       "    .dataframe tbody tr th {\n",
       "        vertical-align: top;\n",
       "    }\n",
       "\n",
       "    .dataframe thead th {\n",
       "        text-align: right;\n",
       "    }\n",
       "</style>\n",
       "<table border=\"1\" class=\"dataframe\">\n",
       "  <thead>\n",
       "    <tr style=\"text-align: right;\">\n",
       "      <th></th>\n",
       "      <th>Childhood SES</th>\n",
       "      <th>Percent</th>\n",
       "    </tr>\n",
       "  </thead>\n",
       "  <tbody>\n",
       "    <tr>\n",
       "      <th>Middle class</th>\n",
       "      <td>64</td>\n",
       "      <td>33.160622</td>\n",
       "    </tr>\n",
       "    <tr>\n",
       "      <th>Lower class</th>\n",
       "      <td>57</td>\n",
       "      <td>29.533679</td>\n",
       "    </tr>\n",
       "    <tr>\n",
       "      <th>Unknown</th>\n",
       "      <td>55</td>\n",
       "      <td>28.497409</td>\n",
       "    </tr>\n",
       "    <tr>\n",
       "      <th>Upper class</th>\n",
       "      <td>17</td>\n",
       "      <td>8.808290</td>\n",
       "    </tr>\n",
       "  </tbody>\n",
       "</table>\n",
       "</div>"
      ],
      "text/plain": [
       "              Childhood SES    Percent\n",
       "Middle class             64  33.160622\n",
       "Lower class              57  29.533679\n",
       "Unknown                  55  28.497409\n",
       "Upper class              17   8.808290"
      ]
     },
     "execution_count": 58,
     "metadata": {},
     "output_type": "execute_result"
    }
   ],
   "source": [
    "field = shooters_df.columns[48]\n",
    "stat_df = get_distribution(shooters_df, field, codebook.codes_shooter_trauma_ses)\n",
    "stat_df"
   ]
  },
  {
   "cell_type": "code",
   "execution_count": 59,
   "metadata": {},
   "outputs": [
    {
     "data": {
      "text/html": [
       "<div>\n",
       "<style scoped>\n",
       "    .dataframe tbody tr th:only-of-type {\n",
       "        vertical-align: middle;\n",
       "    }\n",
       "\n",
       "    .dataframe tbody tr th {\n",
       "        vertical-align: top;\n",
       "    }\n",
       "\n",
       "    .dataframe thead th {\n",
       "        text-align: right;\n",
       "    }\n",
       "</style>\n",
       "<table border=\"1\" class=\"dataframe\">\n",
       "  <thead>\n",
       "    <tr style=\"text-align: right;\">\n",
       "      <th></th>\n",
       "      <th>Parent Criminal Record</th>\n",
       "      <th>Percent</th>\n",
       "    </tr>\n",
       "  </thead>\n",
       "  <tbody>\n",
       "    <tr>\n",
       "      <th>0</th>\n",
       "      <td>174</td>\n",
       "      <td>90.15544</td>\n",
       "    </tr>\n",
       "    <tr>\n",
       "      <th>1</th>\n",
       "      <td>19</td>\n",
       "      <td>9.84456</td>\n",
       "    </tr>\n",
       "  </tbody>\n",
       "</table>\n",
       "</div>"
      ],
      "text/plain": [
       "   Parent Criminal Record   Percent\n",
       "0                     174  90.15544\n",
       "1                      19   9.84456"
      ]
     },
     "execution_count": 59,
     "metadata": {},
     "output_type": "execute_result"
    }
   ],
   "source": [
    "# Parental criminal record\n",
    "field = shooters_df.columns[51]\n",
    "stat_df = get_distribution(shooters_df, field, 0)\n",
    "stat_df"
   ]
  },
  {
   "cell_type": "code",
   "execution_count": 60,
   "metadata": {},
   "outputs": [
    {
     "data": {
      "text/html": [
       "<div>\n",
       "<style scoped>\n",
       "    .dataframe tbody tr th:only-of-type {\n",
       "        vertical-align: middle;\n",
       "    }\n",
       "\n",
       "    .dataframe tbody tr th {\n",
       "        vertical-align: top;\n",
       "    }\n",
       "\n",
       "    .dataframe thead th {\n",
       "        text-align: right;\n",
       "    }\n",
       "</style>\n",
       "<table border=\"1\" class=\"dataframe\">\n",
       "  <thead>\n",
       "    <tr style=\"text-align: right;\">\n",
       "      <th></th>\n",
       "      <th>Family Member Incarcerated</th>\n",
       "      <th>Percent</th>\n",
       "    </tr>\n",
       "  </thead>\n",
       "  <tbody>\n",
       "    <tr>\n",
       "      <th>0</th>\n",
       "      <td>183</td>\n",
       "      <td>94.818653</td>\n",
       "    </tr>\n",
       "    <tr>\n",
       "      <th>1</th>\n",
       "      <td>10</td>\n",
       "      <td>5.181347</td>\n",
       "    </tr>\n",
       "  </tbody>\n",
       "</table>\n",
       "</div>"
      ],
      "text/plain": [
       "   Family Member Incarcerated    Percent\n",
       "0                         183  94.818653\n",
       "1                          10   5.181347"
      ]
     },
     "execution_count": 60,
     "metadata": {},
     "output_type": "execute_result"
    }
   ],
   "source": [
    "field = shooters_df.columns[52]\n",
    "stat_df = get_distribution(shooters_df, field, 0)\n",
    "stat_df"
   ]
  },
  {
   "cell_type": "code",
   "execution_count": 61,
   "metadata": {},
   "outputs": [
    {
     "data": {
      "text/html": [
       "<div>\n",
       "<style scoped>\n",
       "    .dataframe tbody tr th:only-of-type {\n",
       "        vertical-align: middle;\n",
       "    }\n",
       "\n",
       "    .dataframe tbody tr th {\n",
       "        vertical-align: top;\n",
       "    }\n",
       "\n",
       "    .dataframe thead th {\n",
       "        text-align: right;\n",
       "    }\n",
       "</style>\n",
       "<table border=\"1\" class=\"dataframe\">\n",
       "  <thead>\n",
       "    <tr style=\"text-align: right;\">\n",
       "      <th></th>\n",
       "      <th>Adult Trauma</th>\n",
       "      <th>Percent</th>\n",
       "    </tr>\n",
       "  </thead>\n",
       "  <tbody>\n",
       "    <tr>\n",
       "      <th>0</th>\n",
       "      <td>158</td>\n",
       "      <td>81.865285</td>\n",
       "    </tr>\n",
       "    <tr>\n",
       "      <th>1</th>\n",
       "      <td>15</td>\n",
       "      <td>7.772021</td>\n",
       "    </tr>\n",
       "    <tr>\n",
       "      <th>6</th>\n",
       "      <td>7</td>\n",
       "      <td>3.626943</td>\n",
       "    </tr>\n",
       "    <tr>\n",
       "      <th>4</th>\n",
       "      <td>4</td>\n",
       "      <td>2.072539</td>\n",
       "    </tr>\n",
       "    <tr>\n",
       "      <th>2</th>\n",
       "      <td>3</td>\n",
       "      <td>1.554404</td>\n",
       "    </tr>\n",
       "    <tr>\n",
       "      <th>3</th>\n",
       "      <td>3</td>\n",
       "      <td>1.554404</td>\n",
       "    </tr>\n",
       "    <tr>\n",
       "      <th>5</th>\n",
       "      <td>2</td>\n",
       "      <td>1.036269</td>\n",
       "    </tr>\n",
       "    <tr>\n",
       "      <th>1, 3</th>\n",
       "      <td>1</td>\n",
       "      <td>0.518135</td>\n",
       "    </tr>\n",
       "  </tbody>\n",
       "</table>\n",
       "</div>"
      ],
      "text/plain": [
       "      Adult Trauma    Percent\n",
       "0              158  81.865285\n",
       "1               15   7.772021\n",
       "6                7   3.626943\n",
       "4                4   2.072539\n",
       "2                3   1.554404\n",
       "3                3   1.554404\n",
       "5                2   1.036269\n",
       "1, 3             1   0.518135"
      ]
     },
     "execution_count": 61,
     "metadata": {},
     "output_type": "execute_result"
    }
   ],
   "source": [
    "# Adult trauma\n",
    "field = shooters_df.columns[53]\n",
    "stat_df = get_distribution(shooters_df, field, 0)\n",
    "stat_df"
   ]
  },
  {
   "cell_type": "code",
   "execution_count": 62,
   "metadata": {},
   "outputs": [
    {
     "data": {
      "text/html": [
       "<div>\n",
       "<style scoped>\n",
       "    .dataframe tbody tr th:only-of-type {\n",
       "        vertical-align: middle;\n",
       "    }\n",
       "\n",
       "    .dataframe tbody tr th {\n",
       "        vertical-align: top;\n",
       "    }\n",
       "\n",
       "    .dataframe thead th {\n",
       "        text-align: right;\n",
       "    }\n",
       "</style>\n",
       "<table border=\"1\" class=\"dataframe\">\n",
       "  <thead>\n",
       "    <tr style=\"text-align: right;\">\n",
       "      <th></th>\n",
       "      <th>Recent or Ongoing Stressor</th>\n",
       "      <th>Percent</th>\n",
       "    </tr>\n",
       "  </thead>\n",
       "  <tbody>\n",
       "    <tr>\n",
       "      <th>0</th>\n",
       "      <td>55</td>\n",
       "      <td>28.497409</td>\n",
       "    </tr>\n",
       "    <tr>\n",
       "      <th>2</th>\n",
       "      <td>47</td>\n",
       "      <td>24.352332</td>\n",
       "    </tr>\n",
       "    <tr>\n",
       "      <th>1</th>\n",
       "      <td>14</td>\n",
       "      <td>7.253886</td>\n",
       "    </tr>\n",
       "    <tr>\n",
       "      <th>1, 2</th>\n",
       "      <td>14</td>\n",
       "      <td>7.253886</td>\n",
       "    </tr>\n",
       "    <tr>\n",
       "      <th>6</th>\n",
       "      <td>12</td>\n",
       "      <td>6.217617</td>\n",
       "    </tr>\n",
       "    <tr>\n",
       "      <th>4</th>\n",
       "      <td>6</td>\n",
       "      <td>3.108808</td>\n",
       "    </tr>\n",
       "    <tr>\n",
       "      <th>5</th>\n",
       "      <td>6</td>\n",
       "      <td>3.108808</td>\n",
       "    </tr>\n",
       "    <tr>\n",
       "      <th>3</th>\n",
       "      <td>6</td>\n",
       "      <td>3.108808</td>\n",
       "    </tr>\n",
       "    <tr>\n",
       "      <th>2, 5</th>\n",
       "      <td>6</td>\n",
       "      <td>3.108808</td>\n",
       "    </tr>\n",
       "    <tr>\n",
       "      <th>2, 3</th>\n",
       "      <td>5</td>\n",
       "      <td>2.590674</td>\n",
       "    </tr>\n",
       "    <tr>\n",
       "      <th>1, 3</th>\n",
       "      <td>4</td>\n",
       "      <td>2.072539</td>\n",
       "    </tr>\n",
       "    <tr>\n",
       "      <th>4, 5</th>\n",
       "      <td>4</td>\n",
       "      <td>2.072539</td>\n",
       "    </tr>\n",
       "    <tr>\n",
       "      <th>1, 2, 4</th>\n",
       "      <td>2</td>\n",
       "      <td>1.036269</td>\n",
       "    </tr>\n",
       "    <tr>\n",
       "      <th>1, 3, 5</th>\n",
       "      <td>2</td>\n",
       "      <td>1.036269</td>\n",
       "    </tr>\n",
       "    <tr>\n",
       "      <th>2, 4</th>\n",
       "      <td>2</td>\n",
       "      <td>1.036269</td>\n",
       "    </tr>\n",
       "    <tr>\n",
       "      <th>3, 5, 6</th>\n",
       "      <td>1</td>\n",
       "      <td>0.518135</td>\n",
       "    </tr>\n",
       "    <tr>\n",
       "      <th>3, 4</th>\n",
       "      <td>1</td>\n",
       "      <td>0.518135</td>\n",
       "    </tr>\n",
       "    <tr>\n",
       "      <th>1, 5</th>\n",
       "      <td>1</td>\n",
       "      <td>0.518135</td>\n",
       "    </tr>\n",
       "    <tr>\n",
       "      <th>1, 2, 5</th>\n",
       "      <td>1</td>\n",
       "      <td>0.518135</td>\n",
       "    </tr>\n",
       "    <tr>\n",
       "      <th>3, 5</th>\n",
       "      <td>1</td>\n",
       "      <td>0.518135</td>\n",
       "    </tr>\n",
       "    <tr>\n",
       "      <th>2, 6</th>\n",
       "      <td>1</td>\n",
       "      <td>0.518135</td>\n",
       "    </tr>\n",
       "    <tr>\n",
       "      <th>1, 2, 3</th>\n",
       "      <td>1</td>\n",
       "      <td>0.518135</td>\n",
       "    </tr>\n",
       "    <tr>\n",
       "      <th>2,3,6</th>\n",
       "      <td>1</td>\n",
       "      <td>0.518135</td>\n",
       "    </tr>\n",
       "  </tbody>\n",
       "</table>\n",
       "</div>"
      ],
      "text/plain": [
       "         Recent or Ongoing Stressor    Percent\n",
       "0                                55  28.497409\n",
       "2                                47  24.352332\n",
       "1                                14   7.253886\n",
       "1, 2                             14   7.253886\n",
       "6                                12   6.217617\n",
       "4                                 6   3.108808\n",
       "5                                 6   3.108808\n",
       "3                                 6   3.108808\n",
       "2, 5                              6   3.108808\n",
       "2, 3                              5   2.590674\n",
       "1, 3                              4   2.072539\n",
       "4, 5                              4   2.072539\n",
       "1, 2, 4                           2   1.036269\n",
       "1, 3, 5                           2   1.036269\n",
       "2, 4                              2   1.036269\n",
       "3, 5, 6                           1   0.518135\n",
       "3, 4                              1   0.518135\n",
       "1, 5                              1   0.518135\n",
       "1, 2, 5                           1   0.518135\n",
       "3, 5                              1   0.518135\n",
       "2, 6                              1   0.518135\n",
       "1, 2, 3                           1   0.518135\n",
       "2,3,6                             1   0.518135"
      ]
     },
     "execution_count": 62,
     "metadata": {},
     "output_type": "execute_result"
    }
   ],
   "source": [
    "# recent stressor\n",
    "field = shooters_df.columns[54]\n",
    "stat_df = get_distribution(shooters_df, field, 0)\n",
    "stat_df"
   ]
  },
  {
   "cell_type": "markdown",
   "metadata": {},
   "source": [
    "# Parameters for cooloff period"
   ]
  },
  {
   "cell_type": "code",
   "execution_count": 63,
   "metadata": {},
   "outputs": [
    {
     "data": {
      "text/html": [
       "<div>\n",
       "<style scoped>\n",
       "    .dataframe tbody tr th:only-of-type {\n",
       "        vertical-align: middle;\n",
       "    }\n",
       "\n",
       "    .dataframe tbody tr th {\n",
       "        vertical-align: top;\n",
       "    }\n",
       "\n",
       "    .dataframe thead th {\n",
       "        text-align: right;\n",
       "    }\n",
       "</style>\n",
       "<table border=\"1\" class=\"dataframe\">\n",
       "  <thead>\n",
       "    <tr style=\"text-align: right;\">\n",
       "      <th></th>\n",
       "      <th>Recent or Ongoing Stressor</th>\n",
       "      <th>Percent</th>\n",
       "    </tr>\n",
       "  </thead>\n",
       "  <tbody>\n",
       "    <tr>\n",
       "      <th>0</th>\n",
       "      <td>55</td>\n",
       "      <td>28.497409</td>\n",
       "    </tr>\n",
       "    <tr>\n",
       "      <th>2</th>\n",
       "      <td>47</td>\n",
       "      <td>24.352332</td>\n",
       "    </tr>\n",
       "    <tr>\n",
       "      <th>1</th>\n",
       "      <td>14</td>\n",
       "      <td>7.253886</td>\n",
       "    </tr>\n",
       "    <tr>\n",
       "      <th>1, 2</th>\n",
       "      <td>14</td>\n",
       "      <td>7.253886</td>\n",
       "    </tr>\n",
       "    <tr>\n",
       "      <th>6</th>\n",
       "      <td>12</td>\n",
       "      <td>6.217617</td>\n",
       "    </tr>\n",
       "    <tr>\n",
       "      <th>4</th>\n",
       "      <td>6</td>\n",
       "      <td>3.108808</td>\n",
       "    </tr>\n",
       "    <tr>\n",
       "      <th>5</th>\n",
       "      <td>6</td>\n",
       "      <td>3.108808</td>\n",
       "    </tr>\n",
       "    <tr>\n",
       "      <th>3</th>\n",
       "      <td>6</td>\n",
       "      <td>3.108808</td>\n",
       "    </tr>\n",
       "    <tr>\n",
       "      <th>2, 5</th>\n",
       "      <td>6</td>\n",
       "      <td>3.108808</td>\n",
       "    </tr>\n",
       "    <tr>\n",
       "      <th>2, 3</th>\n",
       "      <td>5</td>\n",
       "      <td>2.590674</td>\n",
       "    </tr>\n",
       "    <tr>\n",
       "      <th>1, 3</th>\n",
       "      <td>4</td>\n",
       "      <td>2.072539</td>\n",
       "    </tr>\n",
       "    <tr>\n",
       "      <th>4, 5</th>\n",
       "      <td>4</td>\n",
       "      <td>2.072539</td>\n",
       "    </tr>\n",
       "    <tr>\n",
       "      <th>1, 2, 4</th>\n",
       "      <td>2</td>\n",
       "      <td>1.036269</td>\n",
       "    </tr>\n",
       "    <tr>\n",
       "      <th>1, 3, 5</th>\n",
       "      <td>2</td>\n",
       "      <td>1.036269</td>\n",
       "    </tr>\n",
       "    <tr>\n",
       "      <th>2, 4</th>\n",
       "      <td>2</td>\n",
       "      <td>1.036269</td>\n",
       "    </tr>\n",
       "    <tr>\n",
       "      <th>3, 5, 6</th>\n",
       "      <td>1</td>\n",
       "      <td>0.518135</td>\n",
       "    </tr>\n",
       "    <tr>\n",
       "      <th>3, 4</th>\n",
       "      <td>1</td>\n",
       "      <td>0.518135</td>\n",
       "    </tr>\n",
       "    <tr>\n",
       "      <th>1, 5</th>\n",
       "      <td>1</td>\n",
       "      <td>0.518135</td>\n",
       "    </tr>\n",
       "    <tr>\n",
       "      <th>1, 2, 5</th>\n",
       "      <td>1</td>\n",
       "      <td>0.518135</td>\n",
       "    </tr>\n",
       "    <tr>\n",
       "      <th>3, 5</th>\n",
       "      <td>1</td>\n",
       "      <td>0.518135</td>\n",
       "    </tr>\n",
       "    <tr>\n",
       "      <th>2, 6</th>\n",
       "      <td>1</td>\n",
       "      <td>0.518135</td>\n",
       "    </tr>\n",
       "    <tr>\n",
       "      <th>1, 2, 3</th>\n",
       "      <td>1</td>\n",
       "      <td>0.518135</td>\n",
       "    </tr>\n",
       "    <tr>\n",
       "      <th>2,3,6</th>\n",
       "      <td>1</td>\n",
       "      <td>0.518135</td>\n",
       "    </tr>\n",
       "  </tbody>\n",
       "</table>\n",
       "</div>"
      ],
      "text/plain": [
       "         Recent or Ongoing Stressor    Percent\n",
       "0                                55  28.497409\n",
       "2                                47  24.352332\n",
       "1                                14   7.253886\n",
       "1, 2                             14   7.253886\n",
       "6                                12   6.217617\n",
       "4                                 6   3.108808\n",
       "5                                 6   3.108808\n",
       "3                                 6   3.108808\n",
       "2, 5                              6   3.108808\n",
       "2, 3                              5   2.590674\n",
       "1, 3                              4   2.072539\n",
       "4, 5                              4   2.072539\n",
       "1, 2, 4                           2   1.036269\n",
       "1, 3, 5                           2   1.036269\n",
       "2, 4                              2   1.036269\n",
       "3, 5, 6                           1   0.518135\n",
       "3, 4                              1   0.518135\n",
       "1, 5                              1   0.518135\n",
       "1, 2, 5                           1   0.518135\n",
       "3, 5                              1   0.518135\n",
       "2, 6                              1   0.518135\n",
       "1, 2, 3                           1   0.518135\n",
       "2,3,6                             1   0.518135"
      ]
     },
     "execution_count": 63,
     "metadata": {},
     "output_type": "execute_result"
    }
   ],
   "source": [
    "field = shooters_df.columns[54]\n",
    "stat_df = get_distribution(shooters_df, field, 0)\n",
    "stat_df"
   ]
  },
  {
   "cell_type": "code",
   "execution_count": 64,
   "metadata": {},
   "outputs": [
    {
     "data": {
      "text/html": [
       "<div>\n",
       "<style scoped>\n",
       "    .dataframe tbody tr th:only-of-type {\n",
       "        vertical-align: middle;\n",
       "    }\n",
       "\n",
       "    .dataframe tbody tr th {\n",
       "        vertical-align: top;\n",
       "    }\n",
       "\n",
       "    .dataframe thead th {\n",
       "        text-align: right;\n",
       "    }\n",
       "</style>\n",
       "<table border=\"1\" class=\"dataframe\">\n",
       "  <thead>\n",
       "    <tr style=\"text-align: right;\">\n",
       "      <th></th>\n",
       "      <th>Signs of Being in Crisis</th>\n",
       "      <th>Percent</th>\n",
       "    </tr>\n",
       "  </thead>\n",
       "  <tbody>\n",
       "    <tr>\n",
       "      <th>1</th>\n",
       "      <td>156</td>\n",
       "      <td>80.829016</td>\n",
       "    </tr>\n",
       "    <tr>\n",
       "      <th>0</th>\n",
       "      <td>37</td>\n",
       "      <td>19.170984</td>\n",
       "    </tr>\n",
       "  </tbody>\n",
       "</table>\n",
       "</div>"
      ],
      "text/plain": [
       "   Signs of Being in Crisis    Percent\n",
       "1                       156  80.829016\n",
       "0                        37  19.170984"
      ]
     },
     "execution_count": 64,
     "metadata": {},
     "output_type": "execute_result"
    }
   ],
   "source": [
    "field = shooters_df.columns[55]\n",
    "stat_df = get_distribution(shooters_df, field, 0)\n",
    "stat_df"
   ]
  },
  {
   "cell_type": "code",
   "execution_count": 65,
   "metadata": {},
   "outputs": [
    {
     "data": {
      "text/html": [
       "<div>\n",
       "<style scoped>\n",
       "    .dataframe tbody tr th:only-of-type {\n",
       "        vertical-align: middle;\n",
       "    }\n",
       "\n",
       "    .dataframe tbody tr th {\n",
       "        vertical-align: top;\n",
       "    }\n",
       "\n",
       "    .dataframe thead th {\n",
       "        text-align: right;\n",
       "    }\n",
       "</style>\n",
       "<table border=\"1\" class=\"dataframe\">\n",
       "  <thead>\n",
       "    <tr style=\"text-align: right;\">\n",
       "      <th></th>\n",
       "      <th>Timeline of Signs of Crisis</th>\n",
       "      <th>Percent</th>\n",
       "    </tr>\n",
       "  </thead>\n",
       "  <tbody>\n",
       "    <tr>\n",
       "      <th>3.0</th>\n",
       "      <td>65</td>\n",
       "      <td>33.678756</td>\n",
       "    </tr>\n",
       "    <tr>\n",
       "      <th>2.0</th>\n",
       "      <td>47</td>\n",
       "      <td>24.352332</td>\n",
       "    </tr>\n",
       "    <tr>\n",
       "      <th>-1.0</th>\n",
       "      <td>36</td>\n",
       "      <td>18.652850</td>\n",
       "    </tr>\n",
       "    <tr>\n",
       "      <th>1.0</th>\n",
       "      <td>23</td>\n",
       "      <td>11.917098</td>\n",
       "    </tr>\n",
       "    <tr>\n",
       "      <th>0.0</th>\n",
       "      <td>22</td>\n",
       "      <td>11.398964</td>\n",
       "    </tr>\n",
       "  </tbody>\n",
       "</table>\n",
       "</div>"
      ],
      "text/plain": [
       "      Timeline of Signs of Crisis    Percent\n",
       " 3.0                           65  33.678756\n",
       " 2.0                           47  24.352332\n",
       "-1.0                           36  18.652850\n",
       " 1.0                           23  11.917098\n",
       " 0.0                           22  11.398964"
      ]
     },
     "execution_count": 65,
     "metadata": {},
     "output_type": "execute_result"
    }
   ],
   "source": [
    "field = shooters_df.columns[56]\n",
    "stat_df = get_distribution(shooters_df, field, 0)\n",
    "stat_df"
   ]
  },
  {
   "cell_type": "code",
   "execution_count": 66,
   "metadata": {},
   "outputs": [
    {
     "data": {
      "text/html": [
       "<div>\n",
       "<style scoped>\n",
       "    .dataframe tbody tr th:only-of-type {\n",
       "        vertical-align: middle;\n",
       "    }\n",
       "\n",
       "    .dataframe tbody tr th {\n",
       "        vertical-align: top;\n",
       "    }\n",
       "\n",
       "    .dataframe thead th {\n",
       "        text-align: right;\n",
       "    }\n",
       "</style>\n",
       "<table border=\"1\" class=\"dataframe\">\n",
       "  <thead>\n",
       "    <tr style=\"text-align: right;\">\n",
       "      <th></th>\n",
       "      <th>Rapid Mood Swings</th>\n",
       "      <th>Percent</th>\n",
       "    </tr>\n",
       "  </thead>\n",
       "  <tbody>\n",
       "    <tr>\n",
       "      <th>0</th>\n",
       "      <td>138</td>\n",
       "      <td>71.502591</td>\n",
       "    </tr>\n",
       "    <tr>\n",
       "      <th>1</th>\n",
       "      <td>55</td>\n",
       "      <td>28.497409</td>\n",
       "    </tr>\n",
       "  </tbody>\n",
       "</table>\n",
       "</div>"
      ],
      "text/plain": [
       "   Rapid Mood Swings    Percent\n",
       "0                138  71.502591\n",
       "1                 55  28.497409"
      ]
     },
     "execution_count": 66,
     "metadata": {},
     "output_type": "execute_result"
    }
   ],
   "source": [
    "field = shooters_df.columns[60]\n",
    "stat_df = get_distribution(shooters_df, field, 0)\n",
    "stat_df"
   ]
  },
  {
   "cell_type": "code",
   "execution_count": 67,
   "metadata": {},
   "outputs": [
    {
     "data": {
      "text/html": [
       "<div>\n",
       "<style scoped>\n",
       "    .dataframe tbody tr th:only-of-type {\n",
       "        vertical-align: middle;\n",
       "    }\n",
       "\n",
       "    .dataframe tbody tr th {\n",
       "        vertical-align: top;\n",
       "    }\n",
       "\n",
       "    .dataframe thead th {\n",
       "        text-align: right;\n",
       "    }\n",
       "</style>\n",
       "<table border=\"1\" class=\"dataframe\">\n",
       "  <thead>\n",
       "    <tr style=\"text-align: right;\">\n",
       "      <th></th>\n",
       "      <th>Increased Agitation</th>\n",
       "      <th>Percent</th>\n",
       "    </tr>\n",
       "  </thead>\n",
       "  <tbody>\n",
       "    <tr>\n",
       "      <th>1</th>\n",
       "      <td>129</td>\n",
       "      <td>66.839378</td>\n",
       "    </tr>\n",
       "    <tr>\n",
       "      <th>0</th>\n",
       "      <td>64</td>\n",
       "      <td>33.160622</td>\n",
       "    </tr>\n",
       "  </tbody>\n",
       "</table>\n",
       "</div>"
      ],
      "text/plain": [
       "   Increased Agitation    Percent\n",
       "1                  129  66.839378\n",
       "0                   64  33.160622"
      ]
     },
     "execution_count": 67,
     "metadata": {},
     "output_type": "execute_result"
    }
   ],
   "source": [
    "field = shooters_df.columns[61]\n",
    "stat_df = get_distribution(shooters_df, field, 0)\n",
    "stat_df"
   ]
  },
  {
   "cell_type": "code",
   "execution_count": 68,
   "metadata": {},
   "outputs": [
    {
     "data": {
      "text/html": [
       "<div>\n",
       "<style scoped>\n",
       "    .dataframe tbody tr th:only-of-type {\n",
       "        vertical-align: middle;\n",
       "    }\n",
       "\n",
       "    .dataframe tbody tr th {\n",
       "        vertical-align: top;\n",
       "    }\n",
       "\n",
       "    .dataframe thead th {\n",
       "        text-align: right;\n",
       "    }\n",
       "</style>\n",
       "<table border=\"1\" class=\"dataframe\">\n",
       "  <thead>\n",
       "    <tr style=\"text-align: right;\">\n",
       "      <th></th>\n",
       "      <th>Abusive Behavior</th>\n",
       "      <th>Percent</th>\n",
       "    </tr>\n",
       "  </thead>\n",
       "  <tbody>\n",
       "    <tr>\n",
       "      <th>0</th>\n",
       "      <td>110</td>\n",
       "      <td>56.994819</td>\n",
       "    </tr>\n",
       "    <tr>\n",
       "      <th>1</th>\n",
       "      <td>83</td>\n",
       "      <td>43.005181</td>\n",
       "    </tr>\n",
       "  </tbody>\n",
       "</table>\n",
       "</div>"
      ],
      "text/plain": [
       "   Abusive Behavior    Percent\n",
       "0               110  56.994819\n",
       "1                83  43.005181"
      ]
     },
     "execution_count": 68,
     "metadata": {},
     "output_type": "execute_result"
    }
   ],
   "source": [
    "# Abusive behavior\n",
    "field = shooters_df.columns[62]\n",
    "stat_df = get_distribution(shooters_df, field, 0)\n",
    "stat_df"
   ]
  },
  {
   "cell_type": "code",
   "execution_count": 69,
   "metadata": {},
   "outputs": [
    {
     "data": {
      "text/html": [
       "<div>\n",
       "<style scoped>\n",
       "    .dataframe tbody tr th:only-of-type {\n",
       "        vertical-align: middle;\n",
       "    }\n",
       "\n",
       "    .dataframe tbody tr th {\n",
       "        vertical-align: top;\n",
       "    }\n",
       "\n",
       "    .dataframe thead th {\n",
       "        text-align: right;\n",
       "    }\n",
       "</style>\n",
       "<table border=\"1\" class=\"dataframe\">\n",
       "  <thead>\n",
       "    <tr style=\"text-align: right;\">\n",
       "      <th></th>\n",
       "      <th>Isolation</th>\n",
       "      <th>Percent</th>\n",
       "    </tr>\n",
       "  </thead>\n",
       "  <tbody>\n",
       "    <tr>\n",
       "      <th>0</th>\n",
       "      <td>114</td>\n",
       "      <td>59.067358</td>\n",
       "    </tr>\n",
       "    <tr>\n",
       "      <th>1</th>\n",
       "      <td>79</td>\n",
       "      <td>40.932642</td>\n",
       "    </tr>\n",
       "  </tbody>\n",
       "</table>\n",
       "</div>"
      ],
      "text/plain": [
       "   Isolation    Percent\n",
       "0        114  59.067358\n",
       "1         79  40.932642"
      ]
     },
     "execution_count": 69,
     "metadata": {},
     "output_type": "execute_result"
    }
   ],
   "source": [
    "field = shooters_df.columns[63]\n",
    "stat_df = get_distribution(shooters_df, field, 0)\n",
    "stat_df"
   ]
  },
  {
   "cell_type": "code",
   "execution_count": 70,
   "metadata": {},
   "outputs": [
    {
     "data": {
      "text/html": [
       "<div>\n",
       "<style scoped>\n",
       "    .dataframe tbody tr th:only-of-type {\n",
       "        vertical-align: middle;\n",
       "    }\n",
       "\n",
       "    .dataframe tbody tr th {\n",
       "        vertical-align: top;\n",
       "    }\n",
       "\n",
       "    .dataframe thead th {\n",
       "        text-align: right;\n",
       "    }\n",
       "</style>\n",
       "<table border=\"1\" class=\"dataframe\">\n",
       "  <thead>\n",
       "    <tr style=\"text-align: right;\">\n",
       "      <th></th>\n",
       "      <th>Losing Touch with Reality</th>\n",
       "      <th>Percent</th>\n",
       "    </tr>\n",
       "  </thead>\n",
       "  <tbody>\n",
       "    <tr>\n",
       "      <th>0</th>\n",
       "      <td>129</td>\n",
       "      <td>66.839378</td>\n",
       "    </tr>\n",
       "    <tr>\n",
       "      <th>1</th>\n",
       "      <td>64</td>\n",
       "      <td>33.160622</td>\n",
       "    </tr>\n",
       "  </tbody>\n",
       "</table>\n",
       "</div>"
      ],
      "text/plain": [
       "   Losing Touch with Reality    Percent\n",
       "0                        129  66.839378\n",
       "1                         64  33.160622"
      ]
     },
     "execution_count": 70,
     "metadata": {},
     "output_type": "execute_result"
    }
   ],
   "source": [
    "field = shooters_df.columns[64]\n",
    "stat_df = get_distribution(shooters_df, field, 0)\n",
    "stat_df"
   ]
  },
  {
   "cell_type": "code",
   "execution_count": 71,
   "metadata": {},
   "outputs": [
    {
     "data": {
      "text/html": [
       "<div>\n",
       "<style scoped>\n",
       "    .dataframe tbody tr th:only-of-type {\n",
       "        vertical-align: middle;\n",
       "    }\n",
       "\n",
       "    .dataframe tbody tr th {\n",
       "        vertical-align: top;\n",
       "    }\n",
       "\n",
       "    .dataframe thead th {\n",
       "        text-align: right;\n",
       "    }\n",
       "</style>\n",
       "<table border=\"1\" class=\"dataframe\">\n",
       "  <thead>\n",
       "    <tr style=\"text-align: right;\">\n",
       "      <th></th>\n",
       "      <th>Paranoia</th>\n",
       "      <th>Percent</th>\n",
       "    </tr>\n",
       "  </thead>\n",
       "  <tbody>\n",
       "    <tr>\n",
       "      <th>0</th>\n",
       "      <td>143</td>\n",
       "      <td>74.093264</td>\n",
       "    </tr>\n",
       "    <tr>\n",
       "      <th>1</th>\n",
       "      <td>50</td>\n",
       "      <td>25.906736</td>\n",
       "    </tr>\n",
       "  </tbody>\n",
       "</table>\n",
       "</div>"
      ],
      "text/plain": [
       "   Paranoia    Percent\n",
       "0       143  74.093264\n",
       "1        50  25.906736"
      ]
     },
     "execution_count": 71,
     "metadata": {},
     "output_type": "execute_result"
    }
   ],
   "source": [
    "# Paranoia\n",
    "field = shooters_df.columns[65]\n",
    "stat_df = get_distribution(shooters_df, field, 0)\n",
    "stat_df"
   ]
  },
  {
   "cell_type": "code",
   "execution_count": 72,
   "metadata": {},
   "outputs": [
    {
     "data": {
      "text/html": [
       "<div>\n",
       "<style scoped>\n",
       "    .dataframe tbody tr th:only-of-type {\n",
       "        vertical-align: middle;\n",
       "    }\n",
       "\n",
       "    .dataframe tbody tr th {\n",
       "        vertical-align: top;\n",
       "    }\n",
       "\n",
       "    .dataframe thead th {\n",
       "        text-align: right;\n",
       "    }\n",
       "</style>\n",
       "<table border=\"1\" class=\"dataframe\">\n",
       "  <thead>\n",
       "    <tr style=\"text-align: right;\">\n",
       "      <th></th>\n",
       "      <th>Suicidality</th>\n",
       "      <th>Percent</th>\n",
       "    </tr>\n",
       "  </thead>\n",
       "  <tbody>\n",
       "    <tr>\n",
       "      <th>2</th>\n",
       "      <td>73</td>\n",
       "      <td>37.823834</td>\n",
       "    </tr>\n",
       "    <tr>\n",
       "      <th>1</th>\n",
       "      <td>62</td>\n",
       "      <td>32.124352</td>\n",
       "    </tr>\n",
       "    <tr>\n",
       "      <th>0</th>\n",
       "      <td>58</td>\n",
       "      <td>30.051813</td>\n",
       "    </tr>\n",
       "  </tbody>\n",
       "</table>\n",
       "</div>"
      ],
      "text/plain": [
       "   Suicidality    Percent\n",
       "2           73  37.823834\n",
       "1           62  32.124352\n",
       "0           58  30.051813"
      ]
     },
     "execution_count": 72,
     "metadata": {},
     "output_type": "execute_result"
    }
   ],
   "source": [
    "# Suicide\n",
    "field = shooters_df.columns[66]\n",
    "stat_df = get_distribution(shooters_df, field, 0)\n",
    "stat_df"
   ]
  },
  {
   "cell_type": "code",
   "execution_count": 73,
   "metadata": {},
   "outputs": [
    {
     "data": {
      "text/html": [
       "<div>\n",
       "<style scoped>\n",
       "    .dataframe tbody tr th:only-of-type {\n",
       "        vertical-align: middle;\n",
       "    }\n",
       "\n",
       "    .dataframe tbody tr th {\n",
       "        vertical-align: top;\n",
       "    }\n",
       "\n",
       "    .dataframe thead th {\n",
       "        text-align: right;\n",
       "    }\n",
       "</style>\n",
       "<table border=\"1\" class=\"dataframe\">\n",
       "  <thead>\n",
       "    <tr style=\"text-align: right;\">\n",
       "      <th></th>\n",
       "      <th>Psychiatric Medication</th>\n",
       "      <th>Percent</th>\n",
       "    </tr>\n",
       "  </thead>\n",
       "  <tbody>\n",
       "    <tr>\n",
       "      <th>0.0</th>\n",
       "      <td>149</td>\n",
       "      <td>77.202073</td>\n",
       "    </tr>\n",
       "    <tr>\n",
       "      <th>1.0</th>\n",
       "      <td>44</td>\n",
       "      <td>22.797927</td>\n",
       "    </tr>\n",
       "  </tbody>\n",
       "</table>\n",
       "</div>"
      ],
      "text/plain": [
       "     Psychiatric Medication    Percent\n",
       "0.0                     149  77.202073\n",
       "1.0                      44  22.797927"
      ]
     },
     "execution_count": 73,
     "metadata": {},
     "output_type": "execute_result"
    }
   ],
   "source": [
    "field = shooters_df.columns[71]\n",
    "stat_df = get_distribution(shooters_df, field, 0)\n",
    "stat_df"
   ]
  },
  {
   "cell_type": "code",
   "execution_count": 74,
   "metadata": {},
   "outputs": [
    {
     "data": {
      "text/html": [
       "<div>\n",
       "<style scoped>\n",
       "    .dataframe tbody tr th:only-of-type {\n",
       "        vertical-align: middle;\n",
       "    }\n",
       "\n",
       "    .dataframe tbody tr th {\n",
       "        vertical-align: top;\n",
       "    }\n",
       "\n",
       "    .dataframe thead th {\n",
       "        text-align: right;\n",
       "    }\n",
       "</style>\n",
       "<table border=\"1\" class=\"dataframe\">\n",
       "  <thead>\n",
       "    <tr style=\"text-align: right;\">\n",
       "      <th></th>\n",
       "      <th>Treatment 6 Months Prior to Shooting</th>\n",
       "      <th>Percent</th>\n",
       "    </tr>\n",
       "  </thead>\n",
       "  <tbody>\n",
       "    <tr>\n",
       "      <th>0</th>\n",
       "      <td>157</td>\n",
       "      <td>81.34715</td>\n",
       "    </tr>\n",
       "    <tr>\n",
       "      <th>1</th>\n",
       "      <td>36</td>\n",
       "      <td>18.65285</td>\n",
       "    </tr>\n",
       "  </tbody>\n",
       "</table>\n",
       "</div>"
      ],
      "text/plain": [
       "   Treatment 6 Months Prior to Shooting   Percent\n",
       "0                                   157  81.34715\n",
       "1                                    36  18.65285"
      ]
     },
     "execution_count": 74,
     "metadata": {},
     "output_type": "execute_result"
    }
   ],
   "source": [
    "field = shooters_df.columns[73]\n",
    "stat_df = get_distribution(shooters_df, field, 0)\n",
    "stat_df"
   ]
  },
  {
   "cell_type": "code",
   "execution_count": 75,
   "metadata": {},
   "outputs": [
    {
     "data": {
      "text/html": [
       "<div>\n",
       "<style scoped>\n",
       "    .dataframe tbody tr th:only-of-type {\n",
       "        vertical-align: middle;\n",
       "    }\n",
       "\n",
       "    .dataframe tbody tr th {\n",
       "        vertical-align: top;\n",
       "    }\n",
       "\n",
       "    .dataframe thead th {\n",
       "        text-align: right;\n",
       "    }\n",
       "</style>\n",
       "<table border=\"1\" class=\"dataframe\">\n",
       "  <thead>\n",
       "    <tr style=\"text-align: right;\">\n",
       "      <th></th>\n",
       "      <th>Known Family Mental Health History</th>\n",
       "      <th>Percent</th>\n",
       "    </tr>\n",
       "  </thead>\n",
       "  <tbody>\n",
       "    <tr>\n",
       "      <th>0</th>\n",
       "      <td>161</td>\n",
       "      <td>83.419689</td>\n",
       "    </tr>\n",
       "    <tr>\n",
       "      <th>1</th>\n",
       "      <td>21</td>\n",
       "      <td>10.880829</td>\n",
       "    </tr>\n",
       "    <tr>\n",
       "      <th>2</th>\n",
       "      <td>10</td>\n",
       "      <td>5.181347</td>\n",
       "    </tr>\n",
       "    <tr>\n",
       "      <th>1, 2</th>\n",
       "      <td>1</td>\n",
       "      <td>0.518135</td>\n",
       "    </tr>\n",
       "  </tbody>\n",
       "</table>\n",
       "</div>"
      ],
      "text/plain": [
       "      Known Family Mental Health History    Percent\n",
       "0                                    161  83.419689\n",
       "1                                     21  10.880829\n",
       "2                                     10   5.181347\n",
       "1, 2                                   1   0.518135"
      ]
     },
     "execution_count": 75,
     "metadata": {},
     "output_type": "execute_result"
    }
   ],
   "source": [
    "field = shooters_df.columns[76]\n",
    "stat_df = get_distribution(shooters_df, field, 0)\n",
    "stat_df"
   ]
  },
  {
   "cell_type": "markdown",
   "metadata": {},
   "source": [
    "### Autism\n",
    "- https://www.cdc.gov/ncbddd/autism/data.html\n",
    "- https://www.ncbi.nlm.nih.gov/pmc/articles/PMC9128411/#:~:text=State%20prevalence%20estimates%20ranged%20from,)%20and%20Florida%20(329%2C131)."
   ]
  },
  {
   "cell_type": "code",
   "execution_count": 85,
   "metadata": {},
   "outputs": [
    {
     "data": {
      "text/html": [
       "<div>\n",
       "<style scoped>\n",
       "    .dataframe tbody tr th:only-of-type {\n",
       "        vertical-align: middle;\n",
       "    }\n",
       "\n",
       "    .dataframe tbody tr th {\n",
       "        vertical-align: top;\n",
       "    }\n",
       "\n",
       "    .dataframe thead th {\n",
       "        text-align: right;\n",
       "    }\n",
       "</style>\n",
       "<table border=\"1\" class=\"dataframe\">\n",
       "  <thead>\n",
       "    <tr style=\"text-align: right;\">\n",
       "      <th></th>\n",
       "      <th>Autism Spectrum</th>\n",
       "      <th>Percent</th>\n",
       "    </tr>\n",
       "  </thead>\n",
       "  <tbody>\n",
       "    <tr>\n",
       "      <th>No evidence</th>\n",
       "      <td>181</td>\n",
       "      <td>93.782383</td>\n",
       "    </tr>\n",
       "    <tr>\n",
       "      <th>Diagnosed or extremely likely</th>\n",
       "      <td>12</td>\n",
       "      <td>6.217617</td>\n",
       "    </tr>\n",
       "  </tbody>\n",
       "</table>\n",
       "</div>"
      ],
      "text/plain": [
       "                               Autism Spectrum    Percent\n",
       "No evidence                                181  93.782383\n",
       "Diagnosed or extremely likely               12   6.217617"
      ]
     },
     "execution_count": 85,
     "metadata": {},
     "output_type": "execute_result"
    }
   ],
   "source": [
    "field = shooters_df.columns[77]\n",
    "stat_df = get_distribution(shooters_df, field, codebook.codes_shooter_health_autism)\n",
    "stat_df"
   ]
  },
  {
   "cell_type": "code",
   "execution_count": 77,
   "metadata": {},
   "outputs": [
    {
     "data": {
      "text/html": [
       "<div>\n",
       "<style scoped>\n",
       "    .dataframe tbody tr th:only-of-type {\n",
       "        vertical-align: middle;\n",
       "    }\n",
       "\n",
       "    .dataframe tbody tr th {\n",
       "        vertical-align: top;\n",
       "    }\n",
       "\n",
       "    .dataframe thead th {\n",
       "        text-align: right;\n",
       "    }\n",
       "</style>\n",
       "<table border=\"1\" class=\"dataframe\">\n",
       "  <thead>\n",
       "    <tr style=\"text-align: right;\">\n",
       "      <th></th>\n",
       "      <th>Substance Use</th>\n",
       "      <th>Percent</th>\n",
       "    </tr>\n",
       "  </thead>\n",
       "  <tbody>\n",
       "    <tr>\n",
       "      <th>0</th>\n",
       "      <td>113</td>\n",
       "      <td>58.549223</td>\n",
       "    </tr>\n",
       "    <tr>\n",
       "      <th>1</th>\n",
       "      <td>24</td>\n",
       "      <td>12.435233</td>\n",
       "    </tr>\n",
       "    <tr>\n",
       "      <th>3</th>\n",
       "      <td>17</td>\n",
       "      <td>8.808290</td>\n",
       "    </tr>\n",
       "    <tr>\n",
       "      <th>2</th>\n",
       "      <td>12</td>\n",
       "      <td>6.217617</td>\n",
       "    </tr>\n",
       "    <tr>\n",
       "      <th>1, 3</th>\n",
       "      <td>8</td>\n",
       "      <td>4.145078</td>\n",
       "    </tr>\n",
       "    <tr>\n",
       "      <th>1, 2, 3</th>\n",
       "      <td>8</td>\n",
       "      <td>4.145078</td>\n",
       "    </tr>\n",
       "    <tr>\n",
       "      <th>1, 2</th>\n",
       "      <td>7</td>\n",
       "      <td>3.626943</td>\n",
       "    </tr>\n",
       "    <tr>\n",
       "      <th>2, 3</th>\n",
       "      <td>3</td>\n",
       "      <td>1.554404</td>\n",
       "    </tr>\n",
       "    <tr>\n",
       "      <th>2,3</th>\n",
       "      <td>1</td>\n",
       "      <td>0.518135</td>\n",
       "    </tr>\n",
       "  </tbody>\n",
       "</table>\n",
       "</div>"
      ],
      "text/plain": [
       "         Substance Use    Percent\n",
       "0                  113  58.549223\n",
       "1                   24  12.435233\n",
       "3                   17   8.808290\n",
       "2                   12   6.217617\n",
       "1, 3                 8   4.145078\n",
       "1, 2, 3              8   4.145078\n",
       "1, 2                 7   3.626943\n",
       "2, 3                 3   1.554404\n",
       "2,3                  1   0.518135"
      ]
     },
     "execution_count": 77,
     "metadata": {},
     "output_type": "execute_result"
    }
   ],
   "source": [
    "# Drugs\n",
    "field = shooters_df.columns[78]\n",
    "stat_df = get_distribution(shooters_df, field, 0)\n",
    "stat_df"
   ]
  },
  {
   "cell_type": "code",
   "execution_count": 78,
   "metadata": {},
   "outputs": [
    {
     "data": {
      "text/html": [
       "<div>\n",
       "<style scoped>\n",
       "    .dataframe tbody tr th:only-of-type {\n",
       "        vertical-align: middle;\n",
       "    }\n",
       "\n",
       "    .dataframe tbody tr th {\n",
       "        vertical-align: top;\n",
       "    }\n",
       "\n",
       "    .dataframe thead th {\n",
       "        text-align: right;\n",
       "    }\n",
       "</style>\n",
       "<table border=\"1\" class=\"dataframe\">\n",
       "  <thead>\n",
       "    <tr style=\"text-align: right;\">\n",
       "      <th></th>\n",
       "      <th>Head Injury / Possible TBI</th>\n",
       "      <th>Percent</th>\n",
       "    </tr>\n",
       "  </thead>\n",
       "  <tbody>\n",
       "    <tr>\n",
       "      <th>0</th>\n",
       "      <td>178</td>\n",
       "      <td>92.227979</td>\n",
       "    </tr>\n",
       "    <tr>\n",
       "      <th>1</th>\n",
       "      <td>15</td>\n",
       "      <td>7.772021</td>\n",
       "    </tr>\n",
       "  </tbody>\n",
       "</table>\n",
       "</div>"
      ],
      "text/plain": [
       "   Head Injury / Possible TBI    Percent\n",
       "0                         178  92.227979\n",
       "1                          15   7.772021"
      ]
     },
     "execution_count": 78,
     "metadata": {},
     "output_type": "execute_result"
    }
   ],
   "source": [
    "field = shooters_df.columns[80]\n",
    "stat_df = get_distribution(shooters_df, field, 0)\n",
    "stat_df"
   ]
  },
  {
   "cell_type": "code",
   "execution_count": 79,
   "metadata": {},
   "outputs": [
    {
     "data": {
      "text/html": [
       "<div>\n",
       "<style scoped>\n",
       "    .dataframe tbody tr th:only-of-type {\n",
       "        vertical-align: middle;\n",
       "    }\n",
       "\n",
       "    .dataframe tbody tr th {\n",
       "        vertical-align: top;\n",
       "    }\n",
       "\n",
       "    .dataframe thead th {\n",
       "        text-align: right;\n",
       "    }\n",
       "</style>\n",
       "<table border=\"1\" class=\"dataframe\">\n",
       "  <thead>\n",
       "    <tr style=\"text-align: right;\">\n",
       "      <th></th>\n",
       "      <th>Known Prejudices</th>\n",
       "      <th>Percent</th>\n",
       "    </tr>\n",
       "  </thead>\n",
       "  <tbody>\n",
       "    <tr>\n",
       "      <th>0</th>\n",
       "      <td>127</td>\n",
       "      <td>65.803109</td>\n",
       "    </tr>\n",
       "    <tr>\n",
       "      <th>1</th>\n",
       "      <td>20</td>\n",
       "      <td>10.362694</td>\n",
       "    </tr>\n",
       "    <tr>\n",
       "      <th>2</th>\n",
       "      <td>15</td>\n",
       "      <td>7.772021</td>\n",
       "    </tr>\n",
       "    <tr>\n",
       "      <th>1, 4</th>\n",
       "      <td>7</td>\n",
       "      <td>3.626943</td>\n",
       "    </tr>\n",
       "    <tr>\n",
       "      <th>3</th>\n",
       "      <td>4</td>\n",
       "      <td>2.072539</td>\n",
       "    </tr>\n",
       "    <tr>\n",
       "      <th>4</th>\n",
       "      <td>4</td>\n",
       "      <td>2.072539</td>\n",
       "    </tr>\n",
       "    <tr>\n",
       "      <th>2, 4</th>\n",
       "      <td>3</td>\n",
       "      <td>1.554404</td>\n",
       "    </tr>\n",
       "    <tr>\n",
       "      <th>1, 3, 4</th>\n",
       "      <td>3</td>\n",
       "      <td>1.554404</td>\n",
       "    </tr>\n",
       "    <tr>\n",
       "      <th>1, 2, 4</th>\n",
       "      <td>3</td>\n",
       "      <td>1.554404</td>\n",
       "    </tr>\n",
       "    <tr>\n",
       "      <th>1, 3</th>\n",
       "      <td>2</td>\n",
       "      <td>1.036269</td>\n",
       "    </tr>\n",
       "    <tr>\n",
       "      <th>1, 2</th>\n",
       "      <td>2</td>\n",
       "      <td>1.036269</td>\n",
       "    </tr>\n",
       "    <tr>\n",
       "      <th>1,4</th>\n",
       "      <td>1</td>\n",
       "      <td>0.518135</td>\n",
       "    </tr>\n",
       "    <tr>\n",
       "      <th>1, 2, 3</th>\n",
       "      <td>1</td>\n",
       "      <td>0.518135</td>\n",
       "    </tr>\n",
       "    <tr>\n",
       "      <th>1,2,4</th>\n",
       "      <td>1</td>\n",
       "      <td>0.518135</td>\n",
       "    </tr>\n",
       "  </tbody>\n",
       "</table>\n",
       "</div>"
      ],
      "text/plain": [
       "         Known Prejudices    Percent\n",
       "0                     127  65.803109\n",
       "1                      20  10.362694\n",
       "2                      15   7.772021\n",
       "1, 4                    7   3.626943\n",
       "3                       4   2.072539\n",
       "4                       4   2.072539\n",
       "2, 4                    3   1.554404\n",
       "1, 3, 4                 3   1.554404\n",
       "1, 2, 4                 3   1.554404\n",
       "1, 3                    2   1.036269\n",
       "1, 2                    2   1.036269\n",
       "1,4                     1   0.518135\n",
       "1, 2, 3                 1   0.518135\n",
       "1,2,4                   1   0.518135"
      ]
     },
     "execution_count": 79,
     "metadata": {},
     "output_type": "execute_result"
    }
   ],
   "source": [
    "# PRejudices\n",
    "field = shooters_df.columns[81]\n",
    "stat_df = get_distribution(shooters_df, field, 0)\n",
    "stat_df"
   ]
  },
  {
   "cell_type": "code",
   "execution_count": 80,
   "metadata": {},
   "outputs": [
    {
     "data": {
      "text/html": [
       "<div>\n",
       "<style scoped>\n",
       "    .dataframe tbody tr th:only-of-type {\n",
       "        vertical-align: middle;\n",
       "    }\n",
       "\n",
       "    .dataframe tbody tr th {\n",
       "        vertical-align: top;\n",
       "    }\n",
       "\n",
       "    .dataframe thead th {\n",
       "        text-align: right;\n",
       "    }\n",
       "</style>\n",
       "<table border=\"1\" class=\"dataframe\">\n",
       "  <thead>\n",
       "    <tr style=\"text-align: right;\">\n",
       "      <th></th>\n",
       "      <th>Interest in Firearms</th>\n",
       "      <th>Percent</th>\n",
       "    </tr>\n",
       "  </thead>\n",
       "  <tbody>\n",
       "    <tr>\n",
       "      <th>No evidence</th>\n",
       "      <td>125</td>\n",
       "      <td>64.766839</td>\n",
       "    </tr>\n",
       "    <tr>\n",
       "      <th>Yes</th>\n",
       "      <td>68</td>\n",
       "      <td>35.233161</td>\n",
       "    </tr>\n",
       "  </tbody>\n",
       "</table>\n",
       "</div>"
      ],
      "text/plain": [
       "             Interest in Firearms    Percent\n",
       "No evidence                   125  64.766839\n",
       "Yes                            68  35.233161"
      ]
     },
     "execution_count": 80,
     "metadata": {},
     "output_type": "execute_result"
    }
   ],
   "source": [
    "field = shooters_df.columns[82]\n",
    "stat_df = get_distribution(shooters_df, field, 0)\n",
    "stat_df"
   ]
  },
  {
   "cell_type": "code",
   "execution_count": 81,
   "metadata": {},
   "outputs": [
    {
     "data": {
      "text/html": [
       "<div>\n",
       "<style scoped>\n",
       "    .dataframe tbody tr th:only-of-type {\n",
       "        vertical-align: middle;\n",
       "    }\n",
       "\n",
       "    .dataframe tbody tr th {\n",
       "        vertical-align: top;\n",
       "    }\n",
       "\n",
       "    .dataframe thead th {\n",
       "        text-align: right;\n",
       "    }\n",
       "</style>\n",
       "<table border=\"1\" class=\"dataframe\">\n",
       "  <thead>\n",
       "    <tr style=\"text-align: right;\">\n",
       "      <th></th>\n",
       "      <th>Firearm Proficiency</th>\n",
       "      <th>Percent</th>\n",
       "    </tr>\n",
       "  </thead>\n",
       "  <tbody>\n",
       "    <tr>\n",
       "      <th>Some experience</th>\n",
       "      <td>59</td>\n",
       "      <td>30.569948</td>\n",
       "    </tr>\n",
       "    <tr>\n",
       "      <th>Very experienced</th>\n",
       "      <td>58</td>\n",
       "      <td>30.051813</td>\n",
       "    </tr>\n",
       "    <tr>\n",
       "      <th>No experience</th>\n",
       "      <td>44</td>\n",
       "      <td>22.797927</td>\n",
       "    </tr>\n",
       "    <tr>\n",
       "      <th>More experienced</th>\n",
       "      <td>30</td>\n",
       "      <td>15.544041</td>\n",
       "    </tr>\n",
       "    <tr>\n",
       "      <th>Unknown</th>\n",
       "      <td>2</td>\n",
       "      <td>1.036269</td>\n",
       "    </tr>\n",
       "  </tbody>\n",
       "</table>\n",
       "</div>"
      ],
      "text/plain": [
       "                  Firearm Proficiency    Percent\n",
       "Some experience                    59  30.569948\n",
       "Very experienced                   58  30.051813\n",
       "No experience                      44  22.797927\n",
       "More experienced                   30  15.544041\n",
       "Unknown                             2   1.036269"
      ]
     },
     "execution_count": 81,
     "metadata": {},
     "output_type": "execute_result"
    }
   ],
   "source": [
    "field = shooters_df.columns[83]\n",
    "stat_df = get_distribution(shooters_df, field, codebook.codes_shooter_other_proficiency)\n",
    "stat_df"
   ]
  },
  {
   "cell_type": "markdown",
   "metadata": {},
   "source": [
    "# Get any stat"
   ]
  },
  {
   "cell_type": "code",
   "execution_count": 82,
   "metadata": {},
   "outputs": [
    {
     "data": {
      "text/html": [
       "<div>\n",
       "<style scoped>\n",
       "    .dataframe tbody tr th:only-of-type {\n",
       "        vertical-align: middle;\n",
       "    }\n",
       "\n",
       "    .dataframe tbody tr th {\n",
       "        vertical-align: top;\n",
       "    }\n",
       "\n",
       "    .dataframe thead th {\n",
       "        text-align: right;\n",
       "    }\n",
       "</style>\n",
       "<table border=\"1\" class=\"dataframe\">\n",
       "  <thead>\n",
       "    <tr style=\"text-align: right;\">\n",
       "      <th></th>\n",
       "      <th>Age Bracket</th>\n",
       "      <th>Percent</th>\n",
       "    </tr>\n",
       "  </thead>\n",
       "  <tbody>\n",
       "    <tr>\n",
       "      <th>25 to 29 years</th>\n",
       "      <td>32</td>\n",
       "      <td>16.580311</td>\n",
       "    </tr>\n",
       "    <tr>\n",
       "      <th>40 to 44 years</th>\n",
       "      <td>26</td>\n",
       "      <td>13.471503</td>\n",
       "    </tr>\n",
       "    <tr>\n",
       "      <th>22 to 24 years</th>\n",
       "      <td>21</td>\n",
       "      <td>10.880829</td>\n",
       "    </tr>\n",
       "    <tr>\n",
       "      <th>30 to 34 years</th>\n",
       "      <td>20</td>\n",
       "      <td>10.362694</td>\n",
       "    </tr>\n",
       "    <tr>\n",
       "      <th>35 to 39 years</th>\n",
       "      <td>19</td>\n",
       "      <td>9.844560</td>\n",
       "    </tr>\n",
       "    <tr>\n",
       "      <th>45 to 49 years</th>\n",
       "      <td>17</td>\n",
       "      <td>8.808290</td>\n",
       "    </tr>\n",
       "    <tr>\n",
       "      <th>18 and 19 years</th>\n",
       "      <td>11</td>\n",
       "      <td>5.699482</td>\n",
       "    </tr>\n",
       "    <tr>\n",
       "      <th>50 to 54 years</th>\n",
       "      <td>11</td>\n",
       "      <td>5.699482</td>\n",
       "    </tr>\n",
       "    <tr>\n",
       "      <th>21 years</th>\n",
       "      <td>9</td>\n",
       "      <td>4.663212</td>\n",
       "    </tr>\n",
       "    <tr>\n",
       "      <th>15 to 17 years</th>\n",
       "      <td>7</td>\n",
       "      <td>3.626943</td>\n",
       "    </tr>\n",
       "    <tr>\n",
       "      <th>20 years</th>\n",
       "      <td>6</td>\n",
       "      <td>3.108808</td>\n",
       "    </tr>\n",
       "    <tr>\n",
       "      <th>55 to 59 years</th>\n",
       "      <td>4</td>\n",
       "      <td>2.072539</td>\n",
       "    </tr>\n",
       "    <tr>\n",
       "      <th>62 to 64 years</th>\n",
       "      <td>3</td>\n",
       "      <td>1.554404</td>\n",
       "    </tr>\n",
       "    <tr>\n",
       "      <th>10 to 14 years</th>\n",
       "      <td>2</td>\n",
       "      <td>1.036269</td>\n",
       "    </tr>\n",
       "    <tr>\n",
       "      <th>70 to 74 years</th>\n",
       "      <td>2</td>\n",
       "      <td>1.036269</td>\n",
       "    </tr>\n",
       "    <tr>\n",
       "      <th>65 and 66 years</th>\n",
       "      <td>2</td>\n",
       "      <td>1.036269</td>\n",
       "    </tr>\n",
       "    <tr>\n",
       "      <th>60 and 61 years</th>\n",
       "      <td>1</td>\n",
       "      <td>0.518135</td>\n",
       "    </tr>\n",
       "    <tr>\n",
       "      <th>80 to 84 years</th>\n",
       "      <td>0</td>\n",
       "      <td>0.000000</td>\n",
       "    </tr>\n",
       "    <tr>\n",
       "      <th>75 to 79 years</th>\n",
       "      <td>0</td>\n",
       "      <td>0.000000</td>\n",
       "    </tr>\n",
       "    <tr>\n",
       "      <th>Under 5 years old</th>\n",
       "      <td>0</td>\n",
       "      <td>0.000000</td>\n",
       "    </tr>\n",
       "    <tr>\n",
       "      <th>67 to 69 years</th>\n",
       "      <td>0</td>\n",
       "      <td>0.000000</td>\n",
       "    </tr>\n",
       "    <tr>\n",
       "      <th>5 to 9 years</th>\n",
       "      <td>0</td>\n",
       "      <td>0.000000</td>\n",
       "    </tr>\n",
       "    <tr>\n",
       "      <th>85 years and over</th>\n",
       "      <td>0</td>\n",
       "      <td>0.000000</td>\n",
       "    </tr>\n",
       "  </tbody>\n",
       "</table>\n",
       "</div>"
      ],
      "text/plain": [
       "                   Age Bracket    Percent\n",
       "25 to 29 years              32  16.580311\n",
       "40 to 44 years              26  13.471503\n",
       "22 to 24 years              21  10.880829\n",
       "30 to 34 years              20  10.362694\n",
       "35 to 39 years              19   9.844560\n",
       "45 to 49 years              17   8.808290\n",
       "18 and 19 years             11   5.699482\n",
       "50 to 54 years              11   5.699482\n",
       "21 years                     9   4.663212\n",
       "15 to 17 years               7   3.626943\n",
       "20 years                     6   3.108808\n",
       "55 to 59 years               4   2.072539\n",
       "62 to 64 years               3   1.554404\n",
       "10 to 14 years               2   1.036269\n",
       "70 to 74 years               2   1.036269\n",
       "65 and 66 years              2   1.036269\n",
       "60 and 61 years              1   0.518135\n",
       "80 to 84 years               0   0.000000\n",
       "75 to 79 years               0   0.000000\n",
       "Under 5 years old            0   0.000000\n",
       "67 to 69 years               0   0.000000\n",
       "5 to 9 years                 0   0.000000\n",
       "85 years and over            0   0.000000"
      ]
     },
     "execution_count": 82,
     "metadata": {},
     "output_type": "execute_result"
    }
   ],
   "source": [
    "field = shooters_df.columns[84]\n",
    "stat_df = get_distribution(shooters_df, field, 0)\n",
    "stat_df"
   ]
  },
  {
   "cell_type": "markdown",
   "metadata": {},
   "source": [
    "# DataFrame with analysed metrics"
   ]
  },
  {
   "cell_type": "code",
   "execution_count": 86,
   "metadata": {},
   "outputs": [],
   "source": [
    "shooter_profile = shooters_df[\n",
    "        [\n",
    "        'Gender',\n",
    "        'Race',\n",
    "        'Religion',\n",
    "        'Immigrant',\n",
    "        'Mental Illness',\n",
    "        'Notably Depressed Mood',\n",
    "        'Military Service',\n",
    "        'Military Branch',\n",
    "        'Violent Video Games',\n",
    "        'School Performance',\n",
    "        'Employment Status',\n",
    "        'Age Bracket',\n",
    "        'History of Physical Altercations',\n",
    "        'Highest Level of Justice System Involvement',\n",
    "        'History of Domestic Abuse',\n",
    "        'History of Sexual Offenses',\n",
    "        'Autism Spectrum'\n",
    "        ]]"
   ]
  },
  {
   "cell_type": "code",
   "execution_count": 87,
   "metadata": {},
   "outputs": [
    {
     "data": {
      "text/html": [
       "<div>\n",
       "<style scoped>\n",
       "    .dataframe tbody tr th:only-of-type {\n",
       "        vertical-align: middle;\n",
       "    }\n",
       "\n",
       "    .dataframe tbody tr th {\n",
       "        vertical-align: top;\n",
       "    }\n",
       "\n",
       "    .dataframe thead th {\n",
       "        text-align: right;\n",
       "    }\n",
       "</style>\n",
       "<table border=\"1\" class=\"dataframe\">\n",
       "  <thead>\n",
       "    <tr style=\"text-align: right;\">\n",
       "      <th></th>\n",
       "      <th>Gender</th>\n",
       "      <th>Race</th>\n",
       "      <th>Religion</th>\n",
       "      <th>Immigrant</th>\n",
       "      <th>Mental Illness</th>\n",
       "      <th>Notably Depressed Mood</th>\n",
       "      <th>Military Service</th>\n",
       "      <th>Military Branch</th>\n",
       "      <th>Violent Video Games</th>\n",
       "      <th>School Performance</th>\n",
       "      <th>Employment Status</th>\n",
       "      <th>Age Bracket</th>\n",
       "      <th>History of Physical Altercations</th>\n",
       "      <th>Highest Level of Justice System Involvement</th>\n",
       "      <th>History of Domestic Abuse</th>\n",
       "      <th>History of Sexual Offenses</th>\n",
       "      <th>Autism Spectrum</th>\n",
       "    </tr>\n",
       "  </thead>\n",
       "  <tbody>\n",
       "    <tr>\n",
       "      <th>0</th>\n",
       "      <td>Male</td>\n",
       "      <td>White</td>\n",
       "      <td>Christian</td>\n",
       "      <td>No</td>\n",
       "      <td>1</td>\n",
       "      <td>Yes</td>\n",
       "      <td>Yes</td>\n",
       "      <td>Marines</td>\n",
       "      <td>NA (pre-1992)</td>\n",
       "      <td>Poor</td>\n",
       "      <td>0</td>\n",
       "      <td>25 to 29 years</td>\n",
       "      <td>No evidence</td>\n",
       "      <td>Convicted</td>\n",
       "      <td>1</td>\n",
       "      <td>0</td>\n",
       "      <td>No evidence</td>\n",
       "    </tr>\n",
       "    <tr>\n",
       "      <th>1</th>\n",
       "      <td>Male</td>\n",
       "      <td>White</td>\n",
       "      <td>None</td>\n",
       "      <td>No</td>\n",
       "      <td>2</td>\n",
       "      <td>No evidence</td>\n",
       "      <td>No</td>\n",
       "      <td>NA</td>\n",
       "      <td>NA (pre-1992)</td>\n",
       "      <td>Good</td>\n",
       "      <td>0</td>\n",
       "      <td>18 and 19 years</td>\n",
       "      <td>No evidence</td>\n",
       "      <td>NA</td>\n",
       "      <td>0</td>\n",
       "      <td>0</td>\n",
       "      <td>No evidence</td>\n",
       "    </tr>\n",
       "    <tr>\n",
       "      <th>2</th>\n",
       "      <td>Male</td>\n",
       "      <td>White</td>\n",
       "      <td>Christian</td>\n",
       "      <td>No</td>\n",
       "      <td>4</td>\n",
       "      <td>No evidence</td>\n",
       "      <td>Yes</td>\n",
       "      <td>Army</td>\n",
       "      <td>NA (pre-1992)</td>\n",
       "      <td>Unknown</td>\n",
       "      <td>1</td>\n",
       "      <td>35 to 39 years</td>\n",
       "      <td>Yes</td>\n",
       "      <td>Suspected</td>\n",
       "      <td>0</td>\n",
       "      <td>0</td>\n",
       "      <td>No evidence</td>\n",
       "    </tr>\n",
       "    <tr>\n",
       "      <th>3</th>\n",
       "      <td>Male</td>\n",
       "      <td>White</td>\n",
       "      <td>None</td>\n",
       "      <td>No</td>\n",
       "      <td>0</td>\n",
       "      <td>No evidence</td>\n",
       "      <td>No</td>\n",
       "      <td>NA</td>\n",
       "      <td>NA (pre-1992)</td>\n",
       "      <td>Unknown</td>\n",
       "      <td>1</td>\n",
       "      <td>55 to 59 years</td>\n",
       "      <td>No evidence</td>\n",
       "      <td>NA</td>\n",
       "      <td>0</td>\n",
       "      <td>0</td>\n",
       "      <td>No evidence</td>\n",
       "    </tr>\n",
       "    <tr>\n",
       "      <th>4</th>\n",
       "      <td>Male</td>\n",
       "      <td>Black</td>\n",
       "      <td>Christian</td>\n",
       "      <td>No</td>\n",
       "      <td>2</td>\n",
       "      <td>No evidence</td>\n",
       "      <td>Yes</td>\n",
       "      <td>Air Force</td>\n",
       "      <td>NA (pre-1992)</td>\n",
       "      <td>Good</td>\n",
       "      <td>0</td>\n",
       "      <td>30 to 34 years</td>\n",
       "      <td>No evidence</td>\n",
       "      <td>NA</td>\n",
       "      <td>3</td>\n",
       "      <td>0</td>\n",
       "      <td>No evidence</td>\n",
       "    </tr>\n",
       "    <tr>\n",
       "      <th>...</th>\n",
       "      <td>...</td>\n",
       "      <td>...</td>\n",
       "      <td>...</td>\n",
       "      <td>...</td>\n",
       "      <td>...</td>\n",
       "      <td>...</td>\n",
       "      <td>...</td>\n",
       "      <td>...</td>\n",
       "      <td>...</td>\n",
       "      <td>...</td>\n",
       "      <td>...</td>\n",
       "      <td>...</td>\n",
       "      <td>...</td>\n",
       "      <td>...</td>\n",
       "      <td>...</td>\n",
       "      <td>...</td>\n",
       "      <td>...</td>\n",
       "    </tr>\n",
       "    <tr>\n",
       "      <th>188</th>\n",
       "      <td>Male</td>\n",
       "      <td>Asian</td>\n",
       "      <td>None</td>\n",
       "      <td>Yes</td>\n",
       "      <td>0</td>\n",
       "      <td>No evidence</td>\n",
       "      <td>No</td>\n",
       "      <td>NA</td>\n",
       "      <td>No evidence</td>\n",
       "      <td>Unknown</td>\n",
       "      <td>0</td>\n",
       "      <td>70 to 74 years</td>\n",
       "      <td>No evidence</td>\n",
       "      <td>Arrested</td>\n",
       "      <td>0</td>\n",
       "      <td>0</td>\n",
       "      <td>No evidence</td>\n",
       "    </tr>\n",
       "    <tr>\n",
       "      <th>189</th>\n",
       "      <td>Male</td>\n",
       "      <td>Asian</td>\n",
       "      <td>None</td>\n",
       "      <td>Yes</td>\n",
       "      <td>0</td>\n",
       "      <td>No evidence</td>\n",
       "      <td>No</td>\n",
       "      <td>NA</td>\n",
       "      <td>No evidence</td>\n",
       "      <td>Unknown</td>\n",
       "      <td>1</td>\n",
       "      <td>65 and 66 years</td>\n",
       "      <td>Yes</td>\n",
       "      <td>NA</td>\n",
       "      <td>0</td>\n",
       "      <td>0</td>\n",
       "      <td>No evidence</td>\n",
       "    </tr>\n",
       "    <tr>\n",
       "      <th>190</th>\n",
       "      <td>Transgender</td>\n",
       "      <td>White</td>\n",
       "      <td>Christian</td>\n",
       "      <td>No</td>\n",
       "      <td>1</td>\n",
       "      <td>Yes</td>\n",
       "      <td>No</td>\n",
       "      <td>NA</td>\n",
       "      <td>No evidence</td>\n",
       "      <td>Good</td>\n",
       "      <td>1</td>\n",
       "      <td>25 to 29 years</td>\n",
       "      <td>No evidence</td>\n",
       "      <td>NA</td>\n",
       "      <td>0</td>\n",
       "      <td>0</td>\n",
       "      <td>Diagnosed or extremely likely</td>\n",
       "    </tr>\n",
       "    <tr>\n",
       "      <th>191</th>\n",
       "      <td>Male</td>\n",
       "      <td>White</td>\n",
       "      <td>None</td>\n",
       "      <td>No</td>\n",
       "      <td>1</td>\n",
       "      <td>No evidence</td>\n",
       "      <td>No</td>\n",
       "      <td>NA</td>\n",
       "      <td>No evidence</td>\n",
       "      <td>Unknown</td>\n",
       "      <td>1</td>\n",
       "      <td>25 to 29 years</td>\n",
       "      <td>No evidence</td>\n",
       "      <td>NA</td>\n",
       "      <td>0</td>\n",
       "      <td>0</td>\n",
       "      <td>No evidence</td>\n",
       "    </tr>\n",
       "    <tr>\n",
       "      <th>192</th>\n",
       "      <td>Male</td>\n",
       "      <td>Latinx</td>\n",
       "      <td>None</td>\n",
       "      <td>Unknown</td>\n",
       "      <td>4</td>\n",
       "      <td>No evidence</td>\n",
       "      <td>Joined but did not make it through training</td>\n",
       "      <td>Army</td>\n",
       "      <td>No evidence</td>\n",
       "      <td>Unknown</td>\n",
       "      <td>1</td>\n",
       "      <td>30 to 34 years</td>\n",
       "      <td>No evidence</td>\n",
       "      <td>NA</td>\n",
       "      <td>0</td>\n",
       "      <td>0</td>\n",
       "      <td>No evidence</td>\n",
       "    </tr>\n",
       "  </tbody>\n",
       "</table>\n",
       "<p>193 rows × 17 columns</p>\n",
       "</div>"
      ],
      "text/plain": [
       "          Gender    Race   Religion Immigrant Mental Illness  \\\n",
       "0           Male   White  Christian        No              1   \n",
       "1           Male   White       None        No              2   \n",
       "2           Male   White  Christian        No              4   \n",
       "3           Male   White       None        No              0   \n",
       "4           Male   Black  Christian        No              2   \n",
       "..           ...     ...        ...       ...            ...   \n",
       "188         Male   Asian       None       Yes              0   \n",
       "189         Male   Asian       None       Yes              0   \n",
       "190  Transgender   White  Christian        No              1   \n",
       "191         Male   White       None        No              1   \n",
       "192         Male  Latinx       None   Unknown              4   \n",
       "\n",
       "    Notably Depressed Mood                             Military Service  \\\n",
       "0                      Yes                                          Yes   \n",
       "1              No evidence                                           No   \n",
       "2              No evidence                                          Yes   \n",
       "3              No evidence                                           No   \n",
       "4              No evidence                                          Yes   \n",
       "..                     ...                                          ...   \n",
       "188            No evidence                                           No   \n",
       "189            No evidence                                           No   \n",
       "190                    Yes                                           No   \n",
       "191            No evidence                                           No   \n",
       "192            No evidence  Joined but did not make it through training   \n",
       "\n",
       "    Military Branch Violent Video Games School Performance Employment Status  \\\n",
       "0           Marines       NA (pre-1992)               Poor                 0   \n",
       "1                NA       NA (pre-1992)               Good                 0   \n",
       "2              Army       NA (pre-1992)            Unknown                 1   \n",
       "3                NA       NA (pre-1992)            Unknown                 1   \n",
       "4         Air Force       NA (pre-1992)               Good                 0   \n",
       "..              ...                 ...                ...               ...   \n",
       "188              NA         No evidence            Unknown                 0   \n",
       "189              NA         No evidence            Unknown                 1   \n",
       "190              NA         No evidence               Good                 1   \n",
       "191              NA         No evidence            Unknown                 1   \n",
       "192            Army         No evidence            Unknown                 1   \n",
       "\n",
       "         Age Bracket History of Physical Altercations  \\\n",
       "0     25 to 29 years                      No evidence   \n",
       "1    18 and 19 years                      No evidence   \n",
       "2     35 to 39 years                              Yes   \n",
       "3     55 to 59 years                      No evidence   \n",
       "4     30 to 34 years                      No evidence   \n",
       "..               ...                              ...   \n",
       "188   70 to 74 years                      No evidence   \n",
       "189  65 and 66 years                              Yes   \n",
       "190   25 to 29 years                      No evidence   \n",
       "191   25 to 29 years                      No evidence   \n",
       "192   30 to 34 years                      No evidence   \n",
       "\n",
       "    Highest Level of Justice System Involvement  History of Domestic Abuse  \\\n",
       "0                                     Convicted                          1   \n",
       "1                                            NA                          0   \n",
       "2                                     Suspected                          0   \n",
       "3                                            NA                          0   \n",
       "4                                            NA                          3   \n",
       "..                                          ...                        ...   \n",
       "188                                    Arrested                          0   \n",
       "189                                          NA                          0   \n",
       "190                                          NA                          0   \n",
       "191                                          NA                          0   \n",
       "192                                          NA                          0   \n",
       "\n",
       "     History of Sexual Offenses                Autism Spectrum  \n",
       "0                             0                    No evidence  \n",
       "1                             0                    No evidence  \n",
       "2                             0                    No evidence  \n",
       "3                             0                    No evidence  \n",
       "4                             0                    No evidence  \n",
       "..                          ...                            ...  \n",
       "188                           0                    No evidence  \n",
       "189                           0                    No evidence  \n",
       "190                           0  Diagnosed or extremely likely  \n",
       "191                           0                    No evidence  \n",
       "192                           0                    No evidence  \n",
       "\n",
       "[193 rows x 17 columns]"
      ]
     },
     "execution_count": 87,
     "metadata": {},
     "output_type": "execute_result"
    }
   ],
   "source": [
    "shooter_profile"
   ]
  }
 ],
 "metadata": {
  "kernelspec": {
   "display_name": "dev",
   "language": "python",
   "name": "python3"
  },
  "language_info": {
   "codemirror_mode": {
    "name": "ipython",
    "version": 3
   },
   "file_extension": ".py",
   "mimetype": "text/x-python",
   "name": "python",
   "nbconvert_exporter": "python",
   "pygments_lexer": "ipython3",
   "version": "3.10.11"
  }
 },
 "nbformat": 4,
 "nbformat_minor": 2
}
