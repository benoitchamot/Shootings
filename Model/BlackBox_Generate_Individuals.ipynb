{
 "cells": [
  {
   "cell_type": "markdown",
   "metadata": {},
   "source": [
    "# Generate Individuals\n",
    "We use census data and other sources to generate statistical individuals to be used to train and test the risk assessment tool"
   ]
  },
  {
   "cell_type": "code",
   "execution_count": 83,
   "metadata": {},
   "outputs": [],
   "source": [
    "import pandas as pd\n",
    "from pathlib import Path\n",
    "import numpy as np\n",
    "import random\n",
    "\n",
    "# Ignnore warning\n",
    "import warnings\n",
    "warnings.simplefilter(action='ignore')"
   ]
  },
  {
   "cell_type": "code",
   "execution_count": 10,
   "metadata": {},
   "outputs": [
    {
     "data": {
      "text/plain": [
       "Index(['Age', 'Gender', 'Race', 'Immigrant', 'Education', 'RelStatus',\n",
       "       'Employed', 'Work', 'MilService', 'Arrested', 'ParentDivorce', 'SES',\n",
       "       'MentalIllness', 'MentalIllnessHistory', 'Autism', 'HealthIssues',\n",
       "       'Classification'],\n",
       "      dtype='object')"
      ]
     },
     "execution_count": 10,
     "metadata": {},
     "output_type": "execute_result"
    }
   ],
   "source": [
    "# Import shooter DataFrame and get the columns as reference\n",
    "csv_shooter = Path('model_blackbox_shooters.csv')\n",
    "shooter = pd.read_csv(csv_shooter)\n",
    "cols = shooter.columns\n",
    "cols"
   ]
  },
  {
   "cell_type": "code",
   "execution_count": 14,
   "metadata": {},
   "outputs": [
    {
     "data": {
      "text/html": [
       "<div>\n",
       "<style scoped>\n",
       "    .dataframe tbody tr th:only-of-type {\n",
       "        vertical-align: middle;\n",
       "    }\n",
       "\n",
       "    .dataframe tbody tr th {\n",
       "        vertical-align: top;\n",
       "    }\n",
       "\n",
       "    .dataframe thead th {\n",
       "        text-align: right;\n",
       "    }\n",
       "</style>\n",
       "<table border=\"1\" class=\"dataframe\">\n",
       "  <thead>\n",
       "    <tr style=\"text-align: right;\">\n",
       "      <th></th>\n",
       "      <th>Age</th>\n",
       "      <th>Gender</th>\n",
       "      <th>Race</th>\n",
       "      <th>Immigrant</th>\n",
       "      <th>Education</th>\n",
       "      <th>RelStatus</th>\n",
       "      <th>Employed</th>\n",
       "      <th>Work</th>\n",
       "      <th>MilService</th>\n",
       "      <th>Arrested</th>\n",
       "      <th>ParentDivorce</th>\n",
       "      <th>SES</th>\n",
       "      <th>MentalIllness</th>\n",
       "      <th>MentalIllnessHistory</th>\n",
       "      <th>Autism</th>\n",
       "      <th>HealthIssues</th>\n",
       "      <th>Classification</th>\n",
       "    </tr>\n",
       "  </thead>\n",
       "  <tbody>\n",
       "  </tbody>\n",
       "</table>\n",
       "</div>"
      ],
      "text/plain": [
       "Empty DataFrame\n",
       "Columns: [Age, Gender, Race, Immigrant, Education, RelStatus, Employed, Work, MilService, Arrested, ParentDivorce, SES, MentalIllness, MentalIllnessHistory, Autism, HealthIssues, Classification]\n",
       "Index: []"
      ]
     },
     "execution_count": 14,
     "metadata": {},
     "output_type": "execute_result"
    }
   ],
   "source": [
    "# Create a DataFrame to store the info about the general population sample\n",
    "genpop_df = pd.DataFrame()\n",
    "\n",
    "for c in cols:\n",
    "    genpop_df[c] = []\n",
    "\n",
    "genpop_df"
   ]
  },
  {
   "cell_type": "code",
   "execution_count": 28,
   "metadata": {},
   "outputs": [
    {
     "data": {
      "text/html": [
       "<div>\n",
       "<style scoped>\n",
       "    .dataframe tbody tr th:only-of-type {\n",
       "        vertical-align: middle;\n",
       "    }\n",
       "\n",
       "    .dataframe tbody tr th {\n",
       "        vertical-align: top;\n",
       "    }\n",
       "\n",
       "    .dataframe thead th {\n",
       "        text-align: right;\n",
       "    }\n",
       "</style>\n",
       "<table border=\"1\" class=\"dataframe\">\n",
       "  <thead>\n",
       "    <tr style=\"text-align: right;\">\n",
       "      <th></th>\n",
       "      <th>State</th>\n",
       "      <th>Employed_Employed</th>\n",
       "      <th>Employed_Unemployed</th>\n",
       "      <th>Employed_Military</th>\n",
       "      <th>Employed_NotLabour</th>\n",
       "      <th>EmplType Private wage and salary workers</th>\n",
       "      <th>EmplType Government workers</th>\n",
       "      <th>EmplType Self-employed in own not incorporated business workers</th>\n",
       "      <th>EmplType Unpaid family workers</th>\n",
       "      <th>SES less than $10,000</th>\n",
       "      <th>...</th>\n",
       "      <th>RelStatus Male Widowed</th>\n",
       "      <th>RelStatus Male Divorced</th>\n",
       "      <th>RelStatus Female Never married</th>\n",
       "      <th>RelStatus Female Now married, except separated</th>\n",
       "      <th>RelStatus Female Separated</th>\n",
       "      <th>RelStatus Female Widowed</th>\n",
       "      <th>RelStatus Femaleale Divorced</th>\n",
       "      <th>Mental_Illness_Rate</th>\n",
       "      <th>Arrest_Rate</th>\n",
       "      <th>Autism_Rate</th>\n",
       "    </tr>\n",
       "  </thead>\n",
       "  <tbody>\n",
       "    <tr>\n",
       "      <th>4</th>\n",
       "      <td>CA</td>\n",
       "      <td>58.9</td>\n",
       "      <td>4.2</td>\n",
       "      <td>0.4</td>\n",
       "      <td>36.5</td>\n",
       "      <td>78.3</td>\n",
       "      <td>13.4</td>\n",
       "      <td>8.1</td>\n",
       "      <td>0.2</td>\n",
       "      <td>5.1</td>\n",
       "      <td>...</td>\n",
       "      <td>2.2</td>\n",
       "      <td>7.5</td>\n",
       "      <td>33.9</td>\n",
       "      <td>45.3</td>\n",
       "      <td>2.4</td>\n",
       "      <td>7.7</td>\n",
       "      <td>10.8</td>\n",
       "      <td>20.49</td>\n",
       "      <td>2.7633</td>\n",
       "      <td>2.36</td>\n",
       "    </tr>\n",
       "  </tbody>\n",
       "</table>\n",
       "<p>1 rows × 77 columns</p>\n",
       "</div>"
      ],
      "text/plain": [
       "  State  Employed_Employed  Employed_Unemployed  Employed_Military  \\\n",
       "4    CA               58.9                  4.2                0.4   \n",
       "\n",
       "   Employed_NotLabour  EmplType Private wage and salary workers  \\\n",
       "4                36.5                                      78.3   \n",
       "\n",
       "   EmplType Government workers  \\\n",
       "4                         13.4   \n",
       "\n",
       "   EmplType Self-employed in own not incorporated business workers  \\\n",
       "4                                                8.1                 \n",
       "\n",
       "   EmplType Unpaid family workers  SES less than $10,000  ...  \\\n",
       "4                             0.2                    5.1  ...   \n",
       "\n",
       "   RelStatus Male Widowed  RelStatus Male Divorced  \\\n",
       "4                     2.2                      7.5   \n",
       "\n",
       "   RelStatus Female Never married  \\\n",
       "4                            33.9   \n",
       "\n",
       "   RelStatus Female Now married, except separated  RelStatus Female Separated  \\\n",
       "4                                            45.3                         2.4   \n",
       "\n",
       "   RelStatus Female Widowed  RelStatus Femaleale Divorced  \\\n",
       "4                       7.7                          10.8   \n",
       "\n",
       "   Mental_Illness_Rate  Arrest_Rate  Autism_Rate  \n",
       "4                20.49       2.7633         2.36  \n",
       "\n",
       "[1 rows x 77 columns]"
      ]
     },
     "execution_count": 28,
     "metadata": {},
     "output_type": "execute_result"
    }
   ],
   "source": [
    "# Load the statistics for the US population\n",
    "csv = Path('model_blackbox_stats.csv')\n",
    "stats_df = pd.read_csv(csv)\n",
    "\n",
    "# Select one state to get the statistics from\n",
    "SELECT_STATE = 'CA'\n",
    "sel_stats_df = stats_df.loc[stats_df['State'] == SELECT_STATE,:]\n",
    "sel_stats_df"
   ]
  },
  {
   "cell_type": "code",
   "execution_count": 32,
   "metadata": {},
   "outputs": [
    {
     "data": {
      "text/plain": [
       "Index(['State', 'Employed_Employed', 'Employed_Unemployed',\n",
       "       'Employed_Military', 'Employed_NotLabour',\n",
       "       'EmplType Private wage and salary workers',\n",
       "       'EmplType Government workers',\n",
       "       'EmplType Self-employed in own not incorporated business workers',\n",
       "       'EmplType Unpaid family workers', 'SES less than $10,000',\n",
       "       'SES between $10,000 to $14,999', 'SES between $15,000 to $24,999',\n",
       "       'SES between $25,000 to $34,999', 'SES between $35,000 to $49,999',\n",
       "       'SES between $50,000 to $74,999', 'SES between $75,000 to $99,999',\n",
       "       'SES between $100,000 to $149,999', 'SES between $150,000 to $199,999',\n",
       "       'SES $200,000 or more', 'Families households', 'Nonfamily households',\n",
       "       'SES Below poverty line', 'Age Under 5 years', 'Age 5 to 9 years',\n",
       "       'Age 10 to 14 years', 'Age 15 to 19 years', 'Age 20 to 24 years',\n",
       "       'Age 25 to 34 years', 'Age 35 to 44 years', 'Age 45 to 54 years',\n",
       "       'Age 55 to 59 years', 'Age 60 to 64 years', 'Age 65 to 74 years',\n",
       "       'Age 75 to 84 years', 'Age 85 years and over',\n",
       "       'Gender ratio (males per 100 females)', 'Race White',\n",
       "       'Race Black or African American',\n",
       "       'Race American Indian and Alaska Native', 'Race Asian',\n",
       "       'Race Native Hawaiian and Other Pacific Islander',\n",
       "       'Race Some other race', 'Race Two or more races',\n",
       "       'Race Hispanic or Latino (of any race)',\n",
       "       'Race Not Hispanic or Latino!!White alone',\n",
       "       'Race Not Hispanic or Latino!!Black or African American alone',\n",
       "       'Race Not Hispanic or Latino!!American Indian and Alaska Native alone',\n",
       "       'Race Not Hispanic or Latino!!Asian alone',\n",
       "       'Race Not Hispanic or Latino!!Native Hawaiian and Other Pacific Islander alone',\n",
       "       'Race Not Hispanic or Latino!!Some other race alone',\n",
       "       'Race Not Hispanic or Latino!!Two or more races',\n",
       "       'Education Less than 9th grade',\n",
       "       'Education 9th to 12th grade, no diploma',\n",
       "       'Education High school graduate (includes equivalency)',\n",
       "       'Education Some college, no degree', 'Education Associate's degree',\n",
       "       'Education Bachelor's degree',\n",
       "       'Education Graduate or professional degree',\n",
       "       'Education High school graduate or higher',\n",
       "       'Education Bachelor's degree or higher',\n",
       "       'HealthIssues Disability Percent', 'Immigrant Naturalized U.S. citizen',\n",
       "       'Immigrant Not a U.S. citizen', 'Immigrant Foreign born',\n",
       "       'RelStatus Male Never married',\n",
       "       'RelStatus Male Now married, except separated',\n",
       "       'RelStatus Male Separated', 'RelStatus Male Widowed',\n",
       "       'RelStatus Male Divorced', 'RelStatus Female Never married',\n",
       "       'RelStatus Female Now married, except separated',\n",
       "       'RelStatus Female Separated', 'RelStatus Female Widowed',\n",
       "       'RelStatus Femaleale Divorced', 'Mental_Illness_Rate', 'Arrest_Rate',\n",
       "       'Autism_Rate'],\n",
       "      dtype='object')"
      ]
     },
     "execution_count": 32,
     "metadata": {},
     "output_type": "execute_result"
    }
   ],
   "source": [
    "sel_stats_df.columns"
   ]
  },
  {
   "cell_type": "markdown",
   "metadata": {},
   "source": [
    "### Age probability distribution"
   ]
  },
  {
   "cell_type": "code",
   "execution_count": 84,
   "metadata": {},
   "outputs": [],
   "source": [
    "def get_random_age(sel_stats_df):\n",
    "\n",
    "    # Columns related to the age probability distribution\n",
    "    age_columns = [\n",
    "        'Age Under 5 years',\n",
    "        'Age 5 to 9 years',\n",
    "        'Age 10 to 14 years',\n",
    "        'Age 15 to 19 years',\n",
    "        'Age 20 to 24 years',\n",
    "        'Age 25 to 34 years',\n",
    "        'Age 35 to 44 years',\n",
    "        'Age 45 to 54 years',\n",
    "        'Age 55 to 59 years',\n",
    "        'Age 60 to 64 years',\n",
    "        'Age 65 to 74 years',\n",
    "        'Age 75 to 84 years',\n",
    "        'Age 85 years and over'\n",
    "        ]\n",
    "\n",
    "    # List holding the probability distribution\n",
    "    age_prob_distr = []\n",
    "\n",
    "    # Get the probability distribution from the statistical data\n",
    "    for p in age_columns:\n",
    "        age_prob_distr.append(sel_stats_df[p].values[0]/100)\n",
    "\n",
    "    # Get age bracket based on age probability distribution\n",
    "    age_bracket = age_columns[np.random.choice(np.arange(0, len(age_prob_distr)), p=age_prob_distr)]\n",
    "\n",
    "    # Get age by selecting age within the bracket at random (all ages within the bracket have the same probability)\n",
    "    age = 0\n",
    "\n",
    "    if age_bracket == 'Age Under 5 years':\n",
    "        age = random.randint(0, 4)\n",
    "    elif age_bracket == 'Age 5 to 9 years':\n",
    "        age = random.randint(5, 9)\n",
    "    elif age_bracket == 'Age 10 to 14 years':\n",
    "        age = random.randint(10, 14)\n",
    "    elif age_bracket == 'Age 15 to 19 years':\n",
    "        age = random.randint(15, 19)\n",
    "    elif age_bracket == 'Age 20 to 24 years':\n",
    "        age = random.randint(20, 24)\n",
    "    elif age_bracket == 'Age 25 to 34 years':\n",
    "        age = random.randint(25, 34)\n",
    "    elif age_bracket == 'Age 35 to 44 years':\n",
    "        age = random.randint(35, 44)\n",
    "    elif age_bracket == 'Age 45 to 54 years':\n",
    "        age = random.randint(45, 54)\n",
    "    elif age_bracket == 'Age 55 to 59 years':\n",
    "        age = random.randint(55, 59)\n",
    "    elif age_bracket == 'Age 60 to 64 years':\n",
    "        age = random.randint(60, 64)\n",
    "    elif age_bracket == 'Age 65 to 74 years':\n",
    "        age = random.randint(65, 74)\n",
    "    elif age_bracket == 'Age 75 to 84 years':\n",
    "        age = random.randint(75, 84)\n",
    "    elif age_bracket == 'Age 85 years and over':\n",
    "        age = random.randint(85, 94)\n",
    "\n",
    "    return age"
   ]
  },
  {
   "cell_type": "markdown",
   "metadata": {},
   "source": [
    "### Gender probability distribution"
   ]
  },
  {
   "cell_type": "code",
   "execution_count": 133,
   "metadata": {},
   "outputs": [],
   "source": [
    "def get_random_gender(sel_stats_df):\n",
    "    # Number of male for 100 female\n",
    "    m_p_100f = sel_stats_df['Gender ratio (males per 100 females)'].values[0]\n",
    "\n",
    "    # Probability of individual being a man\n",
    "    prob_male = m_p_100f/(m_p_100f + 100)\n",
    "\n",
    "    # Adjust probability for non-binary\n",
    "    # Source: https://www.pewresearch.org/short-reads/2022/06/07/about-5-of-young-adults-in-the-u-s-say-their-gender-is-different-from-their-sex-assigned-at-birth/\n",
    "    prob_other = 0.016\n",
    "\n",
    "    prob_male = prob_male-prob_other/2\n",
    "    prob_female = 1-prob_male-prob_other\n",
    "\n",
    "    gender_options = ['Male', 'Female', 'Other']\n",
    "    gender_prob_distr = [prob_male, prob_female, prob_other]\n",
    "\n",
    "    gender = np.random.choice(np.arange(0, len(gender_prob_distr)), p=gender_prob_distr)\n",
    "    \n",
    "    return gender_options[gender]"
   ]
  },
  {
   "cell_type": "markdown",
   "metadata": {},
   "source": [
    "### Race probability distribution"
   ]
  },
  {
   "cell_type": "code",
   "execution_count": 205,
   "metadata": {},
   "outputs": [],
   "source": [
    "def get_random_race(sel_stats_df):\n",
    "    race_columns = [\n",
    "        'Race Hispanic or Latino (of any race)',\n",
    "        'Race Not Hispanic or Latino!!White alone',\n",
    "        'Race Not Hispanic or Latino!!Black or African American alone',\n",
    "        'Race Not Hispanic or Latino!!American Indian and Alaska Native alone',\n",
    "        'Race Not Hispanic or Latino!!Asian alone',\n",
    "        'Race Not Hispanic or Latino!!Native Hawaiian and Other Pacific Islander alone',\n",
    "        'Race Not Hispanic or Latino!!Some other race alone',\n",
    "        'Race Not Hispanic or Latino!!Two or more races',\n",
    "    ]\n",
    "\n",
    "    # List holding the probability distribution\n",
    "    race_prob_distr = []\n",
    "\n",
    "    # Get the probability distribution from the statistical data\n",
    "    for p in race_columns:\n",
    "        race_prob_distr.append(sel_stats_df[p].values[0]/100)\n",
    "\n",
    "    # Get race category based on age probability distribution\n",
    "    race_category = race_columns[np.random.choice(np.arange(0, len(race_prob_distr)), p=race_prob_distr)]\n",
    "\n",
    "    race = 'Other'\n",
    "\n",
    "    if race_category == 'Race Not Hispanic or Latino!!White alone':\n",
    "        race = 'White'\n",
    "    elif race_category == 'Race Not Hispanic or Latino!!Black or African American alone':\n",
    "        race = 'Black'\n",
    "    elif race_category == 'Race Not Hispanic or Latino!!Asian alone':\n",
    "        race = 'Asian'\n",
    "    elif race_category == 'Race Hispanic or Latino (of any race)':\n",
    "        race = 'Latinx'\n",
    "    else: \n",
    "        race = 'Other'\n",
    "\n",
    "    return race"
   ]
  },
  {
   "cell_type": "markdown",
   "metadata": {},
   "source": [
    "### Immigrant probability distribution"
   ]
  },
  {
   "cell_type": "code",
   "execution_count": 235,
   "metadata": {},
   "outputs": [],
   "source": [
    "def get_random_immi(sel_stats_df):\n",
    "    # Probability of immmigrant\n",
    "    prob_immi = sel_stats_df['Immigrant Foreign born'].values[0]/100\n",
    "\n",
    "    # Immigration satus\n",
    "    immigrant_status = ['yes', 'no']\n",
    "\n",
    "    # List holding the probability distribution\n",
    "    immigrant = immigrant_status[np.random.choice(np.arange(0, 2), p=[prob_immi, 1-prob_immi])]\n",
    "    return immigrant"
   ]
  },
  {
   "cell_type": "markdown",
   "metadata": {},
   "source": [
    "### Education probability distribution\n",
    "**Less than high school:**\n",
    "- Education Less than 9th grade\n",
    "- Education 9th to 12th grade, no diploma"
   ]
  },
  {
   "cell_type": "code",
   "execution_count": 263,
   "metadata": {},
   "outputs": [],
   "source": [
    "def get_random_edu(sel_stats_df):\n",
    "     edu_columns = [\n",
    "          \"Education Less than 9th grade\",\n",
    "          \"Education 9th to 12th grade, no diploma\",\n",
    "          \"Education High school graduate (includes equivalency)\",\n",
    "          \"Education Some college, no degree\",\n",
    "          \"Education Associate's degree\",\n",
    "          \"Education Bachelor's degree\",\n",
    "          \"Education Graduate or professional degree\",\n",
    "     ]\n",
    "\n",
    "     # Categories based on shooter database\n",
    "     edu_categories = [\n",
    "          'Less than high school',\n",
    "          'High school/GED',\n",
    "          'Some college/trade school',\n",
    "          \"Bachelor's degree\",\n",
    "          'Graduate school/advanced degree',\n",
    "          'Unknown'\n",
    "     ]\n",
    "\n",
    "     # List holding the probability distribution\n",
    "     edu_prob_distr = []\n",
    "\n",
    "     # Get the probability distribution from the statistical data\n",
    "     for p in edu_columns:\n",
    "          edu_prob_distr.append(sel_stats_df[p].values[0]/100)\n",
    "\n",
    "     # Merge probabilities corresponding to 'below high school'\n",
    "     edu_prob_distr[1] = edu_prob_distr[0] + edu_prob_distr[1]\n",
    "     edu_prob_distr = edu_prob_distr[1:]\n",
    "\n",
    "     # Add probability for 'Unknown' to get a total probability = 1\n",
    "     edu_prob_distr.append(1 - np.sum(edu_prob_distr))\n",
    "\n",
    "     # Get education category based on age probability distribution\n",
    "     education = edu_categories[np.random.choice(np.arange(0, len(edu_prob_distr)), p=edu_prob_distr)]\n",
    "\n",
    "     return education"
   ]
  },
  {
   "cell_type": "markdown",
   "metadata": {},
   "source": [
    "### Relationship status probability distribution\n",
    "- Individuals of less than 16 -> single\n",
    "- Never married, assume that 38% are single (source: https://www.pewresearch.org/social-trends/2021/10/05/rising-share-of-u-s-adults-are-living-without-a-spouse-or-partner/)"
   ]
  },
  {
   "cell_type": "code",
   "execution_count": 301,
   "metadata": {},
   "outputs": [],
   "source": [
    "def get_random_relstatus(sel_stats_df, gender, age):\n",
    "\n",
    "    # Probabilities for non-married individuals\n",
    "    prob_single = 0.38\n",
    "    prob_relationship = 1-prob_single\n",
    "\n",
    "    # Individuals younger than 18 are assumed to be single\n",
    "    if age < 18:\n",
    "        status = 'Single'\n",
    "\n",
    "    # Statistical data can be used for older individuals\n",
    "    else:\n",
    "        # Because no statistical data are available for non-binary, they are assumed to be either single or in a non-married relationship\n",
    "        if gender == 'Other':\n",
    "            other_status = ['Single', 'Boyfriend/girlfriend']\n",
    "            other_prob = [prob_single, prob_relationship]\n",
    "            status = other_status[np.random.choice(np.arange(0, len(other_prob)), p=other_prob)]\n",
    "                \n",
    "        # Male and female individuals can make use of full statistical data\n",
    "        else:\n",
    "\n",
    "            male_relstatus_columns = [\n",
    "                'RelStatus Male Never married',\n",
    "                'RelStatus Male Now married, except separated',\n",
    "                'RelStatus Male Separated',\n",
    "                'RelStatus Male Widowed',\n",
    "                'RelStatus Male Divorced'\n",
    "            ]\n",
    "\n",
    "            female_relstatus_columns = [\n",
    "                'RelStatus Female Never married',\n",
    "                'RelStatus Female Now married, except separated',\n",
    "                'RelStatus Female Separated',\n",
    "                'RelStatus Female Widowed',\n",
    "                'RelStatus Femaleale Divorced'\n",
    "            ]\n",
    "\n",
    "            # Select probability based on gender\n",
    "            if gender == 'Male':\n",
    "                relstatus_columns = male_relstatus_columns\n",
    "            elif gender == 'Female':\n",
    "                relstatus_columns = female_relstatus_columns\n",
    "\n",
    "            # List holding the probability distribution\n",
    "            relstatus_prob_distr = []\n",
    "\n",
    "            # Get the probability distribution from the statistical data\n",
    "            for p in relstatus_columns:\n",
    "                relstatus_prob_distr.append(sel_stats_df[p].values[0]/100)\n",
    "\n",
    "            # Merge probability related to Divorced/separated/widowed\n",
    "            relstatus_prob_distr[-3] = relstatus_prob_distr[-3] + relstatus_prob_distr[-2] + relstatus_prob_distr[-1]\n",
    "            relstatus_prob_distr = relstatus_prob_distr[:-2]\n",
    "\n",
    "            # Calculate probability of being single or in a non-married relationship for people that were never married\n",
    "            relstatus_prob_distr.append(relstatus_prob_distr[0]*prob_single)\n",
    "            relstatus_prob_distr[0] = relstatus_prob_distr[0]*prob_relationship\n",
    "\n",
    "            # Adjust probabilities to sum to 1\n",
    "            diff = np.sum(relstatus_prob_distr)-1\n",
    "            relstatus_prob_distr = [p-diff/len(relstatus_prob_distr) for p in relstatus_prob_distr]\n",
    "\n",
    "            # Possible status\n",
    "            relationship_status = ['Boyfriend/girlfriend', 'Married', 'Divorced/separated/widowed', 'Single']\n",
    "\n",
    "            status = relationship_status[np.random.choice(np.arange(0, len(relstatus_prob_distr)), p=relstatus_prob_distr)]\n",
    "\n",
    "    return status\n",
    "    "
   ]
  },
  {
   "cell_type": "markdown",
   "metadata": {},
   "source": [
    "### Employed probability distribution"
   ]
  },
  {
   "cell_type": "code",
   "execution_count": 413,
   "metadata": {},
   "outputs": [],
   "source": [
    "def get_random_employed(sel_stats_df, age):\n",
    "    employed_columns = [\n",
    "        'Employed_Employed',\n",
    "        'Employed_Unemployed',\n",
    "        'Employed_Military',\n",
    "        'Employed_NotLabour']\n",
    "\n",
    "    # List holding the probability distribution\n",
    "    employed_prob_distr = []\n",
    "\n",
    "    # Get the probability distribution from the statistical data\n",
    "    for p in employed_columns:\n",
    "        employed_prob_distr.append(sel_stats_df[p].values[0]/100)\n",
    "\n",
    "    # Indivduals younger than 16 are assumed to not be working\n",
    "    if age < 16:\n",
    "        employed = 'Not working'\n",
    "    else:\n",
    "        # Group 'Employed' and 'Military' as employed. Other as unemployed\n",
    "        employed_prob_distr = [\n",
    "            employed_prob_distr[0]+employed_prob_distr[2],\n",
    "            employed_prob_distr[1]+employed_prob_distr[3]\n",
    "        ]\n",
    "\n",
    "        # Possible status\n",
    "        employed_status = ['Working', 'Not Working']\n",
    "\n",
    "        # Get status based on probability\n",
    "        employed = employed_status[np.random.choice(np.arange(0, len(employed_prob_distr)), p=employed_prob_distr)]\n",
    "    \n",
    "    return employed\n"
   ]
  },
  {
   "cell_type": "markdown",
   "metadata": {},
   "source": [
    "### Military service probability distribution"
   ]
  },
  {
   "cell_type": "code",
   "execution_count": 433,
   "metadata": {},
   "outputs": [],
   "source": [
    "def get_random_military(sel_stats_df, age):\n",
    "    if age > 16:\n",
    "        mil_prob = sel_stats_df['Employed_Military'].values[0]/100\n",
    "        civ_prob = 1-mil_prob\n",
    "\n",
    "        mil_prob_distr = [mil_prob, civ_prob]\n",
    "\n",
    "        mil_status = ['Yes', 'No']\n",
    "\n",
    "        military = mil_status[np.random.choice(np.arange(0, len(mil_prob_distr)), p=mil_prob_distr)]\n",
    "    else:\n",
    "        military = 'No'\n",
    "\n",
    "    return military"
   ]
  },
  {
   "cell_type": "markdown",
   "metadata": {},
   "source": [
    "### Arrest probability"
   ]
  },
  {
   "cell_type": "code",
   "execution_count": 470,
   "metadata": {},
   "outputs": [],
   "source": [
    "def get_random_arrest(sel_stats_df):\n",
    "    arrest_prob = sel_stats_df['Arrest_Rate'].values[0]/100\n",
    "    arrest_prob_distr = [arrest_prob, 1-arrest_prob]\n",
    "    arrest_status = ['Yes', 'No']\n",
    "    arrested = arrest_status[np.random.choice(np.arange(0, len(arrest_prob_distr)), p=arrest_prob_distr)]\n",
    "    return arrested"
   ]
  },
  {
   "cell_type": "markdown",
   "metadata": {},
   "source": [
    "### Parent divorce probability"
   ]
  },
  {
   "cell_type": "code",
   "execution_count": null,
   "metadata": {},
   "outputs": [],
   "source": [
    "# Proabability of a female getting a divorce\n",
    "divorce_prob = sel_stats_df['RelStatus Femaleale Divorced'].values[0]/100\n",
    "divorce_prob"
   ]
  },
  {
   "cell_type": "code",
   "execution_count": null,
   "metadata": {},
   "outputs": [],
   "source": [
    "# \n",
    "'RelStatus Femaleale Divorced',\n",
    "'Mental_Illness_Rate',\n",
    ",\n",
    "'Autism_Rate'"
   ]
  },
  {
   "cell_type": "code",
   "execution_count": 277,
   "metadata": {},
   "outputs": [
    {
     "data": {
      "text/html": [
       "<div>\n",
       "<style scoped>\n",
       "    .dataframe tbody tr th:only-of-type {\n",
       "        vertical-align: middle;\n",
       "    }\n",
       "\n",
       "    .dataframe tbody tr th {\n",
       "        vertical-align: top;\n",
       "    }\n",
       "\n",
       "    .dataframe thead th {\n",
       "        text-align: right;\n",
       "    }\n",
       "</style>\n",
       "<table border=\"1\" class=\"dataframe\">\n",
       "  <thead>\n",
       "    <tr style=\"text-align: right;\">\n",
       "      <th></th>\n",
       "      <th>Age</th>\n",
       "      <th>Gender</th>\n",
       "      <th>Race</th>\n",
       "      <th>Immigrant</th>\n",
       "      <th>Education</th>\n",
       "      <th>RelStatus</th>\n",
       "      <th>Employed</th>\n",
       "      <th>Work</th>\n",
       "      <th>MilService</th>\n",
       "      <th>Arrested</th>\n",
       "      <th>ParentDivorce</th>\n",
       "      <th>SES</th>\n",
       "      <th>MentalIllness</th>\n",
       "      <th>MentalIllnessHistory</th>\n",
       "      <th>Autism</th>\n",
       "      <th>HealthIssues</th>\n",
       "      <th>Classification</th>\n",
       "    </tr>\n",
       "  </thead>\n",
       "  <tbody>\n",
       "  </tbody>\n",
       "</table>\n",
       "</div>"
      ],
      "text/plain": [
       "Empty DataFrame\n",
       "Columns: [Age, Gender, Race, Immigrant, Education, RelStatus, Employed, Work, MilService, Arrested, ParentDivorce, SES, MentalIllness, MentalIllnessHistory, Autism, HealthIssues, Classification]\n",
       "Index: []"
      ]
     },
     "execution_count": 277,
     "metadata": {},
     "output_type": "execute_result"
    }
   ],
   "source": [
    "genpop_df"
   ]
  },
  {
   "cell_type": "code",
   "execution_count": 467,
   "metadata": {},
   "outputs": [
    {
     "data": {
      "text/plain": [
       "Yes    102\n",
       "No      91\n",
       "Name: Arrested, dtype: int64"
      ]
     },
     "execution_count": 467,
     "metadata": {},
     "output_type": "execute_result"
    }
   ],
   "source": [
    "shooter['Arrested'].value_counts()"
   ]
  },
  {
   "cell_type": "code",
   "execution_count": 546,
   "metadata": {},
   "outputs": [
    {
     "data": {
      "text/plain": [
       "{'age': 43,\n",
       " 'gender': 'Female',\n",
       " 'race': 'Latinx',\n",
       " 'immigrant': 'no',\n",
       " 'education': 'Some college/trade school',\n",
       " 'relsatus': 'Divorced/separated/widowed',\n",
       " 'employed': 'Working',\n",
       " 'military': 'No',\n",
       " 'arrested': 'No'}"
      ]
     },
     "execution_count": 546,
     "metadata": {},
     "output_type": "execute_result"
    }
   ],
   "source": [
    "age = get_random_age(sel_stats_df)\n",
    "gender = get_random_gender(sel_stats_df)\n",
    "race = get_random_race(sel_stats_df)\n",
    "immigrant = get_random_immi(sel_stats_df)\n",
    "education = get_random_edu(sel_stats_df)\n",
    "relsatus = get_random_relstatus(sel_stats_df, gender, age)\n",
    "employed = get_random_employed(sel_stats_df, age)\n",
    "military = get_random_military(sel_stats_df, age)\n",
    "arrested = get_random_arrest(sel_stats_df)\n",
    "\n",
    "{\n",
    "    'age': age,\n",
    "    'gender': gender,\n",
    "    'race': race,\n",
    "    'immigrant': immigrant,\n",
    "    'education': education,\n",
    "    'relsatus': relsatus,\n",
    "    'employed': employed,\n",
    "    'military': military,\n",
    "    'arrested': arrested\n",
    "    }"
   ]
  },
  {
   "cell_type": "code",
   "execution_count": 67,
   "metadata": {},
   "outputs": [
    {
     "data": {
      "text/plain": [
       "1"
      ]
     },
     "execution_count": 67,
     "metadata": {},
     "output_type": "execute_result"
    }
   ],
   "source": [
    "import random\n",
    "random.randint(0, 4)"
   ]
  }
 ],
 "metadata": {
  "kernelspec": {
   "display_name": "dev",
   "language": "python",
   "name": "python3"
  },
  "language_info": {
   "codemirror_mode": {
    "name": "ipython",
    "version": 3
   },
   "file_extension": ".py",
   "mimetype": "text/x-python",
   "name": "python",
   "nbconvert_exporter": "python",
   "pygments_lexer": "ipython3",
   "version": "3.10.11"
  }
 },
 "nbformat": 4,
 "nbformat_minor": 2
}
