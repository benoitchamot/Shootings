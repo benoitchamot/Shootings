{
 "cells": [
  {
   "cell_type": "code",
   "execution_count": 1,
   "metadata": {},
   "outputs": [],
   "source": [
    "#########################################################\n",
    "# Dependencies\n",
    "#########################################################\n",
    "from flask import Flask, jsonify\n",
    "import numpy as np\n",
    "import pandas as pd\n",
    "import datetime as dt\n",
    "from sqlalchemy.ext.automap import automap_base\n",
    "from sqlalchemy.orm import Session\n",
    "from sqlalchemy import create_engine, func, desc\n",
    "from pathlib import Path\n",
    "\n",
    "# CORS\n",
    "from flask_cors import CORS\n",
    "\n",
    "# Ignore warnings\n",
    "import warnings\n",
    "warnings.simplefilter(action='ignore')\n",
    "\n",
    "#########################################################\n",
    "# Database Setup\n",
    "#########################################################\n",
    "\n",
    "# Load data from CSV file into pandas DataFrame\n",
    "csv = Path('model_openbox_risks.csv')\n"
   ]
  },
  {
   "cell_type": "code",
   "execution_count": 2,
   "metadata": {},
   "outputs": [],
   "source": [
    "risk_df = pd.read_csv(csv)"
   ]
  },
  {
   "cell_type": "code",
   "execution_count": 46,
   "metadata": {},
   "outputs": [],
   "source": [
    "def get_risk(risk_df, state, age_bracket, mental_illness, employment, arrest, autism):\n",
    "    # Filter based on state\n",
    "    filtered_df = risk_df.loc[risk_df['State']==state,:]\n",
    "\n",
    "    risk_age = filtered_df[age_bracket].values[0]\n",
    "\n",
    "    if mental_illness:\n",
    "        risk_mental = filtered_df['Mental_Illness_Risk'].values[0]\n",
    "    else:\n",
    "        risk_mental = 1\n",
    "\n",
    "    if employment:\n",
    "        risk_employment = 1\n",
    "    else:\n",
    "        risk_employment = filtered_df['Unemployment_Risk'].values[0]\n",
    "\n",
    "    if arrest:\n",
    "        risk_arrest = filtered_df['Arrest_Risk'].values[0]\n",
    "    else:\n",
    "        risk_arrest = 1\n",
    "\n",
    "    if autism:\n",
    "        risk_autism = filtered_df['Autism_Risk'].values[0]\n",
    "    else:\n",
    "        risk_autism = 1\n",
    "\n",
    "    return [risk_age, risk_mental, risk_employment, risk_arrest, risk_autism]"
   ]
  },
  {
   "cell_type": "code",
   "execution_count": 50,
   "metadata": {},
   "outputs": [
    {
     "data": {
      "text/plain": [
       "[1.345712601066236,\n",
       " 2.199986344912342,\n",
       " 7.351911496989217,\n",
       " 19.125586236239624,\n",
       " 2.6345832967418987]"
      ]
     },
     "execution_count": 50,
     "metadata": {},
     "output_type": "execute_result"
    }
   ],
   "source": [
    "state = 'CA'\n",
    "age_bracket = '30 to 34 years'\n",
    "mental_illness = 1\n",
    "employment = 0\n",
    "arrest = 1\n",
    "autism = 1\n",
    "\n",
    "\n",
    "risk_df\n",
    "\n",
    "total_tisk = get_risk(risk_df, state, age_bracket, mental_illness, employment, arrest, autism)\n",
    "total_tisk"
   ]
  }
 ],
 "metadata": {
  "kernelspec": {
   "display_name": "dev",
   "language": "python",
   "name": "python3"
  },
  "language_info": {
   "codemirror_mode": {
    "name": "ipython",
    "version": 3
   },
   "file_extension": ".py",
   "mimetype": "text/x-python",
   "name": "python",
   "nbconvert_exporter": "python",
   "pygments_lexer": "ipython3",
   "version": "3.10.11"
  }
 },
 "nbformat": 4,
 "nbformat_minor": 2
}
