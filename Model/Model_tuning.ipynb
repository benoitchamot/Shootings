{
 "cells": [
  {
   "cell_type": "markdown",
   "metadata": {},
   "source": [
    "# Model tuning"
   ]
  },
  {
   "cell_type": "markdown",
   "metadata": {},
   "source": [
    "## Data preparation"
   ]
  },
  {
   "cell_type": "code",
   "execution_count": 295,
   "metadata": {},
   "outputs": [],
   "source": [
    "# Ignore all warnings\n",
    "from warnings import simplefilter\n",
    "simplefilter(action='ignore')\n",
    "\n",
    "# Import dependencies\n",
    "import numpy as np\n",
    "import pandas as pd\n",
    "from pathlib import Path\n",
    "from sklearn.model_selection import train_test_split\n",
    "from sklearn.preprocessing import StandardScaler\n",
    "from matplotlib import pyplot as plt\n",
    "import seaborn as sns\n",
    "import pickle\n",
    "import imblearn.over_sampling as OS\n",
    "\n",
    "# Import the models from SKLearn (Model 1 through Model 6)\n",
    "from sklearn.linear_model import LogisticRegression\n",
    "from sklearn.svm import SVC\n",
    "from sklearn.tree import DecisionTreeClassifier\n",
    "from sklearn.ensemble import RandomForestClassifier\n",
    "from sklearn.ensemble import GradientBoostingClassifier\n",
    "from sklearn.neighbors import KNeighborsClassifier\n",
    "\n",
    "# Import the modules to evaluate the models\n",
    "from sklearn.metrics import confusion_matrix\n",
    "from sklearn.metrics import accuracy_score, precision_score, recall_score, f1_score, classification_report, precision_recall_curve\n",
    "from sklearn.metrics import roc_curve, auc\n",
    "\n",
    "# GridSearch\n",
    "from sklearn.model_selection import RandomizedSearchCV\n",
    "from sklearn.model_selection import GridSearchCV"
   ]
  },
  {
   "cell_type": "code",
   "execution_count": 92,
   "metadata": {},
   "outputs": [],
   "source": [
    "# Local module\n",
    "from ml_classification import model_performance"
   ]
  },
  {
   "cell_type": "markdown",
   "metadata": {},
   "source": [
    "### Functions"
   ]
  },
  {
   "cell_type": "code",
   "execution_count": 190,
   "metadata": {},
   "outputs": [],
   "source": [
    "# Define plot parameters\n",
    "main_color = '#969696'\n",
    "highlight_color = '#04bfb3'\n",
    "default_figsize = (10,6)"
   ]
  },
  {
   "cell_type": "code",
   "execution_count": 93,
   "metadata": {},
   "outputs": [],
   "source": [
    "def upsample_smote(X_train, y_train, verbose=False):\n",
    "\n",
    "\tn_pos = np.sum(y_train == 1)\n",
    "\tn_neg = np.sum(y_train == 0)\n",
    "\n",
    "\t# Create Nx as many positive samples\n",
    "\tN = 50\n",
    "\tratio = {1: n_pos*N, 0: n_neg}\n",
    "\n",
    "\t# Randomly oversample\n",
    "\tROS = OS.SMOTE(\n",
    "\t\tsampling_strategy = ratio,\n",
    "\t\trandom_state = 42\n",
    "\t)\n",
    "\n",
    "\tX_train_rs, y_train_rs = ROS.fit_resample(X_train, y_train)\n",
    "\n",
    "\tif verbose:\n",
    "\t\tprint(f\"Original Pos Class Count: {np.sum(y_train)}\")\n",
    "\t\tprint(f\"Oversample Pos Class Count: {np.sum(y_train_rs)}\")\n",
    "\n",
    "\treturn X_train_rs, y_train_rs"
   ]
  },
  {
   "cell_type": "code",
   "execution_count": 94,
   "metadata": {},
   "outputs": [],
   "source": [
    "def get_predictions(model, X):\n",
    "    y_pred = model.predict(X)\n",
    "    y_proba = model.predict_proba(X)[:,1]\n",
    "    # return classification and probabilities\n",
    "    return y_pred, y_proba"
   ]
  },
  {
   "cell_type": "code",
   "execution_count": 294,
   "metadata": {},
   "outputs": [],
   "source": [
    "# REPEATED FROM MODEL PERFORMANCE NOTEBOOK\n",
    "def model_performance_metrics(y_test, y_proba, y_pred, model_name='Unnamed'):\n",
    "    \n",
    "    # Calculate accuraccy, precision, recall and F1-score\n",
    "    accuracy = accuracy_score(y_test, y_pred)*100\n",
    "    precision = precision_score(y_test, y_pred)*100\n",
    "    recall = recall_score(y_test, y_pred)*100\n",
    "    f1 = f1_score(y_test, y_pred)*100\n",
    "\n",
    "    # Get P-R curve parameters (numpy arrays)\n",
    "    p_curve, r_curve, t_curve = precision_recall_curve(y_test, y_proba)\n",
    "    f1_scores = [f1_score(y_test, (y_proba >= t)) for t in t_curve]\n",
    "\n",
    "    # ROC curve and AUC\n",
    "    fpr, tpr, thresholds = roc_curve(y_test, y_proba)\n",
    "    auc_score = auc(fpr, tpr)*100\n",
    "\n",
    "    # ROC curve parameters\n",
    "    roc_param = {\n",
    "        'fpr': fpr,\n",
    "        'tpr': tpr,\n",
    "        'thr': thresholds\n",
    "    }\n",
    "\n",
    "    # Precision-Recall curve parameters\n",
    "    pr_curve = {\n",
    "        'p_curve': p_curve,\n",
    "        'r_curve': r_curve,\n",
    "        't_curve': t_curve,\n",
    "        'f1_curve': f1_scores\n",
    "    }\n",
    "\n",
    "    # Group all metrics\n",
    "    metrics = {\n",
    "        'model': model_name,\n",
    "        'accuracy': accuracy,\n",
    "        'precision': precision,\n",
    "        'recall': recall,\n",
    "        'f1_score': f1,\n",
    "        'auc_score': auc_score\n",
    "    }\n",
    "\n",
    "    return metrics, pr_curve, roc_param\n",
    "\n",
    "def plot_prcurve(pr_curve, model_name='Unnamed'):\n",
    "    p_curve, r_curve, t_curve, f1_scores = pr_curve['p_curve'], pr_curve['r_curve'], pr_curve['t_curve'], pr_curve['f1_curve']\n",
    "\n",
    "    # Plot curve\n",
    "    fig, ax = plt.subplots(figsize=(10,6))\n",
    "\n",
    "    sns.despine()\n",
    "    \n",
    "    ax.plot(t_curve, p_curve[:-1], label = 'Precision', ls='--', c=main_color)\n",
    "    ax.plot(t_curve, r_curve[:-1], label = 'Recall', c=main_color)\n",
    "    ax.plot(t_curve, f1_scores, label='F1 Curve', c=highlight_color)\n",
    "\n",
    "    ax.set_xlabel('Prediction Threshold')\n",
    "    ax.set_ylabel('Scores')\n",
    "    \n",
    "    ax.legend()\n",
    "    \n",
    "    fig.suptitle('Precision-Recall Curve')\n",
    "    ax.set_title(f'Model: {model_name}')\n",
    "\n",
    "    plt.show()"
   ]
  },
  {
   "cell_type": "markdown",
   "metadata": {},
   "source": [
    "### Data import"
   ]
  },
  {
   "cell_type": "code",
   "execution_count": 96,
   "metadata": {},
   "outputs": [],
   "source": [
    "with open('feat_target.bin','rb') as f:\n",
    "    features_target = pickle.load(f)\n",
    "\n",
    "X = features_target['X']\n",
    "y = features_target['y']"
   ]
  },
  {
   "cell_type": "code",
   "execution_count": 97,
   "metadata": {},
   "outputs": [],
   "source": [
    "X_train, X_test, y_train, y_test = train_test_split(X,y,random_state=1,stratify=y, test_size=0.2)\n",
    "X_train, y_train = upsample_smote(X_train, y_train)"
   ]
  },
  {
   "cell_type": "markdown",
   "metadata": {},
   "source": [
    "## Evaluate models"
   ]
  },
  {
   "cell_type": "code",
   "execution_count": 138,
   "metadata": {},
   "outputs": [],
   "source": [
    "def search_cv(model_type, search_type, params, scoring, n_iter=100):\n",
    "    \n",
    "    # Select model type\n",
    "    if model_type == 'DecisionTreeClassifier':\n",
    "        model = DecisionTreeClassifier()\n",
    "    elif model_type == 'LogisticRegression':\n",
    "        model = LogisticRegression()\n",
    "    elif model_type == 'KNeighborsClassifier':\n",
    "        model = KNeighborsClassifier()\n",
    "    elif model_type == 'RandomForestClassifier':\n",
    "        model = RandomForestClassifier()\n",
    "    elif model_type == 'GradientBoostingClassifier':\n",
    "        model = GradientBoostingClassifier()\n",
    "    elif model_type == 'SVC':\n",
    "        model = SVC()\n",
    "\n",
    "    # Select search types\n",
    "    if search_type == 'Random':\n",
    "        grid = RandomizedSearchCV(model, params, scoring=scoring, n_iter=n_iter)\n",
    "    elif search_type == 'Grid':\n",
    "        grid = GridSearchCV(model, params, scoring=scoring)\n",
    "\n",
    "    # Train models\n",
    "    grid.fit(X_train, y_train)\n",
    "\n",
    "    return grid.best_params_"
   ]
  },
  {
   "cell_type": "code",
   "execution_count": 111,
   "metadata": {},
   "outputs": [],
   "source": [
    "def get_performance(model, X_test, y_test, model_name):\n",
    "    # Get predictions\n",
    "    y_pred, y_proba = get_predictions(model, X_test)\n",
    "\n",
    "    # Get model performance metrics\n",
    "    metrics_2, pr_curve_2, roc_param_2 = model_performance_metrics(y_test, y_proba, y_pred, model_name=model_name)\n",
    "\n",
    "    return metrics_2"
   ]
  },
  {
   "cell_type": "markdown",
   "metadata": {},
   "source": [
    "### Model 0: Classification Tree"
   ]
  },
  {
   "cell_type": "markdown",
   "metadata": {},
   "source": [
    "#### Random search"
   ]
  },
  {
   "cell_type": "code",
   "execution_count": 99,
   "metadata": {},
   "outputs": [
    {
     "data": {
      "text/plain": [
       "{'min_samples_leaf': 5, 'max_depth': 5}"
      ]
     },
     "execution_count": 99,
     "metadata": {},
     "output_type": "execute_result"
    }
   ],
   "source": [
    "# Define search parameters\n",
    "params = {\n",
    "    'max_depth': np.arange(start=1, stop=11, step=1),\n",
    "    'min_samples_leaf': [2, 5, 10, 20, 100]\n",
    "}\n",
    "\n",
    "scoring='precision'\n",
    "\n",
    "best_params = search_cv('DecisionTreeClassifier', 'Random', params, scoring, n_iter=100)\n",
    "best_params"
   ]
  },
  {
   "cell_type": "markdown",
   "metadata": {},
   "source": [
    "#### Grid search"
   ]
  },
  {
   "cell_type": "code",
   "execution_count": 100,
   "metadata": {},
   "outputs": [
    {
     "data": {
      "text/plain": [
       "{'max_depth': 5, 'min_samples_leaf': 4}"
      ]
     },
     "execution_count": 100,
     "metadata": {},
     "output_type": "execute_result"
    }
   ],
   "source": [
    "# Define search parameters\n",
    "params = {\n",
    "    'max_depth': np.arange(start=1, stop=11, step=1),\n",
    "    'min_samples_leaf': np.arange(start=1, stop=21, step=1)\n",
    "}\n",
    "\n",
    "scoring='precision'\n",
    "\n",
    "best_params_0 = search_cv('DecisionTreeClassifier', 'Grid', params, scoring)\n",
    "best_params_0"
   ]
  },
  {
   "cell_type": "markdown",
   "metadata": {},
   "source": [
    "#### Model with best parameters"
   ]
  },
  {
   "cell_type": "code",
   "execution_count": 112,
   "metadata": {},
   "outputs": [
    {
     "data": {
      "text/html": [
       "<div>\n",
       "<style scoped>\n",
       "    .dataframe tbody tr th:only-of-type {\n",
       "        vertical-align: middle;\n",
       "    }\n",
       "\n",
       "    .dataframe tbody tr th {\n",
       "        vertical-align: top;\n",
       "    }\n",
       "\n",
       "    .dataframe thead th {\n",
       "        text-align: right;\n",
       "    }\n",
       "</style>\n",
       "<table border=\"1\" class=\"dataframe\">\n",
       "  <thead>\n",
       "    <tr style=\"text-align: right;\">\n",
       "      <th></th>\n",
       "      <th>model</th>\n",
       "      <th>accuracy</th>\n",
       "      <th>precision</th>\n",
       "      <th>recall</th>\n",
       "      <th>f1_score</th>\n",
       "      <th>auc_score</th>\n",
       "    </tr>\n",
       "  </thead>\n",
       "  <tbody>\n",
       "    <tr>\n",
       "      <th>0</th>\n",
       "      <td>Tuned Class. Tree</td>\n",
       "      <td>98.72549</td>\n",
       "      <td>65.116279</td>\n",
       "      <td>71.794872</td>\n",
       "      <td>68.292683</td>\n",
       "      <td>88.42694</td>\n",
       "    </tr>\n",
       "  </tbody>\n",
       "</table>\n",
       "</div>"
      ],
      "text/plain": [
       "               model  accuracy  precision     recall   f1_score  auc_score\n",
       "0  Tuned Class. Tree  98.72549  65.116279  71.794872  68.292683   88.42694"
      ]
     },
     "metadata": {},
     "output_type": "display_data"
    }
   ],
   "source": [
    "# Initiate and fit model (unpack best parameters)\n",
    "model_0_tuned = DecisionTreeClassifier(**best_params_0).fit(X_train, y_train)\n",
    "metrics_0 = get_performance(model_0_tuned, X_test, y_test, 'Tuned Class. Tree')\n",
    "display(pd.DataFrame([metrics_0]))"
   ]
  },
  {
   "cell_type": "markdown",
   "metadata": {},
   "source": [
    "### Model 1: Linear Regression"
   ]
  },
  {
   "cell_type": "markdown",
   "metadata": {},
   "source": [
    "#### Random search"
   ]
  },
  {
   "cell_type": "code",
   "execution_count": 102,
   "metadata": {},
   "outputs": [
    {
     "data": {
      "text/plain": [
       "{'solver': 'saga', 'penalty': 'l2', 'C': 0.4}"
      ]
     },
     "execution_count": 102,
     "metadata": {},
     "output_type": "execute_result"
    }
   ],
   "source": [
    "# Define search parameters\n",
    "params = {\n",
    "    'C': np.linspace(.1, 1, 10),\n",
    "    'penalty': ['l1', 'l2', 'elsticnet'],\n",
    "    'solver': ['saga']\n",
    "}\n",
    "\n",
    "scoring='precision'\n",
    "\n",
    "best_params_1 = search_cv('LogisticRegression', 'Random', params, scoring, n_iter=100)\n",
    "best_params_1"
   ]
  },
  {
   "cell_type": "code",
   "execution_count": 114,
   "metadata": {},
   "outputs": [
    {
     "data": {
      "text/html": [
       "<div>\n",
       "<style scoped>\n",
       "    .dataframe tbody tr th:only-of-type {\n",
       "        vertical-align: middle;\n",
       "    }\n",
       "\n",
       "    .dataframe tbody tr th {\n",
       "        vertical-align: top;\n",
       "    }\n",
       "\n",
       "    .dataframe thead th {\n",
       "        text-align: right;\n",
       "    }\n",
       "</style>\n",
       "<table border=\"1\" class=\"dataframe\">\n",
       "  <thead>\n",
       "    <tr style=\"text-align: right;\">\n",
       "      <th></th>\n",
       "      <th>model</th>\n",
       "      <th>accuracy</th>\n",
       "      <th>precision</th>\n",
       "      <th>recall</th>\n",
       "      <th>f1_score</th>\n",
       "      <th>auc_score</th>\n",
       "    </tr>\n",
       "  </thead>\n",
       "  <tbody>\n",
       "    <tr>\n",
       "      <th>0</th>\n",
       "      <td>Tuned Log. Reg.</td>\n",
       "      <td>97.990196</td>\n",
       "      <td>48.076923</td>\n",
       "      <td>64.102564</td>\n",
       "      <td>54.945055</td>\n",
       "      <td>89.014467</td>\n",
       "    </tr>\n",
       "  </tbody>\n",
       "</table>\n",
       "</div>"
      ],
      "text/plain": [
       "             model   accuracy  precision     recall   f1_score  auc_score\n",
       "0  Tuned Log. Reg.  97.990196  48.076923  64.102564  54.945055  89.014467"
      ]
     },
     "metadata": {},
     "output_type": "display_data"
    }
   ],
   "source": [
    "# Initiate and fit model (unpack best parameters)\n",
    "model_1_tuned = LogisticRegression(**best_params_1).fit(X_train, y_train)\n",
    "metrics_1 = get_performance(model_1_tuned, X_test, y_test, 'Tuned Log. Reg.')\n",
    "display(pd.DataFrame([metrics_1]))"
   ]
  },
  {
   "cell_type": "markdown",
   "metadata": {},
   "source": [
    "### Model 2: KNN"
   ]
  },
  {
   "cell_type": "markdown",
   "metadata": {},
   "source": [
    "#### Random search"
   ]
  },
  {
   "cell_type": "code",
   "execution_count": 117,
   "metadata": {},
   "outputs": [
    {
     "data": {
      "text/plain": [
       "{'n_neighbors': 2}"
      ]
     },
     "execution_count": 117,
     "metadata": {},
     "output_type": "execute_result"
    }
   ],
   "source": [
    "# Define search parameters\n",
    "params = {\n",
    "    'n_neighbors': np.arange(start=1, stop=20, step=1)\n",
    "}\n",
    "\n",
    "scoring='f1'\n",
    "\n",
    "best_params_2 = search_cv('KNeighborsClassifier', 'Random', params, scoring, n_iter=100)\n",
    "best_params_2"
   ]
  },
  {
   "cell_type": "code",
   "execution_count": 118,
   "metadata": {},
   "outputs": [
    {
     "data": {
      "text/html": [
       "<div>\n",
       "<style scoped>\n",
       "    .dataframe tbody tr th:only-of-type {\n",
       "        vertical-align: middle;\n",
       "    }\n",
       "\n",
       "    .dataframe tbody tr th {\n",
       "        vertical-align: top;\n",
       "    }\n",
       "\n",
       "    .dataframe thead th {\n",
       "        text-align: right;\n",
       "    }\n",
       "</style>\n",
       "<table border=\"1\" class=\"dataframe\">\n",
       "  <thead>\n",
       "    <tr style=\"text-align: right;\">\n",
       "      <th></th>\n",
       "      <th>model</th>\n",
       "      <th>accuracy</th>\n",
       "      <th>precision</th>\n",
       "      <th>recall</th>\n",
       "      <th>f1_score</th>\n",
       "      <th>auc_score</th>\n",
       "    </tr>\n",
       "  </thead>\n",
       "  <tbody>\n",
       "    <tr>\n",
       "      <th>0</th>\n",
       "      <td>Tuned KNN</td>\n",
       "      <td>98.333333</td>\n",
       "      <td>69.230769</td>\n",
       "      <td>23.076923</td>\n",
       "      <td>34.615385</td>\n",
       "      <td>77.668217</td>\n",
       "    </tr>\n",
       "  </tbody>\n",
       "</table>\n",
       "</div>"
      ],
      "text/plain": [
       "       model   accuracy  precision     recall   f1_score  auc_score\n",
       "0  Tuned KNN  98.333333  69.230769  23.076923  34.615385  77.668217"
      ]
     },
     "metadata": {},
     "output_type": "display_data"
    }
   ],
   "source": [
    "# Instantiate the model\n",
    "model_2_tuned = KNeighborsClassifier(**best_params_2).fit(X_train, y_train)\n",
    "metrics_2 = get_performance(model_2_tuned, X_test, y_test, 'Tuned KNN')\n",
    "display(pd.DataFrame([metrics_2]))"
   ]
  },
  {
   "cell_type": "markdown",
   "metadata": {},
   "source": [
    "### Model 3: Random Forest"
   ]
  },
  {
   "cell_type": "markdown",
   "metadata": {},
   "source": [
    "#### Random search"
   ]
  },
  {
   "cell_type": "code",
   "execution_count": 123,
   "metadata": {},
   "outputs": [
    {
     "data": {
      "text/plain": [
       "{'random_state': 1,\n",
       " 'n_jobs': -1,\n",
       " 'n_estimators': 100,\n",
       " 'min_samples_leaf': 5,\n",
       " 'max_samples': None,\n",
       " 'max_features': None,\n",
       " 'max_depth': 5,\n",
       " 'bootstrap': False}"
      ]
     },
     "execution_count": 123,
     "metadata": {},
     "output_type": "execute_result"
    }
   ],
   "source": [
    "# NOTE: this cell can take around 5-10 min to run\n",
    "# Define search parameters\n",
    "params = {\n",
    "    'random_state': [1],\n",
    "    'n_jobs': [-1],\n",
    "    'n_estimators': np.arange(start=100, stop=1100, step=100),\n",
    "\t'max_features': [None, 'sqrt'],\n",
    "\t'bootstrap': [True, False],\n",
    "\t'max_samples': [None, .3, .5, .9],\n",
    "\t'max_depth': np.arange(start=1, stop=11, step=1),\n",
    "\t'min_samples_leaf': [2, 5, 10, 20, 100]\n",
    "}\n",
    "\n",
    "scoring='precision'\n",
    "\n",
    "best_params_3 = search_cv('RandomForestClassifier', 'Random', params, scoring, n_iter=100)\n",
    "best_params_3"
   ]
  },
  {
   "cell_type": "code",
   "execution_count": 124,
   "metadata": {},
   "outputs": [
    {
     "data": {
      "text/html": [
       "<div>\n",
       "<style scoped>\n",
       "    .dataframe tbody tr th:only-of-type {\n",
       "        vertical-align: middle;\n",
       "    }\n",
       "\n",
       "    .dataframe tbody tr th {\n",
       "        vertical-align: top;\n",
       "    }\n",
       "\n",
       "    .dataframe thead th {\n",
       "        text-align: right;\n",
       "    }\n",
       "</style>\n",
       "<table border=\"1\" class=\"dataframe\">\n",
       "  <thead>\n",
       "    <tr style=\"text-align: right;\">\n",
       "      <th></th>\n",
       "      <th>model</th>\n",
       "      <th>accuracy</th>\n",
       "      <th>precision</th>\n",
       "      <th>recall</th>\n",
       "      <th>f1_score</th>\n",
       "      <th>auc_score</th>\n",
       "    </tr>\n",
       "  </thead>\n",
       "  <tbody>\n",
       "    <tr>\n",
       "      <th>0</th>\n",
       "      <td>Tuned Rand. Forest</td>\n",
       "      <td>98.72549</td>\n",
       "      <td>65.116279</td>\n",
       "      <td>71.794872</td>\n",
       "      <td>68.292683</td>\n",
       "      <td>88.444239</td>\n",
       "    </tr>\n",
       "  </tbody>\n",
       "</table>\n",
       "</div>"
      ],
      "text/plain": [
       "                model  accuracy  precision     recall   f1_score  auc_score\n",
       "0  Tuned Rand. Forest  98.72549  65.116279  71.794872  68.292683  88.444239"
      ]
     },
     "metadata": {},
     "output_type": "display_data"
    }
   ],
   "source": [
    "# Instantiate the model\n",
    "model_3_tuned = RandomForestClassifier(**best_params_3).fit(X_train, y_train)\n",
    "metrics_3 = get_performance(model_3_tuned, X_test, y_test, 'Tuned Rand. Forest')\n",
    "display(pd.DataFrame([metrics_3]))"
   ]
  },
  {
   "cell_type": "markdown",
   "metadata": {},
   "source": [
    "### Model 4: Gradient Boosted Machine\n"
   ]
  },
  {
   "cell_type": "code",
   "execution_count": 130,
   "metadata": {},
   "outputs": [
    {
     "data": {
      "text/plain": [
       "{'subsample': 0.9,\n",
       " 'random_state': 1,\n",
       " 'n_estimators': 900,\n",
       " 'min_samples_leaf': 2,\n",
       " 'max_features': 'sqrt',\n",
       " 'max_depth': 11,\n",
       " 'learning_rate': 0.2}"
      ]
     },
     "execution_count": 130,
     "metadata": {},
     "output_type": "execute_result"
    }
   ],
   "source": [
    "# NOTE: this cell can take around 50-60 min to run\n",
    "# Define search parameters\n",
    "params = {\n",
    "    'random_state': [1],\n",
    "\t'n_estimators': np.arange(start=100, stop=1100, step=100),\n",
    "\t'learning_rate': [.001, .01, .1, .2],\n",
    "\t'max_features': [None, 'sqrt'],\n",
    "\t'subsample': [.8, .9, 1.0],\n",
    "\t'max_depth': np.arange(start=3, stop=12, step=2),\n",
    "\t'min_samples_leaf': [2, 5, 10]\n",
    "}\n",
    "\n",
    "scoring='precision'\n",
    "\n",
    "best_params_4 = search_cv('GradientBoostingClassifier', 'Random', params, scoring, n_iter=100)\n",
    "best_params_4"
   ]
  },
  {
   "cell_type": "code",
   "execution_count": 131,
   "metadata": {},
   "outputs": [
    {
     "data": {
      "text/html": [
       "<div>\n",
       "<style scoped>\n",
       "    .dataframe tbody tr th:only-of-type {\n",
       "        vertical-align: middle;\n",
       "    }\n",
       "\n",
       "    .dataframe tbody tr th {\n",
       "        vertical-align: top;\n",
       "    }\n",
       "\n",
       "    .dataframe thead th {\n",
       "        text-align: right;\n",
       "    }\n",
       "</style>\n",
       "<table border=\"1\" class=\"dataframe\">\n",
       "  <thead>\n",
       "    <tr style=\"text-align: right;\">\n",
       "      <th></th>\n",
       "      <th>model</th>\n",
       "      <th>accuracy</th>\n",
       "      <th>precision</th>\n",
       "      <th>recall</th>\n",
       "      <th>f1_score</th>\n",
       "      <th>auc_score</th>\n",
       "    </tr>\n",
       "  </thead>\n",
       "  <tbody>\n",
       "    <tr>\n",
       "      <th>0</th>\n",
       "      <td>Tuned GBM</td>\n",
       "      <td>99.362745</td>\n",
       "      <td>100.0</td>\n",
       "      <td>66.666667</td>\n",
       "      <td>80.0</td>\n",
       "      <td>95.541973</td>\n",
       "    </tr>\n",
       "  </tbody>\n",
       "</table>\n",
       "</div>"
      ],
      "text/plain": [
       "       model   accuracy  precision     recall  f1_score  auc_score\n",
       "0  Tuned GBM  99.362745      100.0  66.666667      80.0  95.541973"
      ]
     },
     "metadata": {},
     "output_type": "display_data"
    }
   ],
   "source": [
    "# Instantiate the model\n",
    "model_4_tuned = GradientBoostingClassifier(**best_params_4).fit(X_train, y_train)\n",
    "metrics_4 = get_performance(model_4_tuned, X_test, y_test, 'Tuned GBM')\n",
    "display(pd.DataFrame([metrics_4]))"
   ]
  },
  {
   "cell_type": "markdown",
   "metadata": {},
   "source": [
    "### Model 5: SVM"
   ]
  },
  {
   "cell_type": "code",
   "execution_count": 141,
   "metadata": {},
   "outputs": [
    {
     "data": {
      "text/plain": [
       "{'probability': True, 'kernel': 'linear', 'degree': 3, 'C': 0.1}"
      ]
     },
     "execution_count": 141,
     "metadata": {},
     "output_type": "execute_result"
    }
   ],
   "source": [
    "# NOTE: this cell can take around 5-10 min to run\n",
    "params = {\n",
    "    'probability': [True],\n",
    "    'C': [.1, 1], # regularisation\n",
    "    'kernel': ['linear', 'poly'], # 'rbf', 'sigmoid', 'precomputed'],\n",
    "    'degree': [3],\n",
    "    #'gamma': ['scale', 'auto'],\n",
    "}\n",
    "\n",
    "scoring='precision'\n",
    "\n",
    "best_params_5 = search_cv('SVC', 'Random', params, scoring, n_iter=100)\n",
    "best_params_5"
   ]
  },
  {
   "cell_type": "code",
   "execution_count": 142,
   "metadata": {},
   "outputs": [
    {
     "data": {
      "text/html": [
       "<div>\n",
       "<style scoped>\n",
       "    .dataframe tbody tr th:only-of-type {\n",
       "        vertical-align: middle;\n",
       "    }\n",
       "\n",
       "    .dataframe tbody tr th {\n",
       "        vertical-align: top;\n",
       "    }\n",
       "\n",
       "    .dataframe thead th {\n",
       "        text-align: right;\n",
       "    }\n",
       "</style>\n",
       "<table border=\"1\" class=\"dataframe\">\n",
       "  <thead>\n",
       "    <tr style=\"text-align: right;\">\n",
       "      <th></th>\n",
       "      <th>model</th>\n",
       "      <th>accuracy</th>\n",
       "      <th>precision</th>\n",
       "      <th>recall</th>\n",
       "      <th>f1_score</th>\n",
       "      <th>auc_score</th>\n",
       "    </tr>\n",
       "  </thead>\n",
       "  <tbody>\n",
       "    <tr>\n",
       "      <th>0</th>\n",
       "      <td>Tuned SVM</td>\n",
       "      <td>99.264706</td>\n",
       "      <td>100.0</td>\n",
       "      <td>61.538462</td>\n",
       "      <td>76.190476</td>\n",
       "      <td>91.035252</td>\n",
       "    </tr>\n",
       "  </tbody>\n",
       "</table>\n",
       "</div>"
      ],
      "text/plain": [
       "       model   accuracy  precision     recall   f1_score  auc_score\n",
       "0  Tuned SVM  99.264706      100.0  61.538462  76.190476  91.035252"
      ]
     },
     "metadata": {},
     "output_type": "display_data"
    }
   ],
   "source": [
    "# Instantiate and fit the model\n",
    "model_5_tuned = SVC(**best_params_5).fit(X_train, y_train)\n",
    "metrics_5 = get_performance(model_5_tuned, X_test, y_test, 'Tuned SVM')\n",
    "display(pd.DataFrame([metrics_5]))"
   ]
  },
  {
   "cell_type": "markdown",
   "metadata": {},
   "source": [
    "## Compare models"
   ]
  },
  {
   "cell_type": "code",
   "execution_count": 143,
   "metadata": {},
   "outputs": [
    {
     "data": {
      "text/html": [
       "<div>\n",
       "<style scoped>\n",
       "    .dataframe tbody tr th:only-of-type {\n",
       "        vertical-align: middle;\n",
       "    }\n",
       "\n",
       "    .dataframe tbody tr th {\n",
       "        vertical-align: top;\n",
       "    }\n",
       "\n",
       "    .dataframe thead th {\n",
       "        text-align: right;\n",
       "    }\n",
       "</style>\n",
       "<table border=\"1\" class=\"dataframe\">\n",
       "  <thead>\n",
       "    <tr style=\"text-align: right;\">\n",
       "      <th></th>\n",
       "      <th>model</th>\n",
       "      <th>accuracy</th>\n",
       "      <th>precision</th>\n",
       "      <th>recall</th>\n",
       "      <th>f1_score</th>\n",
       "      <th>auc_score</th>\n",
       "    </tr>\n",
       "  </thead>\n",
       "  <tbody>\n",
       "    <tr>\n",
       "      <th>4</th>\n",
       "      <td>Tuned GBM</td>\n",
       "      <td>99.362745</td>\n",
       "      <td>100.000000</td>\n",
       "      <td>66.666667</td>\n",
       "      <td>80.000000</td>\n",
       "      <td>95.541973</td>\n",
       "    </tr>\n",
       "    <tr>\n",
       "      <th>5</th>\n",
       "      <td>Tuned SVM</td>\n",
       "      <td>99.264706</td>\n",
       "      <td>100.000000</td>\n",
       "      <td>61.538462</td>\n",
       "      <td>76.190476</td>\n",
       "      <td>91.035252</td>\n",
       "    </tr>\n",
       "    <tr>\n",
       "      <th>0</th>\n",
       "      <td>Tuned Class. Tree</td>\n",
       "      <td>98.725490</td>\n",
       "      <td>65.116279</td>\n",
       "      <td>71.794872</td>\n",
       "      <td>68.292683</td>\n",
       "      <td>88.426940</td>\n",
       "    </tr>\n",
       "    <tr>\n",
       "      <th>3</th>\n",
       "      <td>Tuned Rand. Forest</td>\n",
       "      <td>98.725490</td>\n",
       "      <td>65.116279</td>\n",
       "      <td>71.794872</td>\n",
       "      <td>68.292683</td>\n",
       "      <td>88.444239</td>\n",
       "    </tr>\n",
       "    <tr>\n",
       "      <th>1</th>\n",
       "      <td>Tuned Log. Reg.</td>\n",
       "      <td>97.990196</td>\n",
       "      <td>48.076923</td>\n",
       "      <td>64.102564</td>\n",
       "      <td>54.945055</td>\n",
       "      <td>89.014467</td>\n",
       "    </tr>\n",
       "    <tr>\n",
       "      <th>2</th>\n",
       "      <td>Tuned KNN</td>\n",
       "      <td>98.333333</td>\n",
       "      <td>69.230769</td>\n",
       "      <td>23.076923</td>\n",
       "      <td>34.615385</td>\n",
       "      <td>77.668217</td>\n",
       "    </tr>\n",
       "  </tbody>\n",
       "</table>\n",
       "</div>"
      ],
      "text/plain": [
       "                model   accuracy   precision     recall   f1_score  auc_score\n",
       "4           Tuned GBM  99.362745  100.000000  66.666667  80.000000  95.541973\n",
       "5           Tuned SVM  99.264706  100.000000  61.538462  76.190476  91.035252\n",
       "0   Tuned Class. Tree  98.725490   65.116279  71.794872  68.292683  88.426940\n",
       "3  Tuned Rand. Forest  98.725490   65.116279  71.794872  68.292683  88.444239\n",
       "1     Tuned Log. Reg.  97.990196   48.076923  64.102564  54.945055  89.014467\n",
       "2           Tuned KNN  98.333333   69.230769  23.076923  34.615385  77.668217"
      ]
     },
     "metadata": {},
     "output_type": "display_data"
    }
   ],
   "source": [
    "compare_models = pd.DataFrame([metrics_0, metrics_1, metrics_2, metrics_3, metrics_4, metrics_5])\n",
    "\n",
    "display(compare_models.sort_values('f1_score', ascending=False))"
   ]
  },
  {
   "cell_type": "markdown",
   "metadata": {},
   "source": [
    "### Compare models ROC and AUC"
   ]
  },
  {
   "cell_type": "code",
   "execution_count": 151,
   "metadata": {},
   "outputs": [],
   "source": [
    "y_pred, y_proba = get_predictions(model_0_tuned, X_test)\n",
    "metrics_0, pr_curve_0, roc_param_0 = model_performance_metrics(y_test, y_proba, y_pred, model_name=\"Tuned Class. Tree\")"
   ]
  },
  {
   "cell_type": "code",
   "execution_count": 152,
   "metadata": {},
   "outputs": [],
   "source": [
    "y_pred, y_proba = get_predictions(model_4_tuned, X_test)\n",
    "metrics_4, pr_curve_4, roc_param_4 = model_performance_metrics(y_test, y_proba, y_pred, model_name=\"Tuned GBM\")"
   ]
  },
  {
   "cell_type": "code",
   "execution_count": 153,
   "metadata": {},
   "outputs": [],
   "source": [
    "y_pred, y_proba = get_predictions(model_5_tuned, X_test)\n",
    "metrics_5, pr_curve_5, roc_param_5 = model_performance_metrics(y_test, y_proba, y_pred, model_name=\"Tuned SVM\")"
   ]
  },
  {
   "cell_type": "code",
   "execution_count": 199,
   "metadata": {},
   "outputs": [],
   "source": [
    "main_color_dark = '#767676'\n",
    "main_color_darker = '#515151'\n",
    "main_color_darkest = '#181818'"
   ]
  },
  {
   "cell_type": "code",
   "execution_count": 207,
   "metadata": {},
   "outputs": [
    {
     "data": {
      "image/png": "[encoded data removed]",
      "text/plain": [
       "<Figure size 800x600 with 1 Axes>"
      ]
     },
     "metadata": {},
     "output_type": "display_data"
    }
   ],
   "source": [
    "import seaborn as sns\n",
    "\n",
    "fig, ax = plt.subplots(figsize=(8,6))\n",
    "\n",
    "sns.despine()\n",
    "\n",
    "ax.plot(roc_param_4['fpr'], roc_param_4['tpr'], label=f\"{metrics_4['model']} (AUC = {metrics_4['auc_score']/100:.2f})\", c=main_color_darker)\n",
    "ax.plot(roc_param_5['fpr'], roc_param_5['tpr'], label=f\"{metrics_5['model']} (AUC = {metrics_5['auc_score']/100:.2f})\", c=highlight_color)\n",
    "ax.plot(roc_param_0['fpr'], roc_param_0['tpr'], label=f\"{metrics_0['model']} (AUC = {metrics_0['auc_score']/100:.2f})\", c=main_color_dark, ls='--')\n",
    "ax.plot([0, 1], [0, 1], ls=':', c=main_color, label='Random choice (AUC = 0.5)')\n",
    "\n",
    "ax.set_title('Top 3 Model Performance')\n",
    "\n",
    "ax.set_xlabel('False Positive Rate')\n",
    "ax.set_ylabel('True Positive Rate')\n",
    "\n",
    "ax.legend()\n",
    "\n",
    "plt.show()"
   ]
  },
  {
   "cell_type": "code",
   "execution_count": 247,
   "metadata": {},
   "outputs": [
    {
     "data": {
      "image/png": "[encoded data removed]",
      "text/plain": [
       "<Figure size 800x600 with 1 Axes>"
      ]
     },
     "metadata": {},
     "output_type": "display_data"
    }
   ],
   "source": [
    "fig, ax = plt.subplots(figsize=(8,6))\n",
    "\n",
    "sns.despine()\n",
    "\n",
    "ax.plot(roc_param_4['fpr'], roc_param_4['tpr'], label=f\"{metrics_4['model']} (AUC = {metrics_4['auc_score']/100:.2f})\", c=main_color_darker)\n",
    "ax.plot(roc_param_5['fpr'], roc_param_5['tpr'], label=f\"{metrics_5['model']} (AUC = {metrics_5['auc_score']/100:.2f})\", c=highlight_color)\n",
    "\n",
    "ax.scatter(roc_param_5['fpr'][8], roc_param_5['tpr'][8], c=highlight_color)\n",
    "ax.annotate(\n",
    "    f\"Threshold = {100*roc_param_5['thr'][8]:.2f}%\",\n",
    "    [roc_param_5['fpr'][8], roc_param_5['tpr'][8]],\n",
    "    verticalalignment='bottom',\n",
    "    horizontalalignment='center',\n",
    "    arrowprops=dict(arrowstyle= '->'),\n",
    "    xytext=[roc_param_5['fpr'][8]+.0, roc_param_5['tpr'][8]+.012])\n",
    "\n",
    "ax.set_title('Top 3 Model Performance')\n",
    "\n",
    "ax.set_xlim(0, .06)\n",
    "ax.set_ylim(.675, .875)\n",
    "\n",
    "ax.set_xlabel('False Positive Rate')\n",
    "ax.set_ylabel('True Positive Rate')\n",
    "\n",
    "ax.legend(loc='lower left')\n",
    "\n",
    "plt.show()"
   ]
  },
  {
   "cell_type": "markdown",
   "metadata": {},
   "source": [
    "## Model selection\n",
    "Finally, we look at how the classification threshold can be optimised based on the Precision-Recall curves for the Gradient Boost Machine and SVM models. We plot the Precision-Recall curves for both models and select the threshold that maximises the F1-score."
   ]
  },
  {
   "cell_type": "code",
   "execution_count": 256,
   "metadata": {},
   "outputs": [
    {
     "data": {
      "image/png": "[encoded data removed]",
      "text/plain": [
       "<Figure size 1000x600 with 1 Axes>"
      ]
     },
     "metadata": {},
     "output_type": "display_data"
    }
   ],
   "source": [
    "plot_prcurve(pr_curve_4, model_name=metrics_4['model'])"
   ]
  },
  {
   "cell_type": "code",
   "execution_count": 288,
   "metadata": {},
   "outputs": [],
   "source": [
    "# Index where F1 curve is maximised in Model 4 (GBM)\n",
    "f1_max_4 = pr_curve_4['f1_curve'].index(max(pr_curve_4['f1_curve']))\n",
    "\n",
    "tuned_metrics_4 = pd.DataFrame([{\n",
    "    'model': metrics_4['model'],\n",
    "    'threshold': pr_curve_4['t_curve'][f1_max_4],\n",
    "    'precision': pr_curve_4['p_curve'][f1_max_4],\n",
    "    'recall': pr_curve_4['r_curve'][f1_max_4],\n",
    "    'f1_score': pr_curve_4['f1_curve'][f1_max_4]\n",
    "}])"
   ]
  },
  {
   "cell_type": "code",
   "execution_count": 257,
   "metadata": {},
   "outputs": [
    {
     "data": {
      "image/png": "[encoded data removed]",
      "text/plain": [
       "<Figure size 1000x600 with 1 Axes>"
      ]
     },
     "metadata": {},
     "output_type": "display_data"
    }
   ],
   "source": [
    "plot_prcurve(pr_curve_5, model_name=metrics_5['model'])"
   ]
  },
  {
   "cell_type": "code",
   "execution_count": 290,
   "metadata": {},
   "outputs": [],
   "source": [
    "# Index where F1 curve is maximised in Model 5 (SVM)\n",
    "f1_max_5 = pr_curve_5['f1_curve'].index(max(pr_curve_5['f1_curve']))\n",
    "\n",
    "tuned_metrics_5 = pd.DataFrame([{\n",
    "    'model': metrics_5['model'],\n",
    "    'threshold': pr_curve_5['t_curve'][f1_max_5],\n",
    "    'precision': pr_curve_5['p_curve'][f1_max_5],\n",
    "    'recall': pr_curve_5['r_curve'][f1_max_5],\n",
    "    'f1_score': pr_curve_5['f1_curve'][f1_max_5]\n",
    "}])"
   ]
  },
  {
   "cell_type": "code",
   "execution_count": 293,
   "metadata": {},
   "outputs": [
    {
     "data": {
      "text/html": [
       "<div>\n",
       "<style scoped>\n",
       "    .dataframe tbody tr th:only-of-type {\n",
       "        vertical-align: middle;\n",
       "    }\n",
       "\n",
       "    .dataframe tbody tr th {\n",
       "        vertical-align: top;\n",
       "    }\n",
       "\n",
       "    .dataframe thead th {\n",
       "        text-align: right;\n",
       "    }\n",
       "</style>\n",
       "<table border=\"1\" class=\"dataframe\">\n",
       "  <thead>\n",
       "    <tr style=\"text-align: right;\">\n",
       "      <th></th>\n",
       "      <th>model</th>\n",
       "      <th>threshold</th>\n",
       "      <th>precision</th>\n",
       "      <th>recall</th>\n",
       "      <th>f1_score</th>\n",
       "    </tr>\n",
       "  </thead>\n",
       "  <tbody>\n",
       "    <tr>\n",
       "      <th>0</th>\n",
       "      <td>Tuned GBM</td>\n",
       "      <td>0.001383</td>\n",
       "      <td>0.9375</td>\n",
       "      <td>0.769231</td>\n",
       "      <td>0.845070</td>\n",
       "    </tr>\n",
       "    <tr>\n",
       "      <th>0</th>\n",
       "      <td>Tuned SVM</td>\n",
       "      <td>0.204538</td>\n",
       "      <td>1.0000</td>\n",
       "      <td>0.717949</td>\n",
       "      <td>0.835821</td>\n",
       "    </tr>\n",
       "  </tbody>\n",
       "</table>\n",
       "</div>"
      ],
      "text/plain": [
       "       model  threshold  precision    recall  f1_score\n",
       "0  Tuned GBM   0.001383     0.9375  0.769231  0.845070\n",
       "0  Tuned SVM   0.204538     1.0000  0.717949  0.835821"
      ]
     },
     "execution_count": 293,
     "metadata": {},
     "output_type": "execute_result"
    }
   ],
   "source": [
    "select_model = pd.concat([tuned_metrics_4, tuned_metrics_5])\n",
    "select_model"
   ]
  },
  {
   "cell_type": "markdown",
   "metadata": {},
   "source": [
    "## Next steps\n",
    "We select the SVM model to move forward to the next steps. While the GBM model appear to be the superior one, the time and resources required to tune and train it make it less convenient than the alternative. Moreover, the SVM model offers a great level of performance after this first round of tuning and is very promising.\n",
    "\n",
    "The next steps include:\n",
    "1. Final tuning of the model\n",
    "2. Final validation, testing and performance estimation\n",
    "3. Model deployment "
   ]
  }
 ],
 "metadata": {
  "kernelspec": {
   "display_name": "dev",
   "language": "python",
   "name": "python3"
  },
  "language_info": {
   "codemirror_mode": {
    "name": "ipython",
    "version": 3
   },
   "file_extension": ".py",
   "mimetype": "text/x-python",
   "name": "python",
   "nbconvert_exporter": "python",
   "pygments_lexer": "ipython3",
   "version": "3.10.13"
  }
 },
 "nbformat": 4,
 "nbformat_minor": 2
}
