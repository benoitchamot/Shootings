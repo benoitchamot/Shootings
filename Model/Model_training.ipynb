{
 "cells": [
  {
   "cell_type": "markdown",
   "metadata": {},
   "source": [
    "# Train and Test Classification Model"
   ]
  },
  {
   "cell_type": "code",
   "execution_count": 1,
   "metadata": {},
   "outputs": [],
   "source": [
    "# NOTE: use Pipeline for feature engineering and model deployment"
   ]
  },
  {
   "cell_type": "code",
   "execution_count": 1,
   "metadata": {},
   "outputs": [],
   "source": [
    "# Ignore all warnings\n",
    "from warnings import simplefilter\n",
    "simplefilter(action='ignore')\n",
    "\n",
    "# Import dependencies\n",
    "import numpy as np\n",
    "import pandas as pd\n",
    "from pathlib import Path\n",
    "from sklearn.model_selection import train_test_split\n",
    "from sklearn.preprocessing import StandardScaler\n",
    "from matplotlib import pyplot as plt\n",
    "import seaborn as sns\n",
    "import pickle\n",
    "import imblearn.over_sampling as OS\n",
    "\n",
    "# Import the modules to evaluate the models\n",
    "from sklearn.metrics import confusion_matrix\n",
    "from sklearn.metrics import accuracy_score, precision_score, recall_score, f1_score, classification_report, precision_recall_curve\n",
    "from sklearn.metrics import roc_curve, auc\n",
    "\n",
    "# Import the models from SKLearn (Model 1 through Model 6)\n",
    "from sklearn.linear_model import LogisticRegression\n",
    "from sklearn.svm import SVC\n",
    "from sklearn.tree import DecisionTreeClassifier\n",
    "from sklearn.ensemble import RandomForestClassifier\n",
    "from sklearn.neighbors import KNeighborsClassifier\n",
    "\n",
    "# GridSearch\n",
    "from sklearn.model_selection import RandomizedSearchCV\n",
    "from sklearn.model_selection import GridSearchCV"
   ]
  },
  {
   "cell_type": "code",
   "execution_count": 2,
   "metadata": {},
   "outputs": [],
   "source": [
    "# Local module\n",
    "from ml_classification import model_performance"
   ]
  },
  {
   "cell_type": "markdown",
   "metadata": {},
   "source": [
    "## Functions"
   ]
  },
  {
   "cell_type": "code",
   "execution_count": 3,
   "metadata": {},
   "outputs": [],
   "source": [
    "# REPEATED FROM MODEL PERFORMANCE NOTEBOOK\n",
    "def model_performance_metrics(y_test, y_proba, y_pred, model_name='Unnamed'):\n",
    "    \n",
    "    # Calculate accuraccy, precision, recall and F1-score\n",
    "    accuracy = accuracy_score(y_test, y_pred)*100\n",
    "    precision = precision_score(y_test, y_pred)*100\n",
    "    recall = recall_score(y_test, y_pred)*100\n",
    "    f1 = f1_score(y_test, y_pred)*100\n",
    "\n",
    "    # Get P-R curve parameters (numpy arrays)\n",
    "    p_curve, r_curve, t_curve = precision_recall_curve(y_test, y_proba)\n",
    "    f1_scores = [f1_score(y_test, (y_proba >= t)) for t in t_curve]\n",
    "\n",
    "    # ROC curve and AUC\n",
    "    fpr, tpr, thresholds = roc_curve(y_test, y_proba)\n",
    "    auc_score = auc(fpr, tpr)*100\n",
    "\n",
    "    # ROC curve parameters\n",
    "    roc_param = {\n",
    "        'fpr': fpr,\n",
    "        'tpr': tpr,\n",
    "        'thr': thresholds\n",
    "    }\n",
    "\n",
    "    # Precision-Recall curve parameters\n",
    "    pr_curve = {\n",
    "        'p_curve': p_curve,\n",
    "        'r_curve': r_curve,\n",
    "        't_curve': t_curve,\n",
    "        'f1_curve': f1_scores\n",
    "    }\n",
    "\n",
    "    # Group all metrics\n",
    "    metrics = {\n",
    "        'model': model_name,\n",
    "        'accuracy': accuracy,\n",
    "        'precision': precision,\n",
    "        'recall': recall,\n",
    "        'f1_score': f1,\n",
    "        'auc_score': auc_score\n",
    "    }\n",
    "\n",
    "    return metrics, pr_curve, roc_param\n",
    "\n",
    "def plot_prcurve(pr_curve, model_name='Unnamed'):\n",
    "    p_curve, r_curve, t_curve, f1_scores = pr_curve['p_curve'], pr_curve['r_curve'], pr_curve['t_curve'], pr_curve['f1_curve']\n",
    "\n",
    "    # Plot curve\n",
    "    fig, ax = plt.subplots(figsize=(10,6))\n",
    "\n",
    "    sns.despine()\n",
    "    \n",
    "    ax.plot(t_curve, p_curve[:-1], label = 'Precision', ls='--', c=main_color)\n",
    "    ax.plot(t_curve, r_curve[:-1], label = 'Recall', c=main_color)\n",
    "    ax.plot(t_curve, f1_scores, label='F1 Curve', c=highlight_color)\n",
    "\n",
    "    ax.set_xlabel('Prediction Threshold')\n",
    "    ax.set_ylabel('Scores')\n",
    "    \n",
    "    ax.legend()\n",
    "    \n",
    "    fig.suptitle('Precision-Recall Curve')\n",
    "    ax.set_title(f'Model: {model_name}')\n",
    "\n",
    "    plt.show()"
   ]
  },
  {
   "cell_type": "code",
   "execution_count": 4,
   "metadata": {},
   "outputs": [],
   "source": [
    "def upsample_smote(X_train, y_train, verbose=False):\n",
    "\n",
    "\tn_pos = np.sum(y_train == 1)\n",
    "\tn_neg = np.sum(y_train == 0)\n",
    "\n",
    "\t# Create Nx as many positive samples\n",
    "\tN = 50\n",
    "\tratio = {1: n_pos*N, 0: n_neg}\n",
    "\n",
    "\t# Randomly oversample\n",
    "\tROS = OS.SMOTE(\n",
    "\t\tsampling_strategy = ratio,\n",
    "\t\trandom_state = 42\n",
    "\t)\n",
    "\n",
    "\tX_train_rs, y_train_rs = ROS.fit_resample(X_train, y_train)\n",
    "\n",
    "\tif verbose:\n",
    "\t\tprint(f\"Original Pos Class Count: {np.sum(y_train)}\")\n",
    "\t\tprint(f\"Oversample Pos Class Count: {np.sum(y_train_rs)}\")\n",
    "\n",
    "\treturn X_train_rs, y_train_rs"
   ]
  },
  {
   "cell_type": "markdown",
   "metadata": {},
   "source": [
    "## Load data"
   ]
  },
  {
   "cell_type": "code",
   "execution_count": 5,
   "metadata": {},
   "outputs": [],
   "source": [
    "with open('feat_target.bin','rb') as f:\n",
    "    features_target = pickle.load(f)\n",
    "\n",
    "X = features_target['X']\n",
    "y = features_target['y']"
   ]
  },
  {
   "cell_type": "code",
   "execution_count": 6,
   "metadata": {},
   "outputs": [],
   "source": [
    "X_train, X_test, y_train, y_test = train_test_split(X,y,random_state=1,stratify=y, test_size=0.2)\n",
    "X_train, y_train = upsample_smote(X_train, y_train)"
   ]
  },
  {
   "cell_type": "markdown",
   "metadata": {},
   "source": [
    "## Train and test model"
   ]
  },
  {
   "cell_type": "markdown",
   "metadata": {},
   "source": [
    "### Model 3: SVM"
   ]
  },
  {
   "cell_type": "code",
   "execution_count": 9,
   "metadata": {},
   "outputs": [
    {
     "name": "stdout",
     "output_type": "stream",
     "text": [
      "Fitting 5 folds for each of 6 candidates, totalling 30 fits\n"
     ]
    },
    {
     "data": {
      "text/html": [
       "<div>\n",
       "<style scoped>\n",
       "    .dataframe tbody tr th:only-of-type {\n",
       "        vertical-align: middle;\n",
       "    }\n",
       "\n",
       "    .dataframe tbody tr th {\n",
       "        vertical-align: top;\n",
       "    }\n",
       "\n",
       "    .dataframe thead th {\n",
       "        text-align: right;\n",
       "    }\n",
       "</style>\n",
       "<table border=\"1\" class=\"dataframe\">\n",
       "  <thead>\n",
       "    <tr style=\"text-align: right;\">\n",
       "      <th></th>\n",
       "      <th>model</th>\n",
       "      <th>accuracy</th>\n",
       "      <th>precision</th>\n",
       "      <th>recall</th>\n",
       "      <th>f1_score</th>\n",
       "      <th>auc_score</th>\n",
       "    </tr>\n",
       "  </thead>\n",
       "  <tbody>\n",
       "    <tr>\n",
       "      <th>0</th>\n",
       "      <td>SVM random tuned (precision)</td>\n",
       "      <td>99.264706</td>\n",
       "      <td>100.0</td>\n",
       "      <td>61.538462</td>\n",
       "      <td>76.190476</td>\n",
       "      <td>91.035252</td>\n",
       "    </tr>\n",
       "  </tbody>\n",
       "</table>\n",
       "</div>"
      ],
      "text/plain": [
       "                          model   accuracy  precision     recall   f1_score  \\\n",
       "0  SVM random tuned (precision)  99.264706      100.0  61.538462  76.190476   \n",
       "\n",
       "   auc_score  \n",
       "0  91.035252  "
      ]
     },
     "metadata": {},
     "output_type": "display_data"
    }
   ],
   "source": [
    "model = SVC()\n",
    "\n",
    "params = {\n",
    "    'probability': [True],\n",
    "    'C': [.1, 1], # regularisation\n",
    "    'kernel': ['linear', 'rbf', 'sigmoid'], # 'rbf', 'sigmoid', 'precomputed'],\n",
    "    #'degree': [2, 3, 4],\n",
    "    #'gamma': ['scale', 'auto'],\n",
    "}\n",
    "\n",
    "scoring='precision'\n",
    "\n",
    "grid = RandomizedSearchCV(model, params, scoring=scoring, n_iter=10, verbose=1, n_jobs=-1)\n",
    "\n",
    "# Train models\n",
    "grid.fit(X_train, y_train)\n",
    "\n",
    "# Get best parameters\n",
    "tuned_svc_1 = SVC(**grid.best_params_).fit(X_train, y_train)\n",
    "\n",
    "y_proba = tuned_svc_1.predict_proba(X_test)[:,1]\n",
    "y_pred = tuned_svc_1.predict(X_test)\n",
    "\n",
    "metrics_1, _, __ = model_performance_metrics(y_test, y_proba, y_pred, model_name='SVM random tuned (precision)')\n",
    "display(pd.DataFrame([metrics_1]))"
   ]
  },
  {
   "cell_type": "code",
   "execution_count": 10,
   "metadata": {},
   "outputs": [
    {
     "data": {
      "text/plain": [
       "{'probability': True, 'kernel': 'linear', 'C': 0.1}"
      ]
     },
     "execution_count": 10,
     "metadata": {},
     "output_type": "execute_result"
    }
   ],
   "source": [
    "grid.best_params_"
   ]
  },
  {
   "cell_type": "code",
   "execution_count": 11,
   "metadata": {},
   "outputs": [
    {
     "name": "stdout",
     "output_type": "stream",
     "text": [
      "Fitting 5 folds for each of 60 candidates, totalling 300 fits\n"
     ]
    },
    {
     "data": {
      "text/html": [
       "<div>\n",
       "<style scoped>\n",
       "    .dataframe tbody tr th:only-of-type {\n",
       "        vertical-align: middle;\n",
       "    }\n",
       "\n",
       "    .dataframe tbody tr th {\n",
       "        vertical-align: top;\n",
       "    }\n",
       "\n",
       "    .dataframe thead th {\n",
       "        text-align: right;\n",
       "    }\n",
       "</style>\n",
       "<table border=\"1\" class=\"dataframe\">\n",
       "  <thead>\n",
       "    <tr style=\"text-align: right;\">\n",
       "      <th></th>\n",
       "      <th>model</th>\n",
       "      <th>accuracy</th>\n",
       "      <th>precision</th>\n",
       "      <th>recall</th>\n",
       "      <th>f1_score</th>\n",
       "      <th>auc_score</th>\n",
       "    </tr>\n",
       "  </thead>\n",
       "  <tbody>\n",
       "    <tr>\n",
       "      <th>0</th>\n",
       "      <td>SVM random tuned (precision)</td>\n",
       "      <td>99.264706</td>\n",
       "      <td>100.0</td>\n",
       "      <td>61.538462</td>\n",
       "      <td>76.190476</td>\n",
       "      <td>91.228745</td>\n",
       "    </tr>\n",
       "  </tbody>\n",
       "</table>\n",
       "</div>"
      ],
      "text/plain": [
       "                          model   accuracy  precision     recall   f1_score  \\\n",
       "0  SVM random tuned (precision)  99.264706      100.0  61.538462  76.190476   \n",
       "\n",
       "   auc_score  \n",
       "0  91.228745  "
      ]
     },
     "metadata": {},
     "output_type": "display_data"
    }
   ],
   "source": [
    "model = SVC()\n",
    "\n",
    "params = {\n",
    "    'probability': [True],\n",
    "    'C': np.linspace(.05, .2, 10), # regularisation\n",
    "    'kernel': ['linear', 'rbf', 'sigmoid'],\n",
    "    'gamma': ['scale', 'auto'],\n",
    "}\n",
    "\n",
    "scoring='precision'\n",
    "\n",
    "grid = GridSearchCV(model, params, scoring=scoring, verbose=3, n_jobs=-1)\n",
    "\n",
    "# Train models\n",
    "grid.fit(X_train, y_train)\n",
    "\n",
    "# Get best parameters\n",
    "tuned_svc_1 = SVC(**grid.best_params_).fit(X_train, y_train)\n",
    "\n",
    "y_proba = tuned_svc_1.predict_proba(X_test)[:,1]\n",
    "y_pred = tuned_svc_1.predict(X_test)\n",
    "\n",
    "metrics_1, _, __ = model_performance_metrics(y_test, y_proba, y_pred, model_name='SVM random tuned (precision)')\n",
    "display(pd.DataFrame([metrics_1]))"
   ]
  },
  {
   "cell_type": "code",
   "execution_count": 12,
   "metadata": {},
   "outputs": [
    {
     "name": "stdout",
     "output_type": "stream",
     "text": [
      "Fitting 5 folds for each of 60 candidates, totalling 300 fits\n"
     ]
    },
    {
     "data": {
      "text/html": [
       "<div>\n",
       "<style scoped>\n",
       "    .dataframe tbody tr th:only-of-type {\n",
       "        vertical-align: middle;\n",
       "    }\n",
       "\n",
       "    .dataframe tbody tr th {\n",
       "        vertical-align: top;\n",
       "    }\n",
       "\n",
       "    .dataframe thead th {\n",
       "        text-align: right;\n",
       "    }\n",
       "</style>\n",
       "<table border=\"1\" class=\"dataframe\">\n",
       "  <thead>\n",
       "    <tr style=\"text-align: right;\">\n",
       "      <th></th>\n",
       "      <th>model</th>\n",
       "      <th>accuracy</th>\n",
       "      <th>precision</th>\n",
       "      <th>recall</th>\n",
       "      <th>f1_score</th>\n",
       "      <th>auc_score</th>\n",
       "    </tr>\n",
       "  </thead>\n",
       "  <tbody>\n",
       "    <tr>\n",
       "      <th>0</th>\n",
       "      <td>SVM random tuned (recall)</td>\n",
       "      <td>98.578431</td>\n",
       "      <td>63.157895</td>\n",
       "      <td>61.538462</td>\n",
       "      <td>62.337662</td>\n",
       "      <td>94.415613</td>\n",
       "    </tr>\n",
       "  </tbody>\n",
       "</table>\n",
       "</div>"
      ],
      "text/plain": [
       "                       model   accuracy  precision     recall   f1_score  \\\n",
       "0  SVM random tuned (recall)  98.578431  63.157895  61.538462  62.337662   \n",
       "\n",
       "   auc_score  \n",
       "0  94.415613  "
      ]
     },
     "metadata": {},
     "output_type": "display_data"
    }
   ],
   "source": [
    "model = SVC()\n",
    "\n",
    "params = {\n",
    "    'probability': [True],\n",
    "    'C': np.linspace(.05, .2, 10), # regularisation\n",
    "    'kernel': ['linear', 'rbf', 'sigmoid'],\n",
    "    'gamma': ['scale', 'auto'],\n",
    "}\n",
    "\n",
    "scoring='recall'\n",
    "\n",
    "grid = GridSearchCV(model, params, scoring=scoring, verbose=3, n_jobs=-1)\n",
    "\n",
    "# Train models\n",
    "grid.fit(X_train, y_train)\n",
    "\n",
    "# Get best parameters\n",
    "tuned_svc_2 = SVC(**grid.best_params_).fit(X_train, y_train)\n",
    "\n",
    "y_proba = tuned_svc_2.predict_proba(X_test)[:,1]\n",
    "y_pred = tuned_svc_2.predict(X_test)\n",
    "\n",
    "metrics_2, _, __ = model_performance_metrics(y_test, y_proba, y_pred, model_name='SVM random tuned (recall)')\n",
    "display(pd.DataFrame([metrics_2]))"
   ]
  },
  {
   "cell_type": "code",
   "execution_count": 14,
   "metadata": {},
   "outputs": [
    {
     "data": {
      "text/plain": [
       "{'C': 0.2, 'gamma': 'auto', 'kernel': 'rbf', 'probability': True}"
      ]
     },
     "execution_count": 14,
     "metadata": {},
     "output_type": "execute_result"
    }
   ],
   "source": [
    "grid.best_params_"
   ]
  },
  {
   "cell_type": "code",
   "execution_count": 13,
   "metadata": {},
   "outputs": [
    {
     "data": {
      "text/html": [
       "<div>\n",
       "<style scoped>\n",
       "    .dataframe tbody tr th:only-of-type {\n",
       "        vertical-align: middle;\n",
       "    }\n",
       "\n",
       "    .dataframe tbody tr th {\n",
       "        vertical-align: top;\n",
       "    }\n",
       "\n",
       "    .dataframe thead th {\n",
       "        text-align: right;\n",
       "    }\n",
       "</style>\n",
       "<table border=\"1\" class=\"dataframe\">\n",
       "  <thead>\n",
       "    <tr style=\"text-align: right;\">\n",
       "      <th></th>\n",
       "      <th>model</th>\n",
       "      <th>accuracy</th>\n",
       "      <th>precision</th>\n",
       "      <th>recall</th>\n",
       "      <th>f1_score</th>\n",
       "      <th>auc_score</th>\n",
       "    </tr>\n",
       "  </thead>\n",
       "  <tbody>\n",
       "    <tr>\n",
       "      <th>0</th>\n",
       "      <td>SVM random tuned (precision)</td>\n",
       "      <td>99.264706</td>\n",
       "      <td>100.000000</td>\n",
       "      <td>61.538462</td>\n",
       "      <td>76.190476</td>\n",
       "      <td>91.228745</td>\n",
       "    </tr>\n",
       "    <tr>\n",
       "      <th>1</th>\n",
       "      <td>SVM random tuned (recall)</td>\n",
       "      <td>98.578431</td>\n",
       "      <td>63.157895</td>\n",
       "      <td>61.538462</td>\n",
       "      <td>62.337662</td>\n",
       "      <td>94.415613</td>\n",
       "    </tr>\n",
       "  </tbody>\n",
       "</table>\n",
       "</div>"
      ],
      "text/plain": [
       "                          model   accuracy   precision     recall   f1_score  \\\n",
       "0  SVM random tuned (precision)  99.264706  100.000000  61.538462  76.190476   \n",
       "1     SVM random tuned (recall)  98.578431   63.157895  61.538462  62.337662   \n",
       "\n",
       "   auc_score  \n",
       "0  91.228745  \n",
       "1  94.415613  "
      ]
     },
     "metadata": {},
     "output_type": "display_data"
    }
   ],
   "source": [
    "display(pd.DataFrame([metrics_1, metrics_2]))"
   ]
  },
  {
   "cell_type": "markdown",
   "metadata": {},
   "source": [
    "## Evaluation of final model"
   ]
  },
  {
   "cell_type": "code",
   "execution_count": 18,
   "metadata": {},
   "outputs": [],
   "source": [
    "# Define plot parameters\n",
    "main_color = '#969696'\n",
    "highlight_color = '#04bfb3'\n",
    "default_figsize = (10,6)"
   ]
  },
  {
   "cell_type": "code",
   "execution_count": 19,
   "metadata": {},
   "outputs": [],
   "source": [
    "def plot_prcurve(pr_curve, model_name='Unnamed'):\n",
    "    p_curve, r_curve, t_curve, f1_scores = pr_curve['p_curve'], pr_curve['r_curve'], pr_curve['t_curve'], pr_curve['f1_curve']\n",
    "\n",
    "    # Plot curve\n",
    "    fig, ax = plt.subplots(figsize=(10,6))\n",
    "    \n",
    "    ax.plot(t_curve, p_curve[:-1], label = 'Precision', ls='--', c=main_color)\n",
    "    ax.plot(t_curve, r_curve[:-1], label = 'Recall', c=main_color)\n",
    "    ax.plot(t_curve, f1_scores, label='F1 Curve', c=highlight_color)\n",
    "\n",
    "    ax.set_xlabel('Prediction Threshold')\n",
    "    ax.set_ylabel('Scores')\n",
    "    \n",
    "    ax.legend()\n",
    "    \n",
    "    fig.suptitle('Precision-Recall Curve')\n",
    "    ax.set_title(f'Model: {model_name}')\n",
    "\n",
    "    plt.show()\n",
    "\n",
    "def plot_roc_curve(roc_param, metrics, model_name='Unnamed'):\n",
    "    fpr, tpr, thresholds, auc_score = roc_param['fpr'], roc_param['tpr'], roc_param['thr'], metrics['auc_score']\n",
    "\n",
    "    # Plot the ROC Curve\n",
    "    fig, ax = plt.subplots(figsize=(10,6))\n",
    "    \n",
    "    ax.plot(fpr, tpr, label = f'Model (AUC = {auc_score/100:.2f})', c=highlight_color)\n",
    "    ax.plot([0,1], [0,1], 'k--', label = 'Random Guess (AUC = 0.5)', c=main_color)\n",
    "\n",
    "    # Formatting\n",
    "    ax.set_xlabel('False Postive Rate')\n",
    "    ax.set_ylabel('True Postive Rate')\n",
    "\n",
    "    fig.suptitle('ROC Curve')\n",
    "    ax.set_title(f'Model: {model_name}')\n",
    "    \n",
    "    ax.legend()\n",
    "    plt.show()\n",
    "\n",
    "def show_confusion_matrix(matrix, title, save=False):\n",
    "    fig, ax = plt.subplots()\n",
    "\n",
    "    sns.heatmap(\n",
    "        matrix,\n",
    "        annot=True,\n",
    "        fmt='g',\n",
    "        square=True,\n",
    "        xticklabels=['0', '1'],\n",
    "        yticklabels=['0', '1'],\n",
    "        cmap=sns.color_palette(f\"light:{highlight_color}\", as_cmap=True)\n",
    "    ).set(\n",
    "        xlabel='ACTUAL',\n",
    "        ylabel='PREDICTED',\n",
    "        title=title\n",
    "    )\n",
    "\n",
    "    if save:\n",
    "        plt.savefig(f'{title}.png')\n",
    "    \n",
    "    plt.show()"
   ]
  },
  {
   "cell_type": "code",
   "execution_count": 15,
   "metadata": {},
   "outputs": [],
   "source": [
    "params = {'probability': True, 'kernel': 'linear', 'C': 0.1}"
   ]
  },
  {
   "cell_type": "code",
   "execution_count": 20,
   "metadata": {},
   "outputs": [
    {
     "data": {
      "text/html": [
       "<div>\n",
       "<style scoped>\n",
       "    .dataframe tbody tr th:only-of-type {\n",
       "        vertical-align: middle;\n",
       "    }\n",
       "\n",
       "    .dataframe tbody tr th {\n",
       "        vertical-align: top;\n",
       "    }\n",
       "\n",
       "    .dataframe thead th {\n",
       "        text-align: right;\n",
       "    }\n",
       "</style>\n",
       "<table border=\"1\" class=\"dataframe\">\n",
       "  <thead>\n",
       "    <tr style=\"text-align: right;\">\n",
       "      <th></th>\n",
       "      <th>model</th>\n",
       "      <th>accuracy</th>\n",
       "      <th>precision</th>\n",
       "      <th>recall</th>\n",
       "      <th>f1_score</th>\n",
       "      <th>auc_score</th>\n",
       "    </tr>\n",
       "  </thead>\n",
       "  <tbody>\n",
       "    <tr>\n",
       "      <th>0</th>\n",
       "      <td>SVM random tuned (precision)</td>\n",
       "      <td>99.264706</td>\n",
       "      <td>100.0</td>\n",
       "      <td>61.538462</td>\n",
       "      <td>76.190476</td>\n",
       "      <td>91.035252</td>\n",
       "    </tr>\n",
       "  </tbody>\n",
       "</table>\n",
       "</div>"
      ],
      "text/plain": [
       "                          model   accuracy  precision     recall   f1_score  \\\n",
       "0  SVM random tuned (precision)  99.264706      100.0  61.538462  76.190476   \n",
       "\n",
       "   auc_score  \n",
       "0  91.035252  "
      ]
     },
     "metadata": {},
     "output_type": "display_data"
    }
   ],
   "source": [
    "# Get best parameters\n",
    "tuned_svc_1 = SVC(**params).fit(X_train, y_train)\n",
    "\n",
    "y_proba = tuned_svc_1.predict_proba(X_test)[:,1]\n",
    "y_pred = tuned_svc_1.predict(X_test)\n",
    "\n",
    "metrics_1, pr_curve, roc_param = model_performance_metrics(y_test, y_proba, y_pred, model_name='SVM random tuned (precision)')\n",
    "display(pd.DataFrame([metrics_1]))"
   ]
  },
  {
   "cell_type": "code",
   "execution_count": 21,
   "metadata": {},
   "outputs": [
    {
     "data": {
      "image/png": "[encoded data removed]",
      "text/plain": [
       "<Figure size 640x480 with 2 Axes>"
      ]
     },
     "metadata": {},
     "output_type": "display_data"
    },
    {
     "data": {
      "image/png": "[encoded data removed]",
      "text/plain": [
       "<Figure size 1000x600 with 1 Axes>"
      ]
     },
     "metadata": {},
     "output_type": "display_data"
    },
    {
     "data": {
      "image/png": "[encoded data removed]",
      "text/plain": [
       "<Figure size 1000x600 with 1 Axes>"
      ]
     },
     "metadata": {},
     "output_type": "display_data"
    }
   ],
   "source": [
    "# Compute and display confusion matrix\n",
    "model_4_cm = confusion_matrix(y_test, y_pred)\n",
    "show_confusion_matrix(model_4_cm, f'{tuned_svc_1} - Confusion Matrix')\n",
    "\n",
    "# Plot Precision-Recall Curve\n",
    "plot_prcurve(pr_curve, 'SVM random tuned (precision)')\n",
    "\n",
    "# ROC Curve\n",
    "plot_roc_curve(roc_param, metrics_1, 'SVM random tuned (precision)')"
   ]
  },
  {
   "cell_type": "code",
   "execution_count": 22,
   "metadata": {},
   "outputs": [
    {
     "data": {
      "text/html": [
       "<div>\n",
       "<style scoped>\n",
       "    .dataframe tbody tr th:only-of-type {\n",
       "        vertical-align: middle;\n",
       "    }\n",
       "\n",
       "    .dataframe tbody tr th {\n",
       "        vertical-align: top;\n",
       "    }\n",
       "\n",
       "    .dataframe thead th {\n",
       "        text-align: right;\n",
       "    }\n",
       "</style>\n",
       "<table border=\"1\" class=\"dataframe\">\n",
       "  <thead>\n",
       "    <tr style=\"text-align: right;\">\n",
       "      <th></th>\n",
       "      <th>model</th>\n",
       "      <th>threshold</th>\n",
       "      <th>precision</th>\n",
       "      <th>recall</th>\n",
       "      <th>f1_score</th>\n",
       "    </tr>\n",
       "  </thead>\n",
       "  <tbody>\n",
       "    <tr>\n",
       "      <th>0</th>\n",
       "      <td>SVM random tuned (precision)</td>\n",
       "      <td>0.195584</td>\n",
       "      <td>1.0</td>\n",
       "      <td>0.717949</td>\n",
       "      <td>0.835821</td>\n",
       "    </tr>\n",
       "  </tbody>\n",
       "</table>\n",
       "</div>"
      ],
      "text/plain": [
       "                          model  threshold  precision    recall  f1_score\n",
       "0  SVM random tuned (precision)   0.195584        1.0  0.717949  0.835821"
      ]
     },
     "execution_count": 22,
     "metadata": {},
     "output_type": "execute_result"
    }
   ],
   "source": [
    "# Index where F1 curve is maximised in Model 5 (SVM)\n",
    "f1_max_5 = pr_curve['f1_curve'].index(max(pr_curve['f1_curve']))\n",
    "\n",
    "tuned_metrics_5 = pd.DataFrame([{\n",
    "    'model': metrics_1['model'],\n",
    "    'threshold': pr_curve['t_curve'][f1_max_5],\n",
    "    'precision': pr_curve['p_curve'][f1_max_5],\n",
    "    'recall': pr_curve['r_curve'][f1_max_5],\n",
    "    'f1_score': pr_curve['f1_curve'][f1_max_5]\n",
    "}])\n",
    "\n",
    "tuned_metrics_5"
   ]
  },
  {
   "cell_type": "code",
   "execution_count": 24,
   "metadata": {},
   "outputs": [
    {
     "data": {
      "text/plain": [
       "0.19558396433013217"
      ]
     },
     "execution_count": 24,
     "metadata": {},
     "output_type": "execute_result"
    }
   ],
   "source": [
    "opt_threshold = pr_curve['t_curve'][f1_max_5]\n",
    "opt_threshold"
   ]
  },
  {
   "cell_type": "code",
   "execution_count": 31,
   "metadata": {},
   "outputs": [
    {
     "data": {
      "text/plain": [
       "array([0, 0, 0, ..., 0, 0, 0])"
      ]
     },
     "execution_count": 31,
     "metadata": {},
     "output_type": "execute_result"
    }
   ],
   "source": [
    "y_pred_th = (y_proba > opt_threshold)*1\n",
    "y_pred_th"
   ]
  },
  {
   "cell_type": "code",
   "execution_count": 32,
   "metadata": {},
   "outputs": [
    {
     "data": {
      "image/png": "[encoded data removed]",
      "text/plain": [
       "<Figure size 640x480 with 2 Axes>"
      ]
     },
     "metadata": {},
     "output_type": "display_data"
    }
   ],
   "source": [
    "# Compute and display confusion matrix\n",
    "model_cm = confusion_matrix(y_test, y_pred_th)\n",
    "show_confusion_matrix(model_cm, f'{tuned_svc_1} - Confusion Matrix')"
   ]
  },
  {
   "cell_type": "markdown",
   "metadata": {},
   "source": [
    "## Pickle model and scaler\n",
    "While other models provide better performance, they do not directly provide probability estimates. Since this is important to give finer information to the user, Model 2 (Logistics Regression with scaling) is kept instead."
   ]
  },
  {
   "cell_type": "code",
   "execution_count": 43,
   "metadata": {},
   "outputs": [],
   "source": [
    "# Save best model\n",
    "with open('../Server/blackbox.model','wb') as f:\n",
    "    pickle.dump(model_2,f)\n",
    "\n",
    "# Save scaling\n",
    "with open('../Server/blackbox.scaler','wb') as f:\n",
    "    pickle.dump(X_scaler,f)"
   ]
  }
 ],
 "metadata": {
  "kernelspec": {
   "display_name": "dev",
   "language": "python",
   "name": "python3"
  },
  "language_info": {
   "codemirror_mode": {
    "name": "ipython",
    "version": 3
   },
   "file_extension": ".py",
   "mimetype": "text/x-python",
   "name": "python",
   "nbconvert_exporter": "python",
   "pygments_lexer": "ipython3",
   "version": "3.10.13"
  }
 },
 "nbformat": 4,
 "nbformat_minor": 2
}
