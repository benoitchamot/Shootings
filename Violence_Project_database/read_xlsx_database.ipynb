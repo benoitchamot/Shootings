{
 "cells": [
  {
   "cell_type": "markdown",
   "metadata": {},
   "source": [
    "# Read Violence Project Database\n",
    "## Context\n",
    "A previous version of this project assumed that the user would open the database in Excel first to extract selected data to a separate CSV file that can be used from a notebook. In this version, we improve the import process by working directly with the XLSX file provided by the Violence Project. This code is compatible with the database version 8 (updated in January 2024.)\n",
    "\n",
    "## Data Source\n",
    "Peterson, J., & Densley, J. (2023). *The Violence Project database of mass shootings in the United States (Version 8)*. https://www.theviolenceproject.org\n",
    "\n",
    "The database is provided under license by The Violence Project and is therefore not made available here.\n",
    "\n",
    "## Tasks performed\n",
    "In this notebook, the following steps are taken as part of data extraction and preliminary analysis:\n",
    "1. The full database is extracted from the Violence Project Excel sheet\n",
    "2. Some data cleaning low-hanging fruits are handled: deletion of hidden characters and simple data type fixes\n",
    "3. The information related to the shooters only is extracted from the full database\n",
    "4. The encoded data are replaced by explicit values\n",
    "5. Missing values in the shooters data are handled\n",
    "6. Preliminary conclusions are drawn from the data"
   ]
  },
  {
   "cell_type": "markdown",
   "metadata": {},
   "source": [
    "## Import and function definitions"
   ]
  },
  {
   "cell_type": "markdown",
   "metadata": {},
   "source": [
    "### Import dependencies"
   ]
  },
  {
   "cell_type": "code",
   "execution_count": 1,
   "metadata": {},
   "outputs": [],
   "source": [
    "import pandas as pd\n",
    "from matplotlib import pyplot as plt\n",
    "from datetime import datetime as dt"
   ]
  },
  {
   "cell_type": "code",
   "execution_count": 2,
   "metadata": {},
   "outputs": [],
   "source": [
    "# Local modules\n",
    "import codebook\n",
    "from codebook import replace_code_by_value"
   ]
  },
  {
   "cell_type": "code",
   "execution_count": 3,
   "metadata": {},
   "outputs": [],
   "source": [
    "# Ignore all warnings\n",
    "from warnings import simplefilter\n",
    "simplefilter(action='ignore')"
   ]
  },
  {
   "cell_type": "markdown",
   "metadata": {},
   "source": [
    "### Functions for data cleaning"
   ]
  },
  {
   "cell_type": "code",
   "execution_count": 4,
   "metadata": {},
   "outputs": [],
   "source": [
    "def clean_column_names(df, verbose=False):\n",
    "    # Find column names with non-conventional characters\n",
    "    item = '\\xa0'\n",
    "\n",
    "    problems = []\n",
    "\n",
    "    for c in df.columns:\n",
    "        if item in c:\n",
    "            problems.append(c)\n",
    "\n",
    "    # Remove problematic characters from column names\n",
    "    problems_fixed = [p.replace('\\xa0','') for p in problems]\n",
    "    \n",
    "    if verbose:\n",
    "        # Print problematic and fixed columns\n",
    "        print(f\"Columns: {problems}\")\n",
    "        print(f\"Replaced by: {problems_fixed}\")\n",
    "\n",
    "    # Rename problematic columns\n",
    "    for i in range(len(problems)):\n",
    "        df = df.rename(columns={problems[i]: problems_fixed[i]})\n",
    "\n",
    "    return df"
   ]
  },
  {
   "cell_type": "code",
   "execution_count": 5,
   "metadata": {},
   "outputs": [],
   "source": [
    "def fix_incorrect_strings(df, col):\n",
    "\n",
    "    for i in range(len(df[col])):\n",
    "        try: \n",
    "            datetime_obj = dt.strptime(df[col][i], '%Y-%m-%d %H:%M:%S')\n",
    "            df[col][i] = (str(datetime_obj.month) + ', ' + str(datetime_obj.day))\n",
    "        except:\n",
    "            pass\n",
    "\n",
    "    return df"
   ]
  },
  {
   "cell_type": "markdown",
   "metadata": {},
   "source": [
    "### Functions for data transformation"
   ]
  },
  {
   "cell_type": "code",
   "execution_count": 6,
   "metadata": {},
   "outputs": [],
   "source": [
    "def apply_codebook_values(df):\n",
    "    replace_code_by_value(df, 'Gender', codebook.codes_shooter_background_gender)\n",
    "    replace_code_by_value(df, 'Race', codebook.codes_shooter_background_race)\n",
    "    replace_code_by_value(df, 'Immigrant', codebook.codes_shooter_background_immigrant)\n",
    "    replace_code_by_value(df, 'Education', codebook.codes_shooter_background_education)\n",
    "    replace_code_by_value(df, 'Relationship Status', codebook.codes_shooter_background_relationship)\n",
    "    replace_code_by_value(df, 'Employment Status', codebook.codes_shooter_background_employstatus)\n",
    "    replace_code_by_value(df, 'Employment Type', codebook.codes_shooter_background_employtype)\n",
    "    replace_code_by_value(df, 'Military Service', codebook.codes_shooter_background_milservice)\n",
    "    replace_code_by_value(df, 'Highest Level of Justice System Involvement', codebook.codes_shooter_crime_justice)\n",
    "    replace_code_by_value(df, 'Parental Divorce / Separation', codebook.codes_shooter_trauma_divorce)\n",
    "    replace_code_by_value(df, 'Childhood SES', codebook.codes_shooter_trauma_ses)\n",
    "    replace_code_by_value(df, 'Mental Illness', codebook.codes_shooter_health_illness)\n",
    "    replace_code_by_value(df, 'Known Family Mental Health History', codebook.codes_shooter_health_family)\n",
    "    replace_code_by_value(df, 'Autism Spectrum', codebook.codes_shooter_health_autism)\n",
    "    replace_code_by_value(df, 'Health Issues', codebook.codes_shooter_health_issues)\n",
    "\n",
    "    return df"
   ]
  },
  {
   "cell_type": "code",
   "execution_count": 7,
   "metadata": {},
   "outputs": [],
   "source": [
    "def simplify_fields(df):\n",
    "\n",
    "    # Gender: replace non-male and non-female genders by 'Other\n",
    "    df.loc[(df['Gender'] != 'Male') & (df['Gender'] != 'Female'),'Gender'] = 'Other'\n",
    "\n",
    "    # Race, replace less common races\n",
    "    specific_races = ['White', 'Black', 'Latinx']\n",
    "    mask = ~(df['Race'].isna()) & (~df['Race'].isin(specific_races))\n",
    "    df.loc[mask, 'Race'] = 'Other'\n",
    "\n",
    "    # Employment status, replace empty field by 'Unknown'\n",
    "    df.loc[df['Employment Status'] == ' ', 'Employment Status'] = 'Unknown'\n",
    "\n",
    "    # Military service: if training not completed -> No\n",
    "    df.loc[df['Military Service'] == 'Joined but did not make it through training', 'Military Service'] = 'No'\n",
    "\n",
    "    # Change Highest Level of Justice System Involvement to Arrested or Not Arrested\n",
    "    df = df.rename(columns={'Highest Level of Justice System Involvement': 'Arrested'})\n",
    "    df.loc[df['Arrested'] == 'Arrested', 'Arrested'] = 'Yes'\n",
    "    df.loc[df['Arrested'] == 'Charged', 'Arrested'] = 'Yes'\n",
    "    df.loc[df['Arrested'] == 'Convicted', 'Arrested'] = 'Yes'\n",
    "    df.loc[df['Arrested'] == 'NA', 'Arrested'] = 'No'\n",
    "    df.loc[df['Arrested'] == 'Suspected', 'Arrested'] = 'No'\n",
    "\n",
    "    # Mental illness\n",
    "    df.loc[df['Mental Illness'] == 'Indication of psychiatric disorder but no diagnosis', 'Mental Illness'] = 'No evidence'\n",
    "    df.loc[df['Mental Illness'] != 'No evidence', 'Mental Illness'] = 'Yes'\n",
    "\n",
    "    # Parent mental illness\n",
    "    df.loc[df['Known Family Mental Health History'] != 'No evidence', 'Known Family Mental Health History'] = 'Yes'\n",
    "\n",
    "    # Autism\n",
    "    df.loc[df['Autism Spectrum'] == 'Diagnosed or extremely likely', 'Autism Spectrum'] = 'Yes'\n",
    "\n",
    "    return df"
   ]
  },
  {
   "cell_type": "markdown",
   "metadata": {},
   "source": [
    "### Functions for data exploration"
   ]
  },
  {
   "cell_type": "code",
   "execution_count": 8,
   "metadata": {},
   "outputs": [],
   "source": [
    "def database_info(df):\n",
    "    print(f\"Number of rows: {len(df)}\")\n",
    "    print(f\"Number of columns: {len(df.columns)}\")\n",
    "\n",
    "    null_values = (df.isna()*1).sum().sum()\n",
    "    non_null_values = (~df.isna()*1).sum().sum()\n",
    "    total_values = null_values+non_null_values\n",
    "\n",
    "    print(f\"Number of values: {total_values}\")\n",
    "    print(f\"Number of missing values: {null_values}\")\n",
    "    print(f\"Missing values ratio: {100*null_values/total_values:.1f}%\")"
   ]
  },
  {
   "cell_type": "code",
   "execution_count": 9,
   "metadata": {},
   "outputs": [],
   "source": [
    "def summary_stats(series):\n",
    "    summary_df = (pd.DataFrame(series.value_counts(dropna=False).sort_index())\n",
    "                .reset_index()\n",
    "                .rename(columns={'index': series.name, series.name: 'Count'})\n",
    "                ).sort_values('Count', ascending=False)\n",
    "\n",
    "    missing_tag = '**Missing'\n",
    "\n",
    "    summary_df.loc[summary_df[series.name].isna(), series.name] = missing_tag\n",
    "\n",
    "    summary_df['Percent'] = round(100*summary_df['Count'] / summary_df['Count'].sum(), 2)\n",
    "\n",
    "    return summary_df"
   ]
  },
  {
   "cell_type": "markdown",
   "metadata": {},
   "source": [
    "### Functions for data visualisation"
   ]
  },
  {
   "cell_type": "code",
   "execution_count": 10,
   "metadata": {},
   "outputs": [],
   "source": [
    "def display_feature_hist(summary_df):\n",
    "\n",
    "    series_name = summary_df.iloc[:,0].name\n",
    "\n",
    "    col_2 = '#787878'\n",
    "    col_1 = '#aa1212'\n",
    "\n",
    "    colors = [col_1 if c != '**Missing' else col_2 for c in summary_df[series_name].astype('str')]\n",
    "\n",
    "    fix, ax = plt.subplots(figsize=(10,4))\n",
    "\n",
    "    ax.bar(x=summary_df[series_name].astype('str'), height=summary_df['Count'], color=colors)\n",
    "    ax.set_title(series_name)\n",
    "\n",
    "    ax.set_xticklabels(summary_df[series_name].astype('str'), rotation=-45, ha='left')\n",
    "\n",
    "    plt.show()"
   ]
  },
  {
   "cell_type": "markdown",
   "metadata": {},
   "source": [
    "## Import data"
   ]
  },
  {
   "cell_type": "markdown",
   "metadata": {},
   "source": [
    "### Read from XLSX file"
   ]
  },
  {
   "cell_type": "code",
   "execution_count": 11,
   "metadata": {},
   "outputs": [],
   "source": [
    "database = pd.read_excel(\"The Violence Project Mass Shooter Database - Version 8 (January 2024) .xlsx\", sheet_name='Full Database', dtype={'Mental Illness': str}, parse_dates=False)"
   ]
  },
  {
   "cell_type": "markdown",
   "metadata": {},
   "source": [
    "### Preliminary cleaning"
   ]
  },
  {
   "cell_type": "code",
   "execution_count": 12,
   "metadata": {},
   "outputs": [],
   "source": [
    "# Drop first row (does not contain data) and reset index\n",
    "database = database.drop(0, axis=0).reset_index()\n",
    "\n",
    "# Remove non-conventional characters and trailing spaces from column names\n",
    "database = clean_column_names(database)\n",
    "\n",
    "# Fix strings that are classified as dates by Excel\n",
    "database = fix_incorrect_strings(database, 'Mental Illness')"
   ]
  },
  {
   "cell_type": "markdown",
   "metadata": {},
   "source": [
    "### Display DataFrame information"
   ]
  },
  {
   "cell_type": "code",
   "execution_count": 13,
   "metadata": {},
   "outputs": [
    {
     "name": "stdout",
     "output_type": "stream",
     "text": [
      "Number of rows: 197\n",
      "Number of columns: 158\n",
      "Number of values: 31126\n",
      "Number of missing values: 3072\n",
      "Missing values ratio: 9.9%\n"
     ]
    }
   ],
   "source": [
    "database_info(database)"
   ]
  },
  {
   "cell_type": "markdown",
   "metadata": {},
   "source": [
    "## Extract shooter information"
   ]
  },
  {
   "cell_type": "markdown",
   "metadata": {},
   "source": [
    "### Isolate features important for project"
   ]
  },
  {
   "cell_type": "code",
   "execution_count": 14,
   "metadata": {},
   "outputs": [],
   "source": [
    "shooter_columns = [\n",
    "        'Age',\n",
    "        'Gender',\n",
    "        'Race',\n",
    "        'Immigrant',\n",
    "        'Education',\n",
    "        'Relationship Status',\n",
    "        'Employment Status',\n",
    "        'Employment Type',\n",
    "        'Military Service',\n",
    "        'Highest Level of Justice System Involvement',\n",
    "        'Parental Divorce / Separation',\n",
    "        'Childhood SES',\n",
    "        'Mental Illness',\n",
    "        'Known Family Mental Health History',\n",
    "        'Autism Spectrum',\n",
    "        'Health Issues'\n",
    "        ]"
   ]
  },
  {
   "cell_type": "code",
   "execution_count": 15,
   "metadata": {},
   "outputs": [
    {
     "name": "stdout",
     "output_type": "stream",
     "text": [
      "Number of rows: 197\n",
      "Number of columns: 16\n",
      "Number of values: 3152\n",
      "Number of missing values: 177\n",
      "Missing values ratio: 5.6%\n"
     ]
    }
   ],
   "source": [
    "# Extract the shooter information from the complete database\n",
    "shooters_df = database[shooter_columns]\n",
    "\n",
    "# Convert Age column to numeric\n",
    "shooters_df['Age'] = shooters_df['Age'].astype('int8')\n",
    "\n",
    "# Replace the numeric codes by explicit values\n",
    "shooters_df = apply_codebook_values(shooters_df)\n",
    "\n",
    "# Simplify values in fields\n",
    "shooters_df = simplify_fields(shooters_df)\n",
    "\n",
    "# Display information\n",
    "database_info(shooters_df)"
   ]
  },
  {
   "cell_type": "markdown",
   "metadata": {},
   "source": [
    "## Shooter Data Exploration"
   ]
  },
  {
   "cell_type": "markdown",
   "metadata": {},
   "source": [
    "### Age\n",
    "The age distribution is shown below. There are no missing data in the dataset."
   ]
  },
  {
   "cell_type": "code",
   "execution_count": 16,
   "metadata": {},
   "outputs": [
    {
     "data": {
      "image/png": "[encoded data removed]",
      "text/plain": [
       "<Figure size 1000x600 with 1 Axes>"
      ]
     },
     "metadata": {},
     "output_type": "display_data"
    }
   ],
   "source": [
    "fig, ax = plt.subplots(figsize=(10,6))\n",
    "shooters_df['Age'].plot.hist(bins=20)\n",
    "plt.show()"
   ]
  },
  {
   "cell_type": "markdown",
   "metadata": {},
   "source": [
    "### Gender\n",
    "The vast majority of shooters are male."
   ]
  },
  {
   "cell_type": "code",
   "execution_count": 17,
   "metadata": {},
   "outputs": [
    {
     "data": {
      "text/html": [
       "<div>\n",
       "<style scoped>\n",
       "    .dataframe tbody tr th:only-of-type {\n",
       "        vertical-align: middle;\n",
       "    }\n",
       "\n",
       "    .dataframe tbody tr th {\n",
       "        vertical-align: top;\n",
       "    }\n",
       "\n",
       "    .dataframe thead th {\n",
       "        text-align: right;\n",
       "    }\n",
       "</style>\n",
       "<table border=\"1\" class=\"dataframe\">\n",
       "  <thead>\n",
       "    <tr style=\"text-align: right;\">\n",
       "      <th></th>\n",
       "      <th>Gender</th>\n",
       "      <th>Count</th>\n",
       "      <th>Percent</th>\n",
       "    </tr>\n",
       "  </thead>\n",
       "  <tbody>\n",
       "    <tr>\n",
       "      <th>1</th>\n",
       "      <td>Male</td>\n",
       "      <td>192</td>\n",
       "      <td>97.46</td>\n",
       "    </tr>\n",
       "    <tr>\n",
       "      <th>0</th>\n",
       "      <td>Female</td>\n",
       "      <td>4</td>\n",
       "      <td>2.03</td>\n",
       "    </tr>\n",
       "    <tr>\n",
       "      <th>2</th>\n",
       "      <td>Other</td>\n",
       "      <td>1</td>\n",
       "      <td>0.51</td>\n",
       "    </tr>\n",
       "  </tbody>\n",
       "</table>\n",
       "</div>"
      ],
      "text/plain": [
       "   Gender  Count  Percent\n",
       "1    Male    192    97.46\n",
       "0  Female      4     2.03\n",
       "2   Other      1     0.51"
      ]
     },
     "execution_count": 17,
     "metadata": {},
     "output_type": "execute_result"
    }
   ],
   "source": [
    "series = shooters_df['Gender']\n",
    "summary_df = summary_stats(series)\n",
    "summary_df"
   ]
  },
  {
   "cell_type": "code",
   "execution_count": 18,
   "metadata": {},
   "outputs": [
    {
     "data": {
      "image/png": "[encoded data removed]",
      "text/plain": [
       "<Figure size 1000x400 with 1 Axes>"
      ]
     },
     "metadata": {},
     "output_type": "display_data"
    }
   ],
   "source": [
    "display_feature_hist(summary_df)"
   ]
  },
  {
   "cell_type": "markdown",
   "metadata": {},
   "source": [
    "### Race\n",
    "More than half of the shooters in the database are white, with black being the next most represented ethnicity. Several minorities with only a few individuals are grouped under 'Other'.\n",
    "\n",
    "There are 8 missing values in the dataset. Given the small proportions of them, they are replaced by the mode ('White')."
   ]
  },
  {
   "cell_type": "code",
   "execution_count": 19,
   "metadata": {},
   "outputs": [
    {
     "data": {
      "text/html": [
       "<div>\n",
       "<style scoped>\n",
       "    .dataframe tbody tr th:only-of-type {\n",
       "        vertical-align: middle;\n",
       "    }\n",
       "\n",
       "    .dataframe tbody tr th {\n",
       "        vertical-align: top;\n",
       "    }\n",
       "\n",
       "    .dataframe thead th {\n",
       "        text-align: right;\n",
       "    }\n",
       "</style>\n",
       "<table border=\"1\" class=\"dataframe\">\n",
       "  <thead>\n",
       "    <tr style=\"text-align: right;\">\n",
       "      <th></th>\n",
       "      <th>Race</th>\n",
       "      <th>Count</th>\n",
       "      <th>Percent</th>\n",
       "    </tr>\n",
       "  </thead>\n",
       "  <tbody>\n",
       "    <tr>\n",
       "      <th>3</th>\n",
       "      <td>White</td>\n",
       "      <td>104</td>\n",
       "      <td>52.79</td>\n",
       "    </tr>\n",
       "    <tr>\n",
       "      <th>0</th>\n",
       "      <td>Black</td>\n",
       "      <td>41</td>\n",
       "      <td>20.81</td>\n",
       "    </tr>\n",
       "    <tr>\n",
       "      <th>2</th>\n",
       "      <td>Other</td>\n",
       "      <td>25</td>\n",
       "      <td>12.69</td>\n",
       "    </tr>\n",
       "    <tr>\n",
       "      <th>1</th>\n",
       "      <td>Latinx</td>\n",
       "      <td>19</td>\n",
       "      <td>9.64</td>\n",
       "    </tr>\n",
       "    <tr>\n",
       "      <th>4</th>\n",
       "      <td>**Missing</td>\n",
       "      <td>8</td>\n",
       "      <td>4.06</td>\n",
       "    </tr>\n",
       "  </tbody>\n",
       "</table>\n",
       "</div>"
      ],
      "text/plain": [
       "        Race  Count  Percent\n",
       "3      White    104    52.79\n",
       "0      Black     41    20.81\n",
       "2      Other     25    12.69\n",
       "1     Latinx     19     9.64\n",
       "4  **Missing      8     4.06"
      ]
     },
     "execution_count": 19,
     "metadata": {},
     "output_type": "execute_result"
    }
   ],
   "source": [
    "series = shooters_df['Race']\n",
    "summary_df = summary_stats(series)\n",
    "summary_df"
   ]
  },
  {
   "cell_type": "code",
   "execution_count": 20,
   "metadata": {},
   "outputs": [
    {
     "data": {
      "text/html": [
       "<div>\n",
       "<style scoped>\n",
       "    .dataframe tbody tr th:only-of-type {\n",
       "        vertical-align: middle;\n",
       "    }\n",
       "\n",
       "    .dataframe tbody tr th {\n",
       "        vertical-align: top;\n",
       "    }\n",
       "\n",
       "    .dataframe thead th {\n",
       "        text-align: right;\n",
       "    }\n",
       "</style>\n",
       "<table border=\"1\" class=\"dataframe\">\n",
       "  <thead>\n",
       "    <tr style=\"text-align: right;\">\n",
       "      <th></th>\n",
       "      <th>Race</th>\n",
       "      <th>Count</th>\n",
       "      <th>Percent</th>\n",
       "    </tr>\n",
       "  </thead>\n",
       "  <tbody>\n",
       "    <tr>\n",
       "      <th>3</th>\n",
       "      <td>White</td>\n",
       "      <td>112</td>\n",
       "      <td>56.85</td>\n",
       "    </tr>\n",
       "    <tr>\n",
       "      <th>0</th>\n",
       "      <td>Black</td>\n",
       "      <td>41</td>\n",
       "      <td>20.81</td>\n",
       "    </tr>\n",
       "    <tr>\n",
       "      <th>2</th>\n",
       "      <td>Other</td>\n",
       "      <td>25</td>\n",
       "      <td>12.69</td>\n",
       "    </tr>\n",
       "    <tr>\n",
       "      <th>1</th>\n",
       "      <td>Latinx</td>\n",
       "      <td>19</td>\n",
       "      <td>9.64</td>\n",
       "    </tr>\n",
       "  </tbody>\n",
       "</table>\n",
       "</div>"
      ],
      "text/plain": [
       "     Race  Count  Percent\n",
       "3   White    112    56.85\n",
       "0   Black     41    20.81\n",
       "2   Other     25    12.69\n",
       "1  Latinx     19     9.64"
      ]
     },
     "execution_count": 20,
     "metadata": {},
     "output_type": "execute_result"
    }
   ],
   "source": [
    "# Replace missing values by mode\n",
    "series = shooters_df['Race']\n",
    "shooters_df.loc[shooters_df['Race'].isna(), 'Race'] = series.mode().values[0]\n",
    "summary_df = summary_stats(series)\n",
    "summary_df"
   ]
  },
  {
   "cell_type": "code",
   "execution_count": 21,
   "metadata": {},
   "outputs": [
    {
     "data": {
      "image/png": "[encoded data removed]",
      "text/plain": [
       "<Figure size 1000x400 with 1 Axes>"
      ]
     },
     "metadata": {},
     "output_type": "display_data"
    }
   ],
   "source": [
    "display_feature_hist(summary_df)"
   ]
  },
  {
   "cell_type": "markdown",
   "metadata": {},
   "source": [
    "### Immigration status\n",
    "There are only two status in the database: No (the individual was not an immigrant) or Yes No (the individual was an immigrant)\n",
    "\n",
    "There are 2 missing values in the dataset. Given the small proportions of them, they are replaced by the mode ('No')."
   ]
  },
  {
   "cell_type": "code",
   "execution_count": 22,
   "metadata": {},
   "outputs": [
    {
     "data": {
      "text/html": [
       "<div>\n",
       "<style scoped>\n",
       "    .dataframe tbody tr th:only-of-type {\n",
       "        vertical-align: middle;\n",
       "    }\n",
       "\n",
       "    .dataframe tbody tr th {\n",
       "        vertical-align: top;\n",
       "    }\n",
       "\n",
       "    .dataframe thead th {\n",
       "        text-align: right;\n",
       "    }\n",
       "</style>\n",
       "<table border=\"1\" class=\"dataframe\">\n",
       "  <thead>\n",
       "    <tr style=\"text-align: right;\">\n",
       "      <th></th>\n",
       "      <th>Immigrant</th>\n",
       "      <th>Count</th>\n",
       "      <th>Percent</th>\n",
       "    </tr>\n",
       "  </thead>\n",
       "  <tbody>\n",
       "    <tr>\n",
       "      <th>0</th>\n",
       "      <td>No</td>\n",
       "      <td>164</td>\n",
       "      <td>83.25</td>\n",
       "    </tr>\n",
       "    <tr>\n",
       "      <th>1</th>\n",
       "      <td>Yes</td>\n",
       "      <td>31</td>\n",
       "      <td>15.74</td>\n",
       "    </tr>\n",
       "    <tr>\n",
       "      <th>2</th>\n",
       "      <td>**Missing</td>\n",
       "      <td>2</td>\n",
       "      <td>1.02</td>\n",
       "    </tr>\n",
       "  </tbody>\n",
       "</table>\n",
       "</div>"
      ],
      "text/plain": [
       "   Immigrant  Count  Percent\n",
       "0         No    164    83.25\n",
       "1        Yes     31    15.74\n",
       "2  **Missing      2     1.02"
      ]
     },
     "execution_count": 22,
     "metadata": {},
     "output_type": "execute_result"
    }
   ],
   "source": [
    "series = shooters_df['Immigrant']\n",
    "summary_df = summary_stats(series)\n",
    "summary_df"
   ]
  },
  {
   "cell_type": "code",
   "execution_count": 23,
   "metadata": {},
   "outputs": [
    {
     "data": {
      "text/html": [
       "<div>\n",
       "<style scoped>\n",
       "    .dataframe tbody tr th:only-of-type {\n",
       "        vertical-align: middle;\n",
       "    }\n",
       "\n",
       "    .dataframe tbody tr th {\n",
       "        vertical-align: top;\n",
       "    }\n",
       "\n",
       "    .dataframe thead th {\n",
       "        text-align: right;\n",
       "    }\n",
       "</style>\n",
       "<table border=\"1\" class=\"dataframe\">\n",
       "  <thead>\n",
       "    <tr style=\"text-align: right;\">\n",
       "      <th></th>\n",
       "      <th>Immigrant</th>\n",
       "      <th>Count</th>\n",
       "      <th>Percent</th>\n",
       "    </tr>\n",
       "  </thead>\n",
       "  <tbody>\n",
       "    <tr>\n",
       "      <th>0</th>\n",
       "      <td>No</td>\n",
       "      <td>166</td>\n",
       "      <td>84.26</td>\n",
       "    </tr>\n",
       "    <tr>\n",
       "      <th>1</th>\n",
       "      <td>Yes</td>\n",
       "      <td>31</td>\n",
       "      <td>15.74</td>\n",
       "    </tr>\n",
       "  </tbody>\n",
       "</table>\n",
       "</div>"
      ],
      "text/plain": [
       "  Immigrant  Count  Percent\n",
       "0        No    166    84.26\n",
       "1       Yes     31    15.74"
      ]
     },
     "execution_count": 23,
     "metadata": {},
     "output_type": "execute_result"
    }
   ],
   "source": [
    "# Replace missing values by mode\n",
    "series = shooters_df['Immigrant']\n",
    "shooters_df.loc[shooters_df['Immigrant'].isna(), 'Immigrant'] = series.mode().values[0]\n",
    "summary_df = summary_stats(series)\n",
    "summary_df"
   ]
  },
  {
   "cell_type": "code",
   "execution_count": 24,
   "metadata": {},
   "outputs": [
    {
     "data": {
      "image/png": "[encoded data removed]",
      "text/plain": [
       "<Figure size 1000x400 with 1 Axes>"
      ]
     },
     "metadata": {},
     "output_type": "display_data"
    }
   ],
   "source": [
    "display_feature_hist(summary_df)"
   ]
  },
  {
   "cell_type": "markdown",
   "metadata": {},
   "source": [
    "### Education\n",
    "There are a large number of missing values for the maximum education level in the database. In order not to skew the data, a new category 'Unknown' is added to the variable."
   ]
  },
  {
   "cell_type": "code",
   "execution_count": 25,
   "metadata": {},
   "outputs": [
    {
     "data": {
      "text/html": [
       "<div>\n",
       "<style scoped>\n",
       "    .dataframe tbody tr th:only-of-type {\n",
       "        vertical-align: middle;\n",
       "    }\n",
       "\n",
       "    .dataframe tbody tr th {\n",
       "        vertical-align: top;\n",
       "    }\n",
       "\n",
       "    .dataframe thead th {\n",
       "        text-align: right;\n",
       "    }\n",
       "</style>\n",
       "<table border=\"1\" class=\"dataframe\">\n",
       "  <thead>\n",
       "    <tr style=\"text-align: right;\">\n",
       "      <th></th>\n",
       "      <th>Education</th>\n",
       "      <th>Count</th>\n",
       "      <th>Percent</th>\n",
       "    </tr>\n",
       "  </thead>\n",
       "  <tbody>\n",
       "    <tr>\n",
       "      <th>4</th>\n",
       "      <td>Some college/trade school</td>\n",
       "      <td>54</td>\n",
       "      <td>27.41</td>\n",
       "    </tr>\n",
       "    <tr>\n",
       "      <th>5</th>\n",
       "      <td>**Missing</td>\n",
       "      <td>53</td>\n",
       "      <td>26.90</td>\n",
       "    </tr>\n",
       "    <tr>\n",
       "      <th>2</th>\n",
       "      <td>High school/GED</td>\n",
       "      <td>35</td>\n",
       "      <td>17.77</td>\n",
       "    </tr>\n",
       "    <tr>\n",
       "      <th>3</th>\n",
       "      <td>Less than high school</td>\n",
       "      <td>29</td>\n",
       "      <td>14.72</td>\n",
       "    </tr>\n",
       "    <tr>\n",
       "      <th>0</th>\n",
       "      <td>Bachelor's degree</td>\n",
       "      <td>14</td>\n",
       "      <td>7.11</td>\n",
       "    </tr>\n",
       "    <tr>\n",
       "      <th>1</th>\n",
       "      <td>Graduate school/advanced degree</td>\n",
       "      <td>12</td>\n",
       "      <td>6.09</td>\n",
       "    </tr>\n",
       "  </tbody>\n",
       "</table>\n",
       "</div>"
      ],
      "text/plain": [
       "                         Education  Count  Percent\n",
       "4        Some college/trade school     54    27.41\n",
       "5                        **Missing     53    26.90\n",
       "2                  High school/GED     35    17.77\n",
       "3            Less than high school     29    14.72\n",
       "0                Bachelor's degree     14     7.11\n",
       "1  Graduate school/advanced degree     12     6.09"
      ]
     },
     "execution_count": 25,
     "metadata": {},
     "output_type": "execute_result"
    }
   ],
   "source": [
    "series = shooters_df['Education']\n",
    "summary_df = summary_stats(series)\n",
    "summary_df"
   ]
  },
  {
   "cell_type": "code",
   "execution_count": 26,
   "metadata": {},
   "outputs": [
    {
     "data": {
      "text/html": [
       "<div>\n",
       "<style scoped>\n",
       "    .dataframe tbody tr th:only-of-type {\n",
       "        vertical-align: middle;\n",
       "    }\n",
       "\n",
       "    .dataframe tbody tr th {\n",
       "        vertical-align: top;\n",
       "    }\n",
       "\n",
       "    .dataframe thead th {\n",
       "        text-align: right;\n",
       "    }\n",
       "</style>\n",
       "<table border=\"1\" class=\"dataframe\">\n",
       "  <thead>\n",
       "    <tr style=\"text-align: right;\">\n",
       "      <th></th>\n",
       "      <th>Education</th>\n",
       "      <th>Count</th>\n",
       "      <th>Percent</th>\n",
       "    </tr>\n",
       "  </thead>\n",
       "  <tbody>\n",
       "    <tr>\n",
       "      <th>4</th>\n",
       "      <td>Some college/trade school</td>\n",
       "      <td>54</td>\n",
       "      <td>27.41</td>\n",
       "    </tr>\n",
       "    <tr>\n",
       "      <th>5</th>\n",
       "      <td>Unknown</td>\n",
       "      <td>53</td>\n",
       "      <td>26.90</td>\n",
       "    </tr>\n",
       "    <tr>\n",
       "      <th>2</th>\n",
       "      <td>High school/GED</td>\n",
       "      <td>35</td>\n",
       "      <td>17.77</td>\n",
       "    </tr>\n",
       "    <tr>\n",
       "      <th>3</th>\n",
       "      <td>Less than high school</td>\n",
       "      <td>29</td>\n",
       "      <td>14.72</td>\n",
       "    </tr>\n",
       "    <tr>\n",
       "      <th>0</th>\n",
       "      <td>Bachelor's degree</td>\n",
       "      <td>14</td>\n",
       "      <td>7.11</td>\n",
       "    </tr>\n",
       "    <tr>\n",
       "      <th>1</th>\n",
       "      <td>Graduate school/advanced degree</td>\n",
       "      <td>12</td>\n",
       "      <td>6.09</td>\n",
       "    </tr>\n",
       "  </tbody>\n",
       "</table>\n",
       "</div>"
      ],
      "text/plain": [
       "                         Education  Count  Percent\n",
       "4        Some college/trade school     54    27.41\n",
       "5                          Unknown     53    26.90\n",
       "2                  High school/GED     35    17.77\n",
       "3            Less than high school     29    14.72\n",
       "0                Bachelor's degree     14     7.11\n",
       "1  Graduate school/advanced degree     12     6.09"
      ]
     },
     "execution_count": 26,
     "metadata": {},
     "output_type": "execute_result"
    }
   ],
   "source": [
    "shooters_df = shooters_df.fillna({'Education': 'Unknown'})\n",
    "series = shooters_df['Education']\n",
    "summary_df = summary_stats(series)\n",
    "summary_df"
   ]
  },
  {
   "cell_type": "code",
   "execution_count": 27,
   "metadata": {},
   "outputs": [
    {
     "data": {
      "image/png": "[encoded data removed]",
      "text/plain": [
       "<Figure size 1000x400 with 1 Axes>"
      ]
     },
     "metadata": {},
     "output_type": "display_data"
    }
   ],
   "source": [
    "display_feature_hist(summary_df)"
   ]
  },
  {
   "cell_type": "markdown",
   "metadata": {},
   "source": [
    "### Relationship Status\n",
    "Due to the small number of missing data, this is replaced by the mode."
   ]
  },
  {
   "cell_type": "code",
   "execution_count": 28,
   "metadata": {},
   "outputs": [
    {
     "data": {
      "text/html": [
       "<div>\n",
       "<style scoped>\n",
       "    .dataframe tbody tr th:only-of-type {\n",
       "        vertical-align: middle;\n",
       "    }\n",
       "\n",
       "    .dataframe tbody tr th {\n",
       "        vertical-align: top;\n",
       "    }\n",
       "\n",
       "    .dataframe thead th {\n",
       "        text-align: right;\n",
       "    }\n",
       "</style>\n",
       "<table border=\"1\" class=\"dataframe\">\n",
       "  <thead>\n",
       "    <tr style=\"text-align: right;\">\n",
       "      <th></th>\n",
       "      <th>Relationship Status</th>\n",
       "      <th>Count</th>\n",
       "      <th>Percent</th>\n",
       "    </tr>\n",
       "  </thead>\n",
       "  <tbody>\n",
       "    <tr>\n",
       "      <th>3</th>\n",
       "      <td>Single</td>\n",
       "      <td>99</td>\n",
       "      <td>50.25</td>\n",
       "    </tr>\n",
       "    <tr>\n",
       "      <th>1</th>\n",
       "      <td>Divorced/separated/widowed</td>\n",
       "      <td>32</td>\n",
       "      <td>16.24</td>\n",
       "    </tr>\n",
       "    <tr>\n",
       "      <th>2</th>\n",
       "      <td>Married</td>\n",
       "      <td>30</td>\n",
       "      <td>15.23</td>\n",
       "    </tr>\n",
       "    <tr>\n",
       "      <th>0</th>\n",
       "      <td>Boyfriend/girlfriend</td>\n",
       "      <td>28</td>\n",
       "      <td>14.21</td>\n",
       "    </tr>\n",
       "    <tr>\n",
       "      <th>4</th>\n",
       "      <td>**Missing</td>\n",
       "      <td>8</td>\n",
       "      <td>4.06</td>\n",
       "    </tr>\n",
       "  </tbody>\n",
       "</table>\n",
       "</div>"
      ],
      "text/plain": [
       "          Relationship Status  Count  Percent\n",
       "3                      Single     99    50.25\n",
       "1  Divorced/separated/widowed     32    16.24\n",
       "2                     Married     30    15.23\n",
       "0        Boyfriend/girlfriend     28    14.21\n",
       "4                   **Missing      8     4.06"
      ]
     },
     "execution_count": 28,
     "metadata": {},
     "output_type": "execute_result"
    }
   ],
   "source": [
    "series = shooters_df['Relationship Status']\n",
    "summary_df = summary_stats(series)\n",
    "summary_df"
   ]
  },
  {
   "cell_type": "code",
   "execution_count": 29,
   "metadata": {},
   "outputs": [
    {
     "data": {
      "text/html": [
       "<div>\n",
       "<style scoped>\n",
       "    .dataframe tbody tr th:only-of-type {\n",
       "        vertical-align: middle;\n",
       "    }\n",
       "\n",
       "    .dataframe tbody tr th {\n",
       "        vertical-align: top;\n",
       "    }\n",
       "\n",
       "    .dataframe thead th {\n",
       "        text-align: right;\n",
       "    }\n",
       "</style>\n",
       "<table border=\"1\" class=\"dataframe\">\n",
       "  <thead>\n",
       "    <tr style=\"text-align: right;\">\n",
       "      <th></th>\n",
       "      <th>Relationship Status</th>\n",
       "      <th>Count</th>\n",
       "      <th>Percent</th>\n",
       "    </tr>\n",
       "  </thead>\n",
       "  <tbody>\n",
       "    <tr>\n",
       "      <th>3</th>\n",
       "      <td>Single</td>\n",
       "      <td>107</td>\n",
       "      <td>54.31</td>\n",
       "    </tr>\n",
       "    <tr>\n",
       "      <th>1</th>\n",
       "      <td>Divorced/separated/widowed</td>\n",
       "      <td>32</td>\n",
       "      <td>16.24</td>\n",
       "    </tr>\n",
       "    <tr>\n",
       "      <th>2</th>\n",
       "      <td>Married</td>\n",
       "      <td>30</td>\n",
       "      <td>15.23</td>\n",
       "    </tr>\n",
       "    <tr>\n",
       "      <th>0</th>\n",
       "      <td>Boyfriend/girlfriend</td>\n",
       "      <td>28</td>\n",
       "      <td>14.21</td>\n",
       "    </tr>\n",
       "  </tbody>\n",
       "</table>\n",
       "</div>"
      ],
      "text/plain": [
       "          Relationship Status  Count  Percent\n",
       "3                      Single    107    54.31\n",
       "1  Divorced/separated/widowed     32    16.24\n",
       "2                     Married     30    15.23\n",
       "0        Boyfriend/girlfriend     28    14.21"
      ]
     },
     "execution_count": 29,
     "metadata": {},
     "output_type": "execute_result"
    }
   ],
   "source": [
    "# Replace missing values by mode\n",
    "series = shooters_df['Relationship Status']\n",
    "shooters_df.loc[shooters_df['Relationship Status'].isna(), 'Relationship Status'] = series.mode().values[0]\n",
    "summary_df = summary_stats(series)\n",
    "summary_df"
   ]
  },
  {
   "cell_type": "code",
   "execution_count": 30,
   "metadata": {},
   "outputs": [
    {
     "data": {
      "image/png": "[encoded data removed]",
      "text/plain": [
       "<Figure size 1000x400 with 1 Axes>"
      ]
     },
     "metadata": {},
     "output_type": "display_data"
    }
   ],
   "source": [
    "display_feature_hist(summary_df)"
   ]
  },
  {
   "cell_type": "markdown",
   "metadata": {},
   "source": [
    "### Employment Status & Employment Type\n",
    "Because they cover related information, the employment status and types are looked at together. 10 values out of 197 are missing for the employment status, plus 1 value that is specifically indicated as 'Unknown'. Because of their small proportion, these can be replaced by the mode ('Not working'.)\n",
    "\n",
    "However, for the employment type, a total of 32 values are missing (9 where the status was missing and 23 with a status as 'Not working'.) Because the proportion is significant, the missing values are replaced by a new category: 'Unknown'. "
   ]
  },
  {
   "cell_type": "code",
   "execution_count": 31,
   "metadata": {},
   "outputs": [
    {
     "data": {
      "text/html": [
       "<div>\n",
       "<style scoped>\n",
       "    .dataframe tbody tr th:only-of-type {\n",
       "        vertical-align: middle;\n",
       "    }\n",
       "\n",
       "    .dataframe tbody tr th {\n",
       "        vertical-align: top;\n",
       "    }\n",
       "\n",
       "    .dataframe thead th {\n",
       "        text-align: right;\n",
       "    }\n",
       "</style>\n",
       "<table border=\"1\" class=\"dataframe\">\n",
       "  <thead>\n",
       "    <tr style=\"text-align: right;\">\n",
       "      <th></th>\n",
       "      <th></th>\n",
       "      <th>0</th>\n",
       "    </tr>\n",
       "    <tr>\n",
       "      <th>Employment Status</th>\n",
       "      <th>Employment Type</th>\n",
       "      <th></th>\n",
       "    </tr>\n",
       "  </thead>\n",
       "  <tbody>\n",
       "    <tr>\n",
       "      <th rowspan=\"4\" valign=\"top\">No</th>\n",
       "      <th>Blue collar</th>\n",
       "      <td>69</td>\n",
       "    </tr>\n",
       "    <tr>\n",
       "      <th>NaN</th>\n",
       "      <td>23</td>\n",
       "    </tr>\n",
       "    <tr>\n",
       "      <th>In between</th>\n",
       "      <td>11</td>\n",
       "    </tr>\n",
       "    <tr>\n",
       "      <th>White collar</th>\n",
       "      <td>9</td>\n",
       "    </tr>\n",
       "    <tr>\n",
       "      <th>Unknown</th>\n",
       "      <th>Blue collar</th>\n",
       "      <td>1</td>\n",
       "    </tr>\n",
       "    <tr>\n",
       "      <th rowspan=\"3\" valign=\"top\">Yes</th>\n",
       "      <th>Blue collar</th>\n",
       "      <td>54</td>\n",
       "    </tr>\n",
       "    <tr>\n",
       "      <th>In between</th>\n",
       "      <td>12</td>\n",
       "    </tr>\n",
       "    <tr>\n",
       "      <th>White collar</th>\n",
       "      <td>8</td>\n",
       "    </tr>\n",
       "    <tr>\n",
       "      <th rowspan=\"2\" valign=\"top\">NaN</th>\n",
       "      <th>NaN</th>\n",
       "      <td>9</td>\n",
       "    </tr>\n",
       "    <tr>\n",
       "      <th>Blue collar</th>\n",
       "      <td>1</td>\n",
       "    </tr>\n",
       "  </tbody>\n",
       "</table>\n",
       "</div>"
      ],
      "text/plain": [
       "                                    0\n",
       "Employment Status Employment Type    \n",
       "No                Blue collar      69\n",
       "                  NaN              23\n",
       "                  In between       11\n",
       "                  White collar      9\n",
       "Unknown           Blue collar       1\n",
       "Yes               Blue collar      54\n",
       "                  In between       12\n",
       "                  White collar      8\n",
       "NaN               NaN               9\n",
       "                  Blue collar       1"
      ]
     },
     "execution_count": 31,
     "metadata": {},
     "output_type": "execute_result"
    }
   ],
   "source": [
    "pd.DataFrame(shooters_df[['Employment Status','Employment Type']]\n",
    "             .groupby('Employment Status', dropna=False)\n",
    "             .value_counts(dropna=False)\n",
    "             )"
   ]
  },
  {
   "cell_type": "code",
   "execution_count": 32,
   "metadata": {},
   "outputs": [
    {
     "data": {
      "text/plain": [
       "'No'"
      ]
     },
     "execution_count": 32,
     "metadata": {},
     "output_type": "execute_result"
    }
   ],
   "source": [
    "series = shooters_df['Employment Status']\n",
    "series.mode().values[0]"
   ]
  },
  {
   "cell_type": "code",
   "execution_count": 33,
   "metadata": {},
   "outputs": [
    {
     "data": {
      "text/html": [
       "<div>\n",
       "<style scoped>\n",
       "    .dataframe tbody tr th:only-of-type {\n",
       "        vertical-align: middle;\n",
       "    }\n",
       "\n",
       "    .dataframe tbody tr th {\n",
       "        vertical-align: top;\n",
       "    }\n",
       "\n",
       "    .dataframe thead th {\n",
       "        text-align: right;\n",
       "    }\n",
       "</style>\n",
       "<table border=\"1\" class=\"dataframe\">\n",
       "  <thead>\n",
       "    <tr style=\"text-align: right;\">\n",
       "      <th></th>\n",
       "      <th></th>\n",
       "      <th>0</th>\n",
       "    </tr>\n",
       "    <tr>\n",
       "      <th>Employment Status</th>\n",
       "      <th>Employment Type</th>\n",
       "      <th></th>\n",
       "    </tr>\n",
       "  </thead>\n",
       "  <tbody>\n",
       "    <tr>\n",
       "      <th rowspan=\"4\" valign=\"top\">No</th>\n",
       "      <th>Blue collar</th>\n",
       "      <td>71</td>\n",
       "    </tr>\n",
       "    <tr>\n",
       "      <th>Unknown</th>\n",
       "      <td>32</td>\n",
       "    </tr>\n",
       "    <tr>\n",
       "      <th>In between</th>\n",
       "      <td>11</td>\n",
       "    </tr>\n",
       "    <tr>\n",
       "      <th>White collar</th>\n",
       "      <td>9</td>\n",
       "    </tr>\n",
       "    <tr>\n",
       "      <th rowspan=\"3\" valign=\"top\">Yes</th>\n",
       "      <th>Blue collar</th>\n",
       "      <td>54</td>\n",
       "    </tr>\n",
       "    <tr>\n",
       "      <th>In between</th>\n",
       "      <td>12</td>\n",
       "    </tr>\n",
       "    <tr>\n",
       "      <th>White collar</th>\n",
       "      <td>8</td>\n",
       "    </tr>\n",
       "  </tbody>\n",
       "</table>\n",
       "</div>"
      ],
      "text/plain": [
       "                                    0\n",
       "Employment Status Employment Type    \n",
       "No                Blue collar      71\n",
       "                  Unknown          32\n",
       "                  In between       11\n",
       "                  White collar      9\n",
       "Yes               Blue collar      54\n",
       "                  In between       12\n",
       "                  White collar      8"
      ]
     },
     "execution_count": 33,
     "metadata": {},
     "output_type": "execute_result"
    }
   ],
   "source": [
    "# Replace missing employment status by the mode\n",
    "shooters_df.loc[shooters_df['Employment Status'].isna(), 'Employment Status'] = series.mode().values[0]\n",
    "shooters_df.loc[shooters_df['Employment Status'] == 'Unknown', 'Employment Status'] = series.mode().values[0]\n",
    "\n",
    "# Replace missing employment type by the 'Unknown'\n",
    "shooters_df = shooters_df.fillna({'Employment Type': 'Unknown'})\n",
    "\n",
    "pd.DataFrame(shooters_df[['Employment Status','Employment Type']]\n",
    "             .groupby('Employment Status', dropna=False)\n",
    "             .value_counts(dropna=False)\n",
    "             )"
   ]
  },
  {
   "cell_type": "code",
   "execution_count": 34,
   "metadata": {},
   "outputs": [
    {
     "data": {
      "image/png": "[encoded data removed]",
      "text/plain": [
       "<Figure size 1000x400 with 1 Axes>"
      ]
     },
     "metadata": {},
     "output_type": "display_data"
    }
   ],
   "source": [
    "series = shooters_df['Employment Status']\n",
    "summary_df = summary_stats(series)\n",
    "summary_df\n",
    "\n",
    "display_feature_hist(summary_df)"
   ]
  },
  {
   "cell_type": "code",
   "execution_count": 35,
   "metadata": {},
   "outputs": [
    {
     "data": {
      "image/png": "[encoded data removed]",
      "text/plain": [
       "<Figure size 1000x400 with 1 Axes>"
      ]
     },
     "metadata": {},
     "output_type": "display_data"
    }
   ],
   "source": [
    "series = shooters_df['Employment Type']\n",
    "summary_df = summary_stats(series)\n",
    "summary_df\n",
    "\n",
    "display_feature_hist(summary_df)"
   ]
  },
  {
   "cell_type": "markdown",
   "metadata": {},
   "source": [
    "### Military Service\n",
    "No missing values"
   ]
  },
  {
   "cell_type": "code",
   "execution_count": 36,
   "metadata": {},
   "outputs": [
    {
     "data": {
      "text/html": [
       "<div>\n",
       "<style scoped>\n",
       "    .dataframe tbody tr th:only-of-type {\n",
       "        vertical-align: middle;\n",
       "    }\n",
       "\n",
       "    .dataframe tbody tr th {\n",
       "        vertical-align: top;\n",
       "    }\n",
       "\n",
       "    .dataframe thead th {\n",
       "        text-align: right;\n",
       "    }\n",
       "</style>\n",
       "<table border=\"1\" class=\"dataframe\">\n",
       "  <thead>\n",
       "    <tr style=\"text-align: right;\">\n",
       "      <th></th>\n",
       "      <th>Military Service</th>\n",
       "      <th>Count</th>\n",
       "      <th>Percent</th>\n",
       "    </tr>\n",
       "  </thead>\n",
       "  <tbody>\n",
       "    <tr>\n",
       "      <th>0</th>\n",
       "      <td>No</td>\n",
       "      <td>151</td>\n",
       "      <td>76.65</td>\n",
       "    </tr>\n",
       "    <tr>\n",
       "      <th>1</th>\n",
       "      <td>Yes</td>\n",
       "      <td>46</td>\n",
       "      <td>23.35</td>\n",
       "    </tr>\n",
       "  </tbody>\n",
       "</table>\n",
       "</div>"
      ],
      "text/plain": [
       "  Military Service  Count  Percent\n",
       "0               No    151    76.65\n",
       "1              Yes     46    23.35"
      ]
     },
     "execution_count": 36,
     "metadata": {},
     "output_type": "execute_result"
    }
   ],
   "source": [
    "series = shooters_df['Military Service']\n",
    "summary_df = summary_stats(series)\n",
    "summary_df"
   ]
  },
  {
   "cell_type": "code",
   "execution_count": 37,
   "metadata": {},
   "outputs": [
    {
     "data": {
      "text/plain": [
       "<Axes: ylabel='Military Service'>"
      ]
     },
     "execution_count": 37,
     "metadata": {},
     "output_type": "execute_result"
    },
    {
     "data": {
      "image/png": "[encoded data removed]",
      "text/plain": [
       "<Figure size 640x480 with 1 Axes>"
      ]
     },
     "metadata": {},
     "output_type": "display_data"
    }
   ],
   "source": [
    "shooters_df['Military Service'].value_counts().plot.pie()"
   ]
  },
  {
   "cell_type": "markdown",
   "metadata": {},
   "source": [
    "### Previous arrest\n",
    "No missing values"
   ]
  },
  {
   "cell_type": "code",
   "execution_count": 38,
   "metadata": {},
   "outputs": [
    {
     "data": {
      "text/html": [
       "<div>\n",
       "<style scoped>\n",
       "    .dataframe tbody tr th:only-of-type {\n",
       "        vertical-align: middle;\n",
       "    }\n",
       "\n",
       "    .dataframe tbody tr th {\n",
       "        vertical-align: top;\n",
       "    }\n",
       "\n",
       "    .dataframe thead th {\n",
       "        text-align: right;\n",
       "    }\n",
       "</style>\n",
       "<table border=\"1\" class=\"dataframe\">\n",
       "  <thead>\n",
       "    <tr style=\"text-align: right;\">\n",
       "      <th></th>\n",
       "      <th>Arrested</th>\n",
       "      <th>Count</th>\n",
       "      <th>Percent</th>\n",
       "    </tr>\n",
       "  </thead>\n",
       "  <tbody>\n",
       "    <tr>\n",
       "      <th>1</th>\n",
       "      <td>Yes</td>\n",
       "      <td>107</td>\n",
       "      <td>54.31</td>\n",
       "    </tr>\n",
       "    <tr>\n",
       "      <th>0</th>\n",
       "      <td>No</td>\n",
       "      <td>90</td>\n",
       "      <td>45.69</td>\n",
       "    </tr>\n",
       "  </tbody>\n",
       "</table>\n",
       "</div>"
      ],
      "text/plain": [
       "  Arrested  Count  Percent\n",
       "1      Yes    107    54.31\n",
       "0       No     90    45.69"
      ]
     },
     "execution_count": 38,
     "metadata": {},
     "output_type": "execute_result"
    }
   ],
   "source": [
    "series = shooters_df['Arrested']\n",
    "summary_df = summary_stats(series)\n",
    "summary_df"
   ]
  },
  {
   "cell_type": "code",
   "execution_count": 39,
   "metadata": {},
   "outputs": [
    {
     "data": {
      "text/plain": [
       "<Axes: ylabel='Arrested'>"
      ]
     },
     "execution_count": 39,
     "metadata": {},
     "output_type": "execute_result"
    },
    {
     "data": {
      "image/png": "[encoded data removed]",
      "text/plain": [
       "<Figure size 640x480 with 1 Axes>"
      ]
     },
     "metadata": {},
     "output_type": "display_data"
    }
   ],
   "source": [
    "shooters_df['Arrested'].value_counts().plot.pie()"
   ]
  },
  {
   "cell_type": "markdown",
   "metadata": {},
   "source": [
    "### Parental Divorce / Separation\n",
    "Only 1 missing value -> replace by mode"
   ]
  },
  {
   "cell_type": "code",
   "execution_count": 40,
   "metadata": {},
   "outputs": [
    {
     "data": {
      "text/html": [
       "<div>\n",
       "<style scoped>\n",
       "    .dataframe tbody tr th:only-of-type {\n",
       "        vertical-align: middle;\n",
       "    }\n",
       "\n",
       "    .dataframe tbody tr th {\n",
       "        vertical-align: top;\n",
       "    }\n",
       "\n",
       "    .dataframe thead th {\n",
       "        text-align: right;\n",
       "    }\n",
       "</style>\n",
       "<table border=\"1\" class=\"dataframe\">\n",
       "  <thead>\n",
       "    <tr style=\"text-align: right;\">\n",
       "      <th></th>\n",
       "      <th>Parental Divorce / Separation</th>\n",
       "      <th>Count</th>\n",
       "      <th>Percent</th>\n",
       "    </tr>\n",
       "  </thead>\n",
       "  <tbody>\n",
       "    <tr>\n",
       "      <th>0</th>\n",
       "      <td>No evidence</td>\n",
       "      <td>153</td>\n",
       "      <td>77.66</td>\n",
       "    </tr>\n",
       "    <tr>\n",
       "      <th>1</th>\n",
       "      <td>Yes</td>\n",
       "      <td>43</td>\n",
       "      <td>21.83</td>\n",
       "    </tr>\n",
       "    <tr>\n",
       "      <th>2</th>\n",
       "      <td>**Missing</td>\n",
       "      <td>1</td>\n",
       "      <td>0.51</td>\n",
       "    </tr>\n",
       "  </tbody>\n",
       "</table>\n",
       "</div>"
      ],
      "text/plain": [
       "  Parental Divorce / Separation  Count  Percent\n",
       "0                   No evidence    153    77.66\n",
       "1                           Yes     43    21.83\n",
       "2                     **Missing      1     0.51"
      ]
     },
     "execution_count": 40,
     "metadata": {},
     "output_type": "execute_result"
    }
   ],
   "source": [
    "series = shooters_df['Parental Divorce / Separation']\n",
    "summary_df = summary_stats(series)\n",
    "summary_df"
   ]
  },
  {
   "cell_type": "code",
   "execution_count": 41,
   "metadata": {},
   "outputs": [
    {
     "data": {
      "text/html": [
       "<div>\n",
       "<style scoped>\n",
       "    .dataframe tbody tr th:only-of-type {\n",
       "        vertical-align: middle;\n",
       "    }\n",
       "\n",
       "    .dataframe tbody tr th {\n",
       "        vertical-align: top;\n",
       "    }\n",
       "\n",
       "    .dataframe thead th {\n",
       "        text-align: right;\n",
       "    }\n",
       "</style>\n",
       "<table border=\"1\" class=\"dataframe\">\n",
       "  <thead>\n",
       "    <tr style=\"text-align: right;\">\n",
       "      <th></th>\n",
       "      <th>Parental Divorce / Separation</th>\n",
       "      <th>Count</th>\n",
       "      <th>Percent</th>\n",
       "    </tr>\n",
       "  </thead>\n",
       "  <tbody>\n",
       "    <tr>\n",
       "      <th>0</th>\n",
       "      <td>No evidence</td>\n",
       "      <td>154</td>\n",
       "      <td>78.17</td>\n",
       "    </tr>\n",
       "    <tr>\n",
       "      <th>1</th>\n",
       "      <td>Yes</td>\n",
       "      <td>43</td>\n",
       "      <td>21.83</td>\n",
       "    </tr>\n",
       "  </tbody>\n",
       "</table>\n",
       "</div>"
      ],
      "text/plain": [
       "  Parental Divorce / Separation  Count  Percent\n",
       "0                   No evidence    154    78.17\n",
       "1                           Yes     43    21.83"
      ]
     },
     "execution_count": 41,
     "metadata": {},
     "output_type": "execute_result"
    }
   ],
   "source": [
    "# Replace missing values by mode\n",
    "series = shooters_df['Parental Divorce / Separation']\n",
    "shooters_df.loc[shooters_df['Parental Divorce / Separation'].isna(), 'Parental Divorce / Separation'] = series.mode().values[0]\n",
    "summary_df = summary_stats(series)\n",
    "summary_df"
   ]
  },
  {
   "cell_type": "code",
   "execution_count": 42,
   "metadata": {},
   "outputs": [
    {
     "data": {
      "text/plain": [
       "<Axes: ylabel='Parental Divorce / Separation'>"
      ]
     },
     "execution_count": 42,
     "metadata": {},
     "output_type": "execute_result"
    },
    {
     "data": {
      "image/png": "[encoded data removed]",
      "text/plain": [
       "<Figure size 640x480 with 1 Axes>"
      ]
     },
     "metadata": {},
     "output_type": "display_data"
    }
   ],
   "source": [
    "shooters_df['Parental Divorce / Separation'].value_counts().plot.pie()"
   ]
  },
  {
   "cell_type": "markdown",
   "metadata": {},
   "source": [
    "### Childhood SES\n",
    "Large number of missing values -> replace with 'Unknown'"
   ]
  },
  {
   "cell_type": "code",
   "execution_count": 43,
   "metadata": {},
   "outputs": [
    {
     "data": {
      "text/html": [
       "<div>\n",
       "<style scoped>\n",
       "    .dataframe tbody tr th:only-of-type {\n",
       "        vertical-align: middle;\n",
       "    }\n",
       "\n",
       "    .dataframe tbody tr th {\n",
       "        vertical-align: top;\n",
       "    }\n",
       "\n",
       "    .dataframe thead th {\n",
       "        text-align: right;\n",
       "    }\n",
       "</style>\n",
       "<table border=\"1\" class=\"dataframe\">\n",
       "  <thead>\n",
       "    <tr style=\"text-align: right;\">\n",
       "      <th></th>\n",
       "      <th>Childhood SES</th>\n",
       "      <th>Count</th>\n",
       "      <th>Percent</th>\n",
       "    </tr>\n",
       "  </thead>\n",
       "  <tbody>\n",
       "    <tr>\n",
       "      <th>3</th>\n",
       "      <td>**Missing</td>\n",
       "      <td>63</td>\n",
       "      <td>31.98</td>\n",
       "    </tr>\n",
       "    <tr>\n",
       "      <th>1</th>\n",
       "      <td>Middle class</td>\n",
       "      <td>62</td>\n",
       "      <td>31.47</td>\n",
       "    </tr>\n",
       "    <tr>\n",
       "      <th>0</th>\n",
       "      <td>Lower class</td>\n",
       "      <td>53</td>\n",
       "      <td>26.90</td>\n",
       "    </tr>\n",
       "    <tr>\n",
       "      <th>2</th>\n",
       "      <td>Upper class</td>\n",
       "      <td>19</td>\n",
       "      <td>9.64</td>\n",
       "    </tr>\n",
       "  </tbody>\n",
       "</table>\n",
       "</div>"
      ],
      "text/plain": [
       "  Childhood SES  Count  Percent\n",
       "3     **Missing     63    31.98\n",
       "1  Middle class     62    31.47\n",
       "0   Lower class     53    26.90\n",
       "2   Upper class     19     9.64"
      ]
     },
     "execution_count": 43,
     "metadata": {},
     "output_type": "execute_result"
    }
   ],
   "source": [
    "series = shooters_df['Childhood SES']\n",
    "summary_df = summary_stats(series)\n",
    "summary_df"
   ]
  },
  {
   "cell_type": "code",
   "execution_count": 44,
   "metadata": {},
   "outputs": [
    {
     "data": {
      "text/html": [
       "<div>\n",
       "<style scoped>\n",
       "    .dataframe tbody tr th:only-of-type {\n",
       "        vertical-align: middle;\n",
       "    }\n",
       "\n",
       "    .dataframe tbody tr th {\n",
       "        vertical-align: top;\n",
       "    }\n",
       "\n",
       "    .dataframe thead th {\n",
       "        text-align: right;\n",
       "    }\n",
       "</style>\n",
       "<table border=\"1\" class=\"dataframe\">\n",
       "  <thead>\n",
       "    <tr style=\"text-align: right;\">\n",
       "      <th></th>\n",
       "      <th>Childhood SES</th>\n",
       "      <th>Count</th>\n",
       "      <th>Percent</th>\n",
       "    </tr>\n",
       "  </thead>\n",
       "  <tbody>\n",
       "    <tr>\n",
       "      <th>2</th>\n",
       "      <td>Unknown</td>\n",
       "      <td>63</td>\n",
       "      <td>31.98</td>\n",
       "    </tr>\n",
       "    <tr>\n",
       "      <th>1</th>\n",
       "      <td>Middle class</td>\n",
       "      <td>62</td>\n",
       "      <td>31.47</td>\n",
       "    </tr>\n",
       "    <tr>\n",
       "      <th>0</th>\n",
       "      <td>Lower class</td>\n",
       "      <td>53</td>\n",
       "      <td>26.90</td>\n",
       "    </tr>\n",
       "    <tr>\n",
       "      <th>3</th>\n",
       "      <td>Upper class</td>\n",
       "      <td>19</td>\n",
       "      <td>9.64</td>\n",
       "    </tr>\n",
       "  </tbody>\n",
       "</table>\n",
       "</div>"
      ],
      "text/plain": [
       "  Childhood SES  Count  Percent\n",
       "2       Unknown     63    31.98\n",
       "1  Middle class     62    31.47\n",
       "0   Lower class     53    26.90\n",
       "3   Upper class     19     9.64"
      ]
     },
     "execution_count": 44,
     "metadata": {},
     "output_type": "execute_result"
    }
   ],
   "source": [
    "# Replace missing values\n",
    "shooters_df = shooters_df.fillna({'Childhood SES': 'Unknown'})\n",
    "series = shooters_df['Childhood SES']\n",
    "summary_df = summary_stats(series)\n",
    "summary_df"
   ]
  },
  {
   "cell_type": "code",
   "execution_count": 45,
   "metadata": {},
   "outputs": [
    {
     "data": {
      "image/png": "[encoded data removed]",
      "text/plain": [
       "<Figure size 1000x400 with 1 Axes>"
      ]
     },
     "metadata": {},
     "output_type": "display_data"
    }
   ],
   "source": [
    "series = shooters_df['Childhood SES']\n",
    "summary_df = summary_stats(series)\n",
    "display_feature_hist(summary_df)"
   ]
  },
  {
   "cell_type": "markdown",
   "metadata": {},
   "source": [
    "### Mental Illness\n",
    "No missing values"
   ]
  },
  {
   "cell_type": "code",
   "execution_count": 46,
   "metadata": {},
   "outputs": [
    {
     "data": {
      "text/html": [
       "<div>\n",
       "<style scoped>\n",
       "    .dataframe tbody tr th:only-of-type {\n",
       "        vertical-align: middle;\n",
       "    }\n",
       "\n",
       "    .dataframe tbody tr th {\n",
       "        vertical-align: top;\n",
       "    }\n",
       "\n",
       "    .dataframe thead th {\n",
       "        text-align: right;\n",
       "    }\n",
       "</style>\n",
       "<table border=\"1\" class=\"dataframe\">\n",
       "  <thead>\n",
       "    <tr style=\"text-align: right;\">\n",
       "      <th></th>\n",
       "      <th>Mental Illness</th>\n",
       "      <th>Count</th>\n",
       "      <th>Percent</th>\n",
       "    </tr>\n",
       "  </thead>\n",
       "  <tbody>\n",
       "    <tr>\n",
       "      <th>0</th>\n",
       "      <td>No evidence</td>\n",
       "      <td>104</td>\n",
       "      <td>52.79</td>\n",
       "    </tr>\n",
       "    <tr>\n",
       "      <th>1</th>\n",
       "      <td>Yes</td>\n",
       "      <td>93</td>\n",
       "      <td>47.21</td>\n",
       "    </tr>\n",
       "  </tbody>\n",
       "</table>\n",
       "</div>"
      ],
      "text/plain": [
       "  Mental Illness  Count  Percent\n",
       "0    No evidence    104    52.79\n",
       "1            Yes     93    47.21"
      ]
     },
     "execution_count": 46,
     "metadata": {},
     "output_type": "execute_result"
    }
   ],
   "source": [
    "series = shooters_df['Mental Illness']\n",
    "summary_df = summary_stats(series)\n",
    "summary_df"
   ]
  },
  {
   "cell_type": "code",
   "execution_count": 47,
   "metadata": {},
   "outputs": [
    {
     "data": {
      "text/plain": [
       "<Axes: ylabel='Mental Illness'>"
      ]
     },
     "execution_count": 47,
     "metadata": {},
     "output_type": "execute_result"
    },
    {
     "data": {
      "image/png": "[encoded data removed]",
      "text/plain": [
       "<Figure size 640x480 with 1 Axes>"
      ]
     },
     "metadata": {},
     "output_type": "display_data"
    }
   ],
   "source": [
    "shooters_df['Mental Illness'].value_counts().plot.pie()"
   ]
  },
  {
   "cell_type": "markdown",
   "metadata": {},
   "source": [
    "### Known Family Mental Health History\n",
    "No missing values"
   ]
  },
  {
   "cell_type": "code",
   "execution_count": 48,
   "metadata": {},
   "outputs": [
    {
     "data": {
      "text/html": [
       "<div>\n",
       "<style scoped>\n",
       "    .dataframe tbody tr th:only-of-type {\n",
       "        vertical-align: middle;\n",
       "    }\n",
       "\n",
       "    .dataframe tbody tr th {\n",
       "        vertical-align: top;\n",
       "    }\n",
       "\n",
       "    .dataframe thead th {\n",
       "        text-align: right;\n",
       "    }\n",
       "</style>\n",
       "<table border=\"1\" class=\"dataframe\">\n",
       "  <thead>\n",
       "    <tr style=\"text-align: right;\">\n",
       "      <th></th>\n",
       "      <th>Known Family Mental Health History</th>\n",
       "      <th>Count</th>\n",
       "      <th>Percent</th>\n",
       "    </tr>\n",
       "  </thead>\n",
       "  <tbody>\n",
       "    <tr>\n",
       "      <th>0</th>\n",
       "      <td>No evidence</td>\n",
       "      <td>165</td>\n",
       "      <td>83.76</td>\n",
       "    </tr>\n",
       "    <tr>\n",
       "      <th>1</th>\n",
       "      <td>Yes</td>\n",
       "      <td>32</td>\n",
       "      <td>16.24</td>\n",
       "    </tr>\n",
       "  </tbody>\n",
       "</table>\n",
       "</div>"
      ],
      "text/plain": [
       "  Known Family Mental Health History  Count  Percent\n",
       "0                        No evidence    165    83.76\n",
       "1                                Yes     32    16.24"
      ]
     },
     "execution_count": 48,
     "metadata": {},
     "output_type": "execute_result"
    }
   ],
   "source": [
    "series = shooters_df['Known Family Mental Health History']\n",
    "summary_df = summary_stats(series)\n",
    "summary_df"
   ]
  },
  {
   "cell_type": "code",
   "execution_count": 49,
   "metadata": {},
   "outputs": [
    {
     "data": {
      "text/plain": [
       "<Axes: ylabel='Known Family Mental Health History'>"
      ]
     },
     "execution_count": 49,
     "metadata": {},
     "output_type": "execute_result"
    },
    {
     "data": {
      "image/png": "[encoded data removed]",
      "text/plain": [
       "<Figure size 640x480 with 1 Axes>"
      ]
     },
     "metadata": {},
     "output_type": "display_data"
    }
   ],
   "source": [
    "shooters_df['Known Family Mental Health History'].value_counts().plot.pie()"
   ]
  },
  {
   "cell_type": "markdown",
   "metadata": {},
   "source": [
    "### Autism Spectrum\n",
    "No missing values"
   ]
  },
  {
   "cell_type": "code",
   "execution_count": 50,
   "metadata": {},
   "outputs": [
    {
     "data": {
      "text/html": [
       "<div>\n",
       "<style scoped>\n",
       "    .dataframe tbody tr th:only-of-type {\n",
       "        vertical-align: middle;\n",
       "    }\n",
       "\n",
       "    .dataframe tbody tr th {\n",
       "        vertical-align: top;\n",
       "    }\n",
       "\n",
       "    .dataframe thead th {\n",
       "        text-align: right;\n",
       "    }\n",
       "</style>\n",
       "<table border=\"1\" class=\"dataframe\">\n",
       "  <thead>\n",
       "    <tr style=\"text-align: right;\">\n",
       "      <th></th>\n",
       "      <th>Autism Spectrum</th>\n",
       "      <th>Count</th>\n",
       "      <th>Percent</th>\n",
       "    </tr>\n",
       "  </thead>\n",
       "  <tbody>\n",
       "    <tr>\n",
       "      <th>0</th>\n",
       "      <td>No evidence</td>\n",
       "      <td>185</td>\n",
       "      <td>93.91</td>\n",
       "    </tr>\n",
       "    <tr>\n",
       "      <th>1</th>\n",
       "      <td>Yes</td>\n",
       "      <td>12</td>\n",
       "      <td>6.09</td>\n",
       "    </tr>\n",
       "  </tbody>\n",
       "</table>\n",
       "</div>"
      ],
      "text/plain": [
       "  Autism Spectrum  Count  Percent\n",
       "0     No evidence    185    93.91\n",
       "1             Yes     12     6.09"
      ]
     },
     "execution_count": 50,
     "metadata": {},
     "output_type": "execute_result"
    }
   ],
   "source": [
    "series = shooters_df['Autism Spectrum']\n",
    "summary_df = summary_stats(series)\n",
    "summary_df"
   ]
  },
  {
   "cell_type": "code",
   "execution_count": 51,
   "metadata": {},
   "outputs": [
    {
     "data": {
      "text/plain": [
       "<Axes: ylabel='Autism Spectrum'>"
      ]
     },
     "execution_count": 51,
     "metadata": {},
     "output_type": "execute_result"
    },
    {
     "data": {
      "image/png": "[encoded data removed]",
      "text/plain": [
       "<Figure size 640x480 with 1 Axes>"
      ]
     },
     "metadata": {},
     "output_type": "display_data"
    }
   ],
   "source": [
    "shooters_df['Autism Spectrum'].value_counts().plot.pie()"
   ]
  },
  {
   "cell_type": "markdown",
   "metadata": {},
   "source": [
    "### Health Issues\n",
    "No missing values"
   ]
  },
  {
   "cell_type": "code",
   "execution_count": 52,
   "metadata": {},
   "outputs": [
    {
     "data": {
      "text/html": [
       "<div>\n",
       "<style scoped>\n",
       "    .dataframe tbody tr th:only-of-type {\n",
       "        vertical-align: middle;\n",
       "    }\n",
       "\n",
       "    .dataframe tbody tr th {\n",
       "        vertical-align: top;\n",
       "    }\n",
       "\n",
       "    .dataframe thead th {\n",
       "        text-align: right;\n",
       "    }\n",
       "</style>\n",
       "<table border=\"1\" class=\"dataframe\">\n",
       "  <thead>\n",
       "    <tr style=\"text-align: right;\">\n",
       "      <th></th>\n",
       "      <th>Health Issues</th>\n",
       "      <th>Count</th>\n",
       "      <th>Percent</th>\n",
       "    </tr>\n",
       "  </thead>\n",
       "  <tbody>\n",
       "    <tr>\n",
       "      <th>0</th>\n",
       "      <td>No evidence</td>\n",
       "      <td>150</td>\n",
       "      <td>76.14</td>\n",
       "    </tr>\n",
       "    <tr>\n",
       "      <th>1</th>\n",
       "      <td>Yes</td>\n",
       "      <td>47</td>\n",
       "      <td>23.86</td>\n",
       "    </tr>\n",
       "  </tbody>\n",
       "</table>\n",
       "</div>"
      ],
      "text/plain": [
       "  Health Issues  Count  Percent\n",
       "0   No evidence    150    76.14\n",
       "1           Yes     47    23.86"
      ]
     },
     "execution_count": 52,
     "metadata": {},
     "output_type": "execute_result"
    }
   ],
   "source": [
    "series = shooters_df['Health Issues']\n",
    "summary_df = summary_stats(series)\n",
    "summary_df"
   ]
  },
  {
   "cell_type": "code",
   "execution_count": 53,
   "metadata": {},
   "outputs": [
    {
     "data": {
      "text/plain": [
       "<Axes: ylabel='Health Issues'>"
      ]
     },
     "execution_count": 53,
     "metadata": {},
     "output_type": "execute_result"
    },
    {
     "data": {
      "image/png": "[encoded data removed]",
      "text/plain": [
       "<Figure size 640x480 with 1 Axes>"
      ]
     },
     "metadata": {},
     "output_type": "display_data"
    }
   ],
   "source": [
    "shooters_df['Health Issues'].value_counts().plot.pie()"
   ]
  },
  {
   "cell_type": "markdown",
   "metadata": {},
   "source": [
    "## Save DataFrame as a CSV file"
   ]
  },
  {
   "cell_type": "code",
   "execution_count": 54,
   "metadata": {},
   "outputs": [],
   "source": [
    "shooters_df = shooters_df.rename(columns={\n",
    "    'Relationship Status': 'RelStatus',\n",
    "    'Employment Status': 'Employed',\n",
    "    'Employment Type': 'Work',\n",
    "    'Military Service': 'MilService',\n",
    "    'Parental Divorce / Separation': 'ParentDivorce',\n",
    "    'Childhood SES': 'SES',\n",
    "    'Mental Illness': 'MentalIllness',\n",
    "    'Known Family Mental Health History': 'MentalIllnessHistory',\n",
    "    'Autism Spectrum': 'Autism',\n",
    "    'Health Issues': 'HealthIssues'\n",
    "})"
   ]
  },
  {
   "cell_type": "code",
   "execution_count": 55,
   "metadata": {},
   "outputs": [],
   "source": [
    "shooters_df['Classification'] = 1"
   ]
  },
  {
   "cell_type": "code",
   "execution_count": 56,
   "metadata": {},
   "outputs": [
    {
     "data": {
      "text/html": [
       "<div>\n",
       "<style scoped>\n",
       "    .dataframe tbody tr th:only-of-type {\n",
       "        vertical-align: middle;\n",
       "    }\n",
       "\n",
       "    .dataframe tbody tr th {\n",
       "        vertical-align: top;\n",
       "    }\n",
       "\n",
       "    .dataframe thead th {\n",
       "        text-align: right;\n",
       "    }\n",
       "</style>\n",
       "<table border=\"1\" class=\"dataframe\">\n",
       "  <thead>\n",
       "    <tr style=\"text-align: right;\">\n",
       "      <th></th>\n",
       "      <th>Age</th>\n",
       "      <th>Gender</th>\n",
       "      <th>Race</th>\n",
       "      <th>Immigrant</th>\n",
       "      <th>Education</th>\n",
       "      <th>RelStatus</th>\n",
       "      <th>Employed</th>\n",
       "      <th>Work</th>\n",
       "      <th>MilService</th>\n",
       "      <th>Arrested</th>\n",
       "      <th>ParentDivorce</th>\n",
       "      <th>SES</th>\n",
       "      <th>MentalIllness</th>\n",
       "      <th>MentalIllnessHistory</th>\n",
       "      <th>Autism</th>\n",
       "      <th>HealthIssues</th>\n",
       "      <th>Classification</th>\n",
       "    </tr>\n",
       "  </thead>\n",
       "  <tbody>\n",
       "    <tr>\n",
       "      <th>0</th>\n",
       "      <td>25</td>\n",
       "      <td>Male</td>\n",
       "      <td>White</td>\n",
       "      <td>No</td>\n",
       "      <td>Some college/trade school</td>\n",
       "      <td>Married</td>\n",
       "      <td>No</td>\n",
       "      <td>Unknown</td>\n",
       "      <td>Yes</td>\n",
       "      <td>Yes</td>\n",
       "      <td>No evidence</td>\n",
       "      <td>Middle class</td>\n",
       "      <td>Yes</td>\n",
       "      <td>No evidence</td>\n",
       "      <td>No evidence</td>\n",
       "      <td>Yes</td>\n",
       "      <td>1</td>\n",
       "    </tr>\n",
       "    <tr>\n",
       "      <th>1</th>\n",
       "      <td>18</td>\n",
       "      <td>Male</td>\n",
       "      <td>White</td>\n",
       "      <td>No</td>\n",
       "      <td>Less than high school</td>\n",
       "      <td>Single</td>\n",
       "      <td>No</td>\n",
       "      <td>Unknown</td>\n",
       "      <td>No</td>\n",
       "      <td>No</td>\n",
       "      <td>No evidence</td>\n",
       "      <td>Middle class</td>\n",
       "      <td>Yes</td>\n",
       "      <td>No evidence</td>\n",
       "      <td>No evidence</td>\n",
       "      <td>No evidence</td>\n",
       "      <td>1</td>\n",
       "    </tr>\n",
       "  </tbody>\n",
       "</table>\n",
       "</div>"
      ],
      "text/plain": [
       "   Age Gender   Race Immigrant                  Education RelStatus Employed  \\\n",
       "0   25   Male  White        No  Some college/trade school   Married       No   \n",
       "1   18   Male  White        No      Less than high school    Single       No   \n",
       "\n",
       "      Work MilService Arrested ParentDivorce           SES MentalIllness  \\\n",
       "0  Unknown        Yes      Yes   No evidence  Middle class           Yes   \n",
       "1  Unknown         No       No   No evidence  Middle class           Yes   \n",
       "\n",
       "  MentalIllnessHistory       Autism HealthIssues  Classification  \n",
       "0          No evidence  No evidence          Yes               1  \n",
       "1          No evidence  No evidence  No evidence               1  "
      ]
     },
     "execution_count": 56,
     "metadata": {},
     "output_type": "execute_result"
    }
   ],
   "source": [
    "shooters_df.head(2)"
   ]
  },
  {
   "cell_type": "code",
   "execution_count": 57,
   "metadata": {},
   "outputs": [],
   "source": [
    "from pathlib import Path\n",
    "\n",
    "csv_out = Path('../Datasets/clean_data/clean_shooters_v8.csv')\n",
    "shooters_df.to_csv(csv_out, index=False)"
   ]
  },
  {
   "cell_type": "code",
   "execution_count": 58,
   "metadata": {},
   "outputs": [],
   "source": [
    "csv_out = Path('../Model/model_blackbox_shooters_v8.csv')\n",
    "shooters_df.to_csv(csv_out, index=False)"
   ]
  }
 ],
 "metadata": {
  "kernelspec": {
   "display_name": "dev",
   "language": "python",
   "name": "python3"
  },
  "language_info": {
   "codemirror_mode": {
    "name": "ipython",
    "version": 3
   },
   "file_extension": ".py",
   "mimetype": "text/x-python",
   "name": "python",
   "nbconvert_exporter": "python",
   "pygments_lexer": "ipython3",
   "version": "3.10.13"
  }
 },
 "nbformat": 4,
 "nbformat_minor": 2
}
